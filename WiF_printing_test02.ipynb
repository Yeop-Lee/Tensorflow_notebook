{
 "cells": [
  {
   "cell_type": "code",
   "execution_count": 1,
   "metadata": {
    "collapsed": false
   },
   "outputs": [
    {
     "name": "stderr",
     "output_type": "stream",
     "text": [
      "/usr/local/lib/python2.7/dist-packages/matplotlib/font_manager.py:273: UserWarning: Matplotlib is building the font cache using fc-list. This may take a moment.\n",
      "  warnings.warn('Matplotlib is building the font cache using fc-list. This may take a moment.')\n"
     ]
    }
   ],
   "source": [
    "import tensorflow as tf\n",
    "import random\n",
    "import matplotlib.pyplot as plt\n",
    "%matplotlib inline\n",
    "import numpy as np\n",
    "import time\n",
    "import csv"
   ]
  },
  {
   "cell_type": "markdown",
   "metadata": {},
   "source": [
    "# File Name setting"
   ]
  },
  {
   "cell_type": "code",
   "execution_count": 2,
   "metadata": {
    "collapsed": true
   },
   "outputs": [],
   "source": [
    "##tr 0 to 3 is location value\n",
    "filename0_tr = \"wifi_ET_0_1472570446\"\n",
    "filename1_tr = \"wifi_ET_1_1472593839\"\n",
    "filename2_tr = \"wifi_ET_2_1472598476\"\n",
    "filename3_tr = \"wifi_ET_3_1472590170\"\n",
    "\n",
    "##te 0 to 3 is location value\n",
    "filename0_te = \"wifi_ET_0_1472546966\"\n",
    "filename1_te = \"wifi_ET_1_1472554884\"\n",
    "filename2_te = \"wifi_ET_2_1472551231\"\n",
    "filename3_te = \"wifi_ET_3_1472564959\""
   ]
  },
  {
   "cell_type": "markdown",
   "metadata": {},
   "source": [
    "# Variable setting"
   ]
  },
  {
   "cell_type": "code",
   "execution_count": 3,
   "metadata": {
    "collapsed": false
   },
   "outputs": [],
   "source": [
    "location0 = []\n",
    "location1 = []\n",
    "location2 = []\n",
    "location3 = []\n",
    "\n",
    "training_step = 500"
   ]
  },
  {
   "cell_type": "markdown",
   "metadata": {},
   "source": [
    "# Constant variable"
   ]
  },
  {
   "cell_type": "code",
   "execution_count": 4,
   "metadata": {
    "collapsed": true
   },
   "outputs": [],
   "source": [
    "location = []\n",
    "\n",
    "ap_address = []\n",
    "ap_signal = []\n",
    "\n",
    "bi_location = []\n",
    "ap_lev = []\n",
    "ap_lev_times = []\n",
    "selected_ap = []"
   ]
  },
  {
   "cell_type": "markdown",
   "metadata": {},
   "source": [
    "# Function =================================="
   ]
  },
  {
   "cell_type": "markdown",
   "metadata": {},
   "source": [
    "file은 한번 만 읽어서 각 array에 저장한 후에 처리하도록 함(같은 파일을 다시 읽지 않음)"
   ]
  },
  {
   "cell_type": "code",
   "execution_count": 5,
   "metadata": {
    "collapsed": true
   },
   "outputs": [],
   "source": [
    "def read_file(filename,ap_address, ap_signal, location):\n",
    "    filename = \"data/wifi_et/\"+filename+\".csv\"\n",
    "    with open(filename, 'rb') as csvfile:\n",
    "        reader = csv.reader (csvfile, delimiter = ',')\n",
    "        for row in reader:\n",
    "            ap_address.append(row[2])\n",
    "            ap_signal.append(row[3])\n",
    "            location.append(row[4])"
   ]
  },
  {
   "cell_type": "markdown",
   "metadata": {},
   "source": [
    "총 ap_address 들을 구해줌"
   ]
  },
  {
   "cell_type": "code",
   "execution_count": 6,
   "metadata": {
    "collapsed": true
   },
   "outputs": [],
   "source": [
    "def get_ap_lev(ap_address,ap_lev):\n",
    "    for i in range(0,len(ap_address)):\n",
    "        if ap_address[i] not in ap_lev:\n",
    "            ap_lev.append(ap_address[i])\n",
    "    return ap_lev"
   ]
  },
  {
   "cell_type": "markdown",
   "metadata": {},
   "source": [
    "해당 ap가 총 몇 회 불렸는지 확인하는 함수 해당 함수는 get_ap_lev 함수 실행 이후에 돌려야함\n",
    "count함수와 같음"
   ]
  },
  {
   "cell_type": "code",
   "execution_count": 7,
   "metadata": {
    "collapsed": false
   },
   "outputs": [],
   "source": [
    "def get_ap_levtimes(ap_address,ap_lev,ap_lev_times):\n",
    "    ap_lev_times = np.zeros(len(ap_lev),dtype=np.int)\n",
    "    for i in range(0, len(ap_address)):\n",
    "        index = ap_lev.index(ap_address[i])\n",
    "        ap_lev_times[index] += 1\n",
    "    return ap_lev_times"
   ]
  },
  {
   "cell_type": "markdown",
   "metadata": {},
   "source": [
    "ap_signal의 등장횟수가 많은 것을 기준으로 NN에 이용할 AP를 선택하는 함수"
   ]
  },
  {
   "cell_type": "code",
   "execution_count": 8,
   "metadata": {
    "collapsed": true
   },
   "outputs": [],
   "source": [
    "def select_ap_address(data_max,ap_lev, ap_lev_times, selected_ap):\n",
    "    selected_ap_index = []\n",
    "    threshold = data_max *0.90\n",
    "    for i in range(0,len(ap_lev_times)):\n",
    "        if ap_lev_times[i] >= threshold:\n",
    "            selected_ap_index.append(i)\n",
    "    for i in range(0, len(selected_ap_index)):\n",
    "        selected_ap.append(ap_lev[selected_ap_index[i]])\n",
    "    return threshold"
   ]
  },
  {
   "cell_type": "markdown",
   "metadata": {},
   "source": [
    "data의 수가 가장 많은 것을 기준으로, 해당 data의 등장후 다음 등장 이전까지를 하나의 epoch으로 지정\n",
    "\n",
    "위의 흐름대로 진행할 때 데이터 중에서 다른 location 데이터와 함께 들어와 있는 경우, \n",
    "무조건 행에 따라서 data를 나열하면 input(ap_signal)과 output(location)에 혼선이 있을 우려가 있음\n",
    "\n",
    "[0 1 2 0 1 2 0 1] 로 등장하였다고 가정하고, 해당 하는 location 이<br>[5 5 5 5 5 5 5 4] 로 등장하였을 경우, \n",
    "\n",
    "마지막 두 개의 ap_address_index에서 0 1 이 다른 location인 경우가 발생되는 것을 방지하고자 함\n",
    "\n",
    "우선 (location 별로 partition을 생성한 다음)==>raw data는 원래 떨어져 있으므로, 이것을 기준으로 다시 짜도록함.\n",
    "\n",
    "각 파티션 별로 ap selected array를 구현한 다음 다시 합쳐지는 방식을 이용함\n",
    "\n",
    "\n",
    "1. (선택된 ap index) x (data_max) 행렬\n",
    "2. (location) x (data_max) 행렬"
   ]
  },
  {
   "cell_type": "markdown",
   "metadata": {},
   "source": [
    "해당 함수는 selected_ap_signal의 갯수가 4개임을 알고서 하는 것.\n",
    "\n",
    "수정이 요구되나,<br>\n",
    "4개만 있어도 결과값이 잘 나온다면 애초에 셀렉트할때 4개만 해도 무방할 것이라고 판단됨."
   ]
  },
  {
   "cell_type": "code",
   "execution_count": 9,
   "metadata": {
    "collapsed": false
   },
   "outputs": [],
   "source": [
    "def convert_to_selected_ap_array(ap_address,ap_signal,selected_ap,location, data_max):\n",
    "    j = -1\n",
    "    converted_ap_signal = np.zeros((data_max, len(selected_ap)))\n",
    "    converted_location = []\n",
    "    for i in range(0,len(ap_signal)):\n",
    "        if ap_address[i] == selected_ap[0]:\n",
    "            j = j+1\n",
    "            converted_ap_signal[j][0] = ap_signal[i]\n",
    "            converted_location.append(location[i])\n",
    "        elif ap_address[i] == selected_ap[1]:\n",
    "            converted_ap_signal[j][1] = ap_signal[i]\n",
    "        elif ap_address[i] == selected_ap[2]:\n",
    "            converted_ap_signal[j][2] = ap_signal[i]\n",
    "        elif ap_address[i] == selected_ap[3]:\n",
    "            converted_ap_signal[j][3] = ap_signal[i]\n",
    "        else :\n",
    "            continue\n",
    "    return converted_ap_signal, converted_location"
   ]
  },
  {
   "cell_type": "markdown",
   "metadata": {},
   "source": [
    "location을 softmax함수에 이용할 수 있도록 변환 <br>\n",
    "1 => [0,1,0,0]<br>\n",
    "3 => [0,0,0,1] 식으로 변환하는 함수"
   ]
  },
  {
   "cell_type": "code",
   "execution_count": 10,
   "metadata": {
    "collapsed": false
   },
   "outputs": [],
   "source": [
    "def make_location_to_binary_array(data_max,location):\n",
    "    if data_max != len(location):\n",
    "        print \"Miss matched!\"\n",
    "        print data_max + \"!=\" + len(location)\n",
    "        return \n",
    "    \n",
    "    location_num = int(location[np.argmax(location)])\n",
    "    bi_location = np.zeros((data_max,location_num+1), dtype = int)\n",
    "    for i in range(0,data_max):\n",
    "        bi_location[i,location[i]] = 1\n",
    "    return bi_location"
   ]
  },
  {
   "cell_type": "markdown",
   "metadata": {},
   "source": [
    "weight, bias 생성 함수 y = wx + b"
   ]
  },
  {
   "cell_type": "code",
   "execution_count": 11,
   "metadata": {
    "collapsed": true
   },
   "outputs": [],
   "source": [
    "def weight_variable(shape):\n",
    "    initial = tf.truncated_normal(shape, stddev=0.1)\n",
    "    return tf.Variable(initial)\n",
    "\n",
    "def bias_variable(shape):\n",
    "    initial = tf.constant(0.1, shape=shape)\n",
    "    return tf.Variable(initial)"
   ]
  },
  {
   "cell_type": "markdown",
   "metadata": {},
   "source": [
    "# ================================Function End"
   ]
  },
  {
   "cell_type": "markdown",
   "metadata": {},
   "source": [
    "# Training data pre_processing"
   ]
  },
  {
   "cell_type": "markdown",
   "metadata": {},
   "source": [
    "ap의 level과 총 level갯수"
   ]
  },
  {
   "cell_type": "code",
   "execution_count": 12,
   "metadata": {
    "collapsed": false,
    "scrolled": true
   },
   "outputs": [],
   "source": [
    "read_file(filename0_tr,ap_address, ap_signal, location0)\n",
    "read_file(filename1_tr,ap_address, ap_signal, location1)\n",
    "read_file(filename2_tr,ap_address, ap_signal, location2)\n",
    "read_file(filename3_tr,ap_address, ap_signal, location3)\n",
    "\n",
    "read_file(filename0_te,ap_address, ap_signal, location0)\n",
    "read_file(filename1_te,ap_address, ap_signal, location1)\n",
    "read_file(filename2_te,ap_address, ap_signal, location2)\n",
    "read_file(filename3_te,ap_address, ap_signal, location3)\n",
    "location = location0 + location1+ location2+ location3\n",
    "\n",
    "get_ap_lev(ap_address,ap_lev)\n",
    "ap_lev_times = get_ap_levtimes(ap_address,ap_lev,ap_lev_times)\n",
    "data_max = ap_lev_times[np.argmax(ap_lev_times)]\n",
    "threshold = select_ap_address(data_max,ap_lev, ap_lev_times, selected_ap)\n",
    "converted_ap_signal, converted_location = convert_to_selected_ap_array(ap_address,ap_signal,selected_ap,location, data_max)\n",
    "bi_location = make_location_to_binary_array(data_max, converted_location)"
   ]
  },
  {
   "cell_type": "markdown",
   "metadata": {},
   "source": [
    "# Print training values"
   ]
  },
  {
   "cell_type": "code",
   "execution_count": 13,
   "metadata": {
    "collapsed": false
   },
   "outputs": [
    {
     "name": "stdout",
     "output_type": "stream",
     "text": [
      "['00:26:66:d0:c4:dc', '00:27:1c:ea:40:af', '00:23:aa:3d:d9:41', '00:27:1c:08:41:16', '00:01:36:2d:ea:4c', '00:40:5a:db:5e:c9', '08:5d:dd:71:40:b4', '00:07:89:36:e2:ba', '90:9f:33:40:a0:9e', '64:e5:99:6a:ec:24', '00:30:0d:62:4c:24', '00:26:66:78:99:a8', '00:27:1c:3b:0a:53', '00:23:aa:3c:7a:c1', '90:9f:33:f5:73:cc', '00:26:66:76:37:9c', '08:5d:dd:48:92:27', '04:8d:39:36:e5:9d', '08:5d:dd:89:c1:93', 'c8:3a:35:05:ae:e0', '90:9f:33:a5:15:82', '90:9f:33:6d:8e:b6', '64:e5:99:82:5a:21', '90:9f:33:8f:a2:6a', '08:5d:dd:0b:0a:3a', '00:07:89:2b:53:35', '00:25:42:e0:15:58']\n",
      "27\n"
     ]
    }
   ],
   "source": [
    "print get_ap_lev(ap_address, ap_lev)\n",
    "print len(ap_lev)"
   ]
  },
  {
   "cell_type": "code",
   "execution_count": 14,
   "metadata": {
    "collapsed": false,
    "scrolled": true
   },
   "outputs": [
    {
     "name": "stdout",
     "output_type": "stream",
     "text": [
      "[2895 2882 1260 2777 2863  295  558  151  202  109  376  313   44   32  146\n",
      " 1296    4  358  185  110   52  134  336  125    4   10    3]\n",
      "27\n"
     ]
    }
   ],
   "source": [
    "print ap_lev_times\n",
    "print len(ap_lev_times)"
   ]
  },
  {
   "cell_type": "code",
   "execution_count": 15,
   "metadata": {
    "collapsed": false
   },
   "outputs": [
    {
     "name": "stdout",
     "output_type": "stream",
     "text": [
      "2605.5\n",
      "['00:26:66:d0:c4:dc', '00:27:1c:ea:40:af', '00:27:1c:08:41:16', '00:01:36:2d:ea:4c']\n"
     ]
    }
   ],
   "source": [
    "print threshold\n",
    "print selected_ap"
   ]
  },
  {
   "cell_type": "code",
   "execution_count": 16,
   "metadata": {
    "collapsed": false
   },
   "outputs": [
    {
     "name": "stdout",
     "output_type": "stream",
     "text": [
      "2895\n"
     ]
    }
   ],
   "source": [
    "print len(converted_location)"
   ]
  },
  {
   "cell_type": "markdown",
   "metadata": {},
   "source": [
    "# Training data set up"
   ]
  },
  {
   "cell_type": "code",
   "execution_count": 17,
   "metadata": {
    "collapsed": false
   },
   "outputs": [
    {
     "name": "stdout",
     "output_type": "stream",
     "text": [
      "[[-56. -53. -76. -81.]\n",
      " [-54. -55. -76. -88.]\n",
      " [-56. -55. -74. -87.]\n",
      " ..., \n",
      " [-65. -84. -92. -83.]\n",
      " [-67. -86. -89. -87.]\n",
      " [-65. -76. -92. -87.]]\n"
     ]
    }
   ],
   "source": [
    "print converted_ap_signal"
   ]
  },
  {
   "cell_type": "code",
   "execution_count": 18,
   "metadata": {
    "collapsed": false
   },
   "outputs": [
    {
     "name": "stdout",
     "output_type": "stream",
     "text": [
      "[[1 0 0 0]\n",
      " [1 0 0 0]\n",
      " [1 0 0 0]\n",
      " ..., \n",
      " [0 0 0 1]\n",
      " [0 0 0 1]\n",
      " [0 0 0 1]]\n"
     ]
    }
   ],
   "source": [
    "print bi_location"
   ]
  },
  {
   "cell_type": "code",
   "execution_count": 19,
   "metadata": {
    "collapsed": false
   },
   "outputs": [],
   "source": [
    "tr_x = converted_ap_signal"
   ]
  },
  {
   "cell_type": "code",
   "execution_count": 20,
   "metadata": {
    "collapsed": false
   },
   "outputs": [],
   "source": [
    "tr_y = bi_location"
   ]
  },
  {
   "cell_type": "markdown",
   "metadata": {},
   "source": [
    "# Variable reset"
   ]
  },
  {
   "cell_type": "code",
   "execution_count": 21,
   "metadata": {
    "collapsed": true
   },
   "outputs": [],
   "source": [
    "location0 = []\n",
    "location1 = []\n",
    "location2 = []\n",
    "location3 = []\n",
    "ap_signal = []\n",
    "ap_address = []\n",
    "location = []\n",
    "ap_lev = []\n",
    "ap_lev_times = []\n",
    "data_max = 0"
   ]
  },
  {
   "cell_type": "markdown",
   "metadata": {},
   "source": [
    "# Testing data set up"
   ]
  },
  {
   "cell_type": "code",
   "execution_count": 22,
   "metadata": {
    "collapsed": false
   },
   "outputs": [],
   "source": [
    "read_file(filename0_te,ap_address, ap_signal, location0)\n",
    "read_file(filename1_te,ap_address, ap_signal, location1)\n",
    "read_file(filename2_te,ap_address, ap_signal, location2)\n",
    "read_file(filename3_te,ap_address, ap_signal, location3)\n",
    "location = location0 + location1+ location2 + location3\n",
    "\n",
    "get_ap_lev(ap_address,ap_lev)\n",
    "ap_lev_times = get_ap_levtimes(ap_address,ap_lev,ap_lev_times)\n",
    "data_max = ap_lev_times[np.argmax(ap_lev_times)]\n",
    "converted_ap_signal, converted_location = convert_to_selected_ap_array(ap_address,ap_signal,selected_ap,location, data_max)\n",
    "bi_location = make_location_to_binary_array(data_max, converted_location)"
   ]
  },
  {
   "cell_type": "code",
   "execution_count": 23,
   "metadata": {
    "collapsed": false
   },
   "outputs": [
    {
     "name": "stdout",
     "output_type": "stream",
     "text": [
      "[[-48. -59. -59. -66.]\n",
      " [-49. -59. -60. -73.]\n",
      " [-50. -60. -60. -73.]\n",
      " ..., \n",
      " [-65. -84. -92. -83.]\n",
      " [-67. -86. -89. -87.]\n",
      " [-65. -76. -92. -87.]]\n"
     ]
    }
   ],
   "source": [
    "print converted_ap_signal"
   ]
  },
  {
   "cell_type": "code",
   "execution_count": 24,
   "metadata": {
    "collapsed": false
   },
   "outputs": [
    {
     "name": "stdout",
     "output_type": "stream",
     "text": [
      "[[1 0 0 0]\n",
      " [1 0 0 0]\n",
      " [1 0 0 0]\n",
      " ..., \n",
      " [0 0 0 1]\n",
      " [0 0 0 1]\n",
      " [0 0 0 1]]\n"
     ]
    }
   ],
   "source": [
    "print bi_location"
   ]
  },
  {
   "cell_type": "code",
   "execution_count": 25,
   "metadata": {
    "collapsed": false
   },
   "outputs": [],
   "source": [
    "te_x = converted_ap_signal"
   ]
  },
  {
   "cell_type": "code",
   "execution_count": 26,
   "metadata": {
    "collapsed": false
   },
   "outputs": [],
   "source": [
    "te_y = bi_location"
   ]
  },
  {
   "cell_type": "code",
   "execution_count": 27,
   "metadata": {
    "collapsed": false
   },
   "outputs": [
    {
     "name": "stdout",
     "output_type": "stream",
     "text": [
      "['00:26:66:d0:c4:dc', '00:27:1c:ea:40:af', '00:27:1c:08:41:16', '00:01:36:2d:ea:4c']\n",
      "1431\n"
     ]
    }
   ],
   "source": [
    "print selected_ap\n",
    "print data_max"
   ]
  },
  {
   "cell_type": "markdown",
   "metadata": {},
   "source": [
    "# Neural network algorithm : 2 hidden layer, softmax"
   ]
  },
  {
   "cell_type": "code",
   "execution_count": 28,
   "metadata": {
    "collapsed": false
   },
   "outputs": [],
   "source": [
    "location_num = int(location[np.argmax(location)]) + 1 # 0, 1, 2, 3\n",
    "selected_num = len(selected_ap)\n",
    "hidden_dim = selected_num"
   ]
  },
  {
   "cell_type": "code",
   "execution_count": 29,
   "metadata": {
    "collapsed": false
   },
   "outputs": [
    {
     "name": "stdout",
     "output_type": "stream",
     "text": [
      "4\n",
      "4\n"
     ]
    }
   ],
   "source": [
    "print location_num\n",
    "print selected_num"
   ]
  },
  {
   "cell_type": "code",
   "execution_count": 30,
   "metadata": {
    "collapsed": false
   },
   "outputs": [],
   "source": [
    "W = weight_variable([selected_num, hidden_dim])\n",
    "b = bias_variable([hidden_dim])\n",
    "\n",
    "W2 = weight_variable([hidden_dim,location_num])\n",
    "b2 = bias_variable([location_num])\n",
    "\n",
    "X = tf.placeholder(\"float\",[None, selected_num])\n",
    "Y = tf.placeholder(\"float\",[None,location_num])\n",
    "\n",
    "hidden = tf.nn.relu(tf.matmul(X, W)+b)\n",
    "sfmax = tf.nn.softmax(tf.matmul(hidden,W2)+b2)\n",
    "\n",
    "cross_entropy = -tf.reduce_sum(Y*tf.log(sfmax))\n",
    "train = tf.train.AdamOptimizer(1e-2).minimize(cross_entropy)"
   ]
  },
  {
   "cell_type": "code",
   "execution_count": 31,
   "metadata": {
    "collapsed": false
   },
   "outputs": [
    {
     "name": "stdout",
     "output_type": "stream",
     "text": [
      "0.197764\n",
      "0.385045\n",
      "0.301887\n",
      "0.2942\n",
      "0.296296\n",
      "0.29979\n",
      "0.300489\n",
      "0.300489\n",
      "0.300489\n",
      "0.300489\n",
      "0.300489\n",
      "0.300489\n",
      "0.300489\n",
      "0.300489\n",
      "0.300489\n",
      "0.300489\n",
      "0.300489\n",
      "0.300489\n",
      "0.300489\n",
      "0.300489\n",
      "0.300489\n",
      "0.300489\n",
      "0.300489\n",
      "0.300489\n",
      "0.300489\n",
      "0.300489\n",
      "0.300489\n",
      "0.300489\n",
      "0.300489\n",
      "0.300489\n",
      "0.300489\n",
      "0.300489\n",
      "0.300489\n",
      "0.300489\n",
      "0.300489\n",
      "0.300489\n",
      "0.300489\n",
      "0.300489\n",
      "0.300489\n",
      "0.300489\n",
      "0.300489\n",
      "0.300489\n",
      "0.300489\n",
      "0.300489\n",
      "0.300489\n",
      "0.300489\n",
      "0.300489\n",
      "0.300489\n",
      "0.300489\n",
      "0.300489\n",
      "0.300489\n",
      "0.300489\n",
      "0.300489\n",
      "0.300489\n",
      "0.300489\n",
      "0.300489\n",
      "0.300489\n",
      "0.300489\n",
      "0.300489\n",
      "0.300489\n",
      "0.300489\n",
      "0.300489\n",
      "0.300489\n",
      "0.300489\n",
      "0.300489\n",
      "0.300489\n",
      "0.300489\n",
      "0.300489\n",
      "0.300489\n",
      "0.300489\n",
      "0.300489\n",
      "0.300489\n",
      "0.300489\n",
      "0.300489\n",
      "0.300489\n",
      "0.300489\n",
      "0.300489\n",
      "0.300489\n",
      "0.300489\n",
      "0.300489\n",
      "0.300489\n",
      "0.300489\n",
      "0.300489\n",
      "0.300489\n",
      "0.300489\n",
      "0.300489\n",
      "0.300489\n",
      "0.300489\n",
      "0.300489\n",
      "0.300489\n",
      "0.300489\n",
      "0.300489\n",
      "0.300489\n",
      "0.300489\n",
      "0.300489\n",
      "0.300489\n",
      "0.300489\n",
      "0.300489\n",
      "0.300489\n",
      "0.300489\n",
      "0.300489\n",
      "0.300489\n",
      "0.300489\n",
      "0.300489\n",
      "0.300489\n",
      "0.300489\n",
      "0.300489\n",
      "0.300489\n",
      "0.300489\n",
      "0.300489\n",
      "0.300489\n",
      "0.300489\n",
      "0.300489\n",
      "0.300489\n",
      "0.300489\n",
      "0.300489\n",
      "0.300489\n",
      "0.300489\n",
      "0.300489\n",
      "0.300489\n",
      "0.300489\n",
      "0.300489\n",
      "0.300489\n",
      "0.300489\n",
      "0.300489\n",
      "0.300489\n",
      "0.300489\n",
      "0.300489\n",
      "0.300489\n",
      "0.300489\n",
      "0.300489\n",
      "0.300489\n",
      "0.300489\n",
      "0.300489\n",
      "0.300489\n",
      "0.300489\n",
      "0.300489\n",
      "0.300489\n",
      "0.300489\n",
      "0.300489\n",
      "0.300489\n",
      "0.300489\n",
      "0.300489\n",
      "0.300489\n",
      "0.300489\n",
      "0.300489\n",
      "0.300489\n",
      "0.300489\n",
      "0.300489\n",
      "0.300489\n",
      "0.300489\n",
      "0.300489\n",
      "0.300489\n",
      "0.300489\n",
      "0.300489\n",
      "0.300489\n",
      "0.300489\n",
      "0.300489\n",
      "0.300489\n",
      "0.300489\n",
      "0.300489\n",
      "0.300489\n",
      "0.300489\n",
      "0.300489\n",
      "0.300489\n",
      "0.300489\n",
      "0.300489\n",
      "0.300489\n",
      "0.300489\n",
      "0.300489\n",
      "0.300489\n",
      "0.300489\n",
      "0.300489\n",
      "0.300489\n",
      "0.300489\n",
      "0.300489\n",
      "0.300489\n",
      "0.300489\n",
      "0.300489\n",
      "0.300489\n",
      "0.300489\n",
      "0.300489\n",
      "0.300489\n",
      "0.300489\n",
      "0.300489\n",
      "0.300489\n",
      "0.300489\n",
      "0.300489\n",
      "0.300489\n",
      "0.300489\n",
      "0.300489\n",
      "0.300489\n",
      "0.300489\n",
      "0.300489\n",
      "0.300489\n",
      "0.300489\n",
      "0.300489\n",
      "0.300489\n",
      "0.300489\n",
      "0.300489\n",
      "0.300489\n",
      "0.300489\n",
      "0.300489\n",
      "0.300489\n",
      "0.300489\n",
      "0.300489\n",
      "0.300489\n",
      "0.300489\n",
      "0.300489\n",
      "0.300489\n",
      "0.300489\n",
      "0.300489\n",
      "0.300489\n",
      "0.300489\n",
      "0.300489\n",
      "0.300489\n",
      "0.300489\n",
      "0.300489\n",
      "0.300489\n",
      "0.300489\n",
      "0.300489\n",
      "0.300489\n",
      "0.300489\n",
      "0.300489\n",
      "0.300489\n",
      "0.300489\n",
      "0.300489\n",
      "0.300489\n",
      "0.300489\n",
      "0.300489\n",
      "0.300489\n",
      "0.300489\n",
      "0.300489\n",
      "0.300489\n",
      "0.300489\n",
      "0.300489\n",
      "0.300489\n",
      "0.300489\n",
      "0.300489\n",
      "0.300489\n",
      "0.300489\n",
      "0.300489\n",
      "0.300489\n",
      "0.300489\n",
      "0.300489\n",
      "0.300489\n",
      "0.300489\n",
      "0.300489\n",
      "0.300489\n",
      "0.300489\n",
      "0.300489\n",
      "0.300489\n",
      "0.300489\n",
      "0.300489\n",
      "0.300489\n",
      "0.300489\n",
      "0.300489\n",
      "0.300489\n",
      "0.300489\n",
      "0.300489\n",
      "0.300489\n",
      "0.300489\n",
      "0.300489\n",
      "0.300489\n",
      "0.300489\n",
      "0.300489\n",
      "0.300489\n",
      "0.300489\n",
      "0.300489\n",
      "0.300489\n",
      "0.300489\n",
      "0.300489\n",
      "0.300489\n",
      "0.300489\n",
      "0.300489\n",
      "0.300489\n",
      "0.300489\n",
      "0.300489\n",
      "0.300489\n",
      "0.300489\n",
      "0.300489\n",
      "0.300489\n",
      "0.300489\n",
      "0.300489\n",
      "0.300489\n",
      "0.300489\n",
      "0.300489\n",
      "0.300489\n",
      "0.300489\n",
      "0.300489\n",
      "0.300489\n",
      "0.300489\n",
      "0.300489\n",
      "0.300489\n",
      "0.300489\n",
      "0.300489\n",
      "0.300489\n",
      "0.300489\n",
      "0.300489\n",
      "0.300489\n",
      "0.300489\n",
      "0.300489\n",
      "0.300489\n",
      "0.300489\n",
      "0.300489\n",
      "0.300489\n",
      "0.300489\n",
      "0.300489\n",
      "0.300489\n",
      "0.300489\n",
      "0.300489\n",
      "0.300489\n",
      "0.300489\n",
      "0.300489\n",
      "0.300489\n",
      "0.300489\n",
      "0.300489\n",
      "0.300489\n",
      "0.300489\n",
      "0.300489\n",
      "0.300489\n",
      "0.300489\n",
      "0.300489\n",
      "0.300489\n",
      "0.300489\n",
      "0.300489\n",
      "0.300489\n",
      "0.300489\n",
      "0.300489\n",
      "0.300489\n",
      "0.300489\n",
      "0.300489\n",
      "0.300489\n",
      "0.300489\n",
      "0.300489\n",
      "0.300489\n",
      "0.300489\n",
      "0.300489\n",
      "0.300489\n",
      "0.300489\n",
      "0.300489\n",
      "0.300489\n",
      "0.300489\n",
      "0.300489\n",
      "0.300489\n",
      "0.300489\n",
      "0.300489\n",
      "0.300489\n",
      "0.300489\n",
      "0.300489\n",
      "0.300489\n",
      "0.300489\n",
      "0.300489\n",
      "0.300489\n",
      "0.300489\n",
      "0.300489\n",
      "0.300489\n",
      "0.300489\n",
      "0.300489\n",
      "0.300489\n",
      "0.300489\n",
      "0.300489\n",
      "0.300489\n",
      "0.300489\n",
      "0.300489\n",
      "0.300489\n",
      "0.300489\n",
      "0.300489\n",
      "0.300489\n",
      "0.300489\n",
      "0.2942\n",
      "0.2942\n",
      "0.2942\n",
      "0.2942\n",
      "0.2942\n",
      "0.2942\n",
      "0.2942\n",
      "0.2942\n",
      "0.2942\n",
      "0.2942\n",
      "0.2942\n",
      "0.2942\n",
      "0.2942\n",
      "0.2942\n",
      "0.2942\n",
      "0.2942\n",
      "0.2942\n",
      "0.2942\n",
      "0.2942\n",
      "0.2942\n",
      "0.2942\n",
      "0.2942\n",
      "0.2942\n",
      "0.2942\n",
      "0.2942\n",
      "0.2942\n",
      "0.2942\n",
      "0.2942\n",
      "0.2942\n",
      "0.2942\n",
      "0.2942\n",
      "0.2942\n",
      "0.2942\n",
      "0.2942\n",
      "0.2942\n",
      "0.2942\n",
      "0.2942\n",
      "0.2942\n",
      "0.2942\n",
      "0.2942\n",
      "0.2942\n",
      "0.2942\n",
      "0.2942\n",
      "0.2942\n",
      "0.2942\n",
      "0.2942\n",
      "0.2942\n",
      "0.2942\n",
      "0.2942\n",
      "0.2942\n",
      "0.2942\n",
      "0.2942\n",
      "0.2942\n",
      "0.2942\n",
      "0.2942\n",
      "0.2942\n",
      "0.2942\n",
      "0.2942\n",
      "0.2942\n",
      "0.2942\n",
      "0.2942\n",
      "0.2942\n",
      "0.2942\n",
      "0.2942\n",
      "0.2942\n",
      "0.2942\n",
      "0.2942\n",
      "0.2942\n",
      "0.2942\n",
      "0.2942\n",
      "0.2942\n",
      "0.2942\n",
      "0.2942\n",
      "0.2942\n",
      "0.2942\n",
      "0.2942\n",
      "0.2942\n",
      "0.2942\n",
      "0.2942\n",
      "0.2942\n",
      "0.2942\n",
      "0.2942\n",
      "0.2942\n",
      "0.2942\n",
      "0.2942\n",
      "0.2942\n",
      "0.2942\n",
      "0.2942\n",
      "0.2942\n",
      "0.2942\n",
      "0.2942\n",
      "0.2942\n",
      "0.2942\n",
      "0.2942\n",
      "0.2942\n",
      "0.2942\n",
      "0.2942\n",
      "0.2942\n",
      "0.2942\n",
      "0.2942\n",
      "0.2942\n",
      "0.2942\n",
      "0.2942\n",
      "0.2942\n",
      "0.2942\n",
      "0.2942\n",
      "0.2942\n",
      "0.2942\n",
      "0.2942\n",
      "0.2942\n",
      "0.2942\n",
      "0.2942\n",
      "0.2942\n",
      "0.2942\n",
      "0.2942\n",
      "0.2942\n",
      "0.2942\n",
      "0.2942\n",
      "0.2942\n",
      "0.2942\n",
      "0.2942\n",
      "0.2942\n",
      "0.2942\n",
      "0.2942\n",
      "0.2942\n",
      "0.2942\n",
      "0.2942\n",
      "0.2942\n",
      "0.2942\n",
      "0.2942\n"
     ]
    }
   ],
   "source": [
    "sess = tf.Session()\n",
    "sess.run(tf.initialize_all_variables())\n",
    "\n",
    "for step in range(training_step):\n",
    "    sess.run(train, feed_dict = {X: tr_x, Y: tr_y})\n",
    "    correct_prediction = tf.equal(tf.argmax(sfmax,1), tf.argmax(Y,1))\n",
    "    accuracy = tf.reduce_mean(tf.cast(correct_prediction, \"float\"))\n",
    "    print sess.run(accuracy,feed_dict = {X: te_x, Y: te_y})   "
   ]
  },
  {
   "cell_type": "code",
   "execution_count": null,
   "metadata": {
    "collapsed": true
   },
   "outputs": [],
   "source": []
  }
 ],
 "metadata": {
  "kernelspec": {
   "display_name": "Python 2",
   "language": "python",
   "name": "python2"
  },
  "language_info": {
   "codemirror_mode": {
    "name": "ipython",
    "version": 2
   },
   "file_extension": ".py",
   "mimetype": "text/x-python",
   "name": "python",
   "nbconvert_exporter": "python",
   "pygments_lexer": "ipython2",
   "version": "2.7.6"
  }
 },
 "nbformat": 4,
 "nbformat_minor": 0
}
