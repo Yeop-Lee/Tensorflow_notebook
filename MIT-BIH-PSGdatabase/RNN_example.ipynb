{
 "cells": [
  {
   "cell_type": "code",
   "execution_count": 1,
   "metadata": {
    "collapsed": false,
    "scrolled": false
   },
   "outputs": [],
   "source": [
    "import tensorflow as tf\n",
    "from tensorflow.python.ops import rnn, rnn_cell\n",
    "import numpy as np"
   ]
  },
  {
   "cell_type": "code",
   "execution_count": 2,
   "metadata": {
    "collapsed": false
   },
   "outputs": [],
   "source": [
    "char_rdic = ['h','e','l','o'] #id-> char\n",
    "char_dic = {w: i for i, w in enumerate(char_rdic)} # char->id\n",
    "x_data = np.array([[1,0,0,0],[0,1,0,0],[0,0,1,0],[0,0,1,0]],dtype = 'f') #hell\n",
    "\n",
    "sample = [char_dic[c] for c in \"hello\"] # to index"
   ]
  },
  {
   "cell_type": "code",
   "execution_count": 3,
   "metadata": {
    "collapsed": true
   },
   "outputs": [],
   "source": [
    "char_vocab_size = len(char_dic)\n",
    "rnn_size = char_vocab_size # 1 hot coding(one of 4)\n",
    "batch_size = 1 # one sample\n",
    "time_step_size = 4 # 'hell'=>'ello'"
   ]
  },
  {
   "cell_type": "code",
   "execution_count": 4,
   "metadata": {
    "collapsed": false
   },
   "outputs": [],
   "source": [
    "#RNN model  rnn_size = output size, 와파핑프에서는 4개방\n",
    "rnn_cell = rnn_cell.BasicRNNCell(rnn_size) \n",
    "state = tf.zeros([batch_size,rnn_cell.state_size])\n",
    "X_split = tf.split(0,time_step_size, x_data)\n",
    "outputs, state = rnn.rnn(rnn_cell,X_split,state)"
   ]
  },
  {
   "cell_type": "code",
   "execution_count": 5,
   "metadata": {
    "collapsed": false
   },
   "outputs": [],
   "source": [
    "logits = tf.reshape(tf.concat(1,outputs),[-1,rnn_size])\n",
    "targets = tf.reshape(sample[1:],[-1])\n",
    "weights = tf.ones([time_step_size*batch_size])\n",
    "\n",
    "loss = tf.nn.seq2seq.sequence_loss_by_example([logits],[targets],[weights])\n",
    "cost = tf.reduce_sum(loss)/batch_size\n",
    "train_op = tf.train.RMSPropOptimizer(0.01,0.9).minimize(cost)"
   ]
  },
  {
   "cell_type": "code",
   "execution_count": 6,
   "metadata": {
    "collapsed": false
   },
   "outputs": [
    {
     "name": "stdout",
     "output_type": "stream",
     "text": [
      "Tensor(\"Reshape:0\", shape=(4, 4), dtype=float32)\n",
      "Tensor(\"Reshape_1:0\", shape=(4,), dtype=int32)\n",
      "Tensor(\"ones:0\", shape=(4,), dtype=float32)\n"
     ]
    }
   ],
   "source": [
    "print(logits)\n",
    "print(targets)\n",
    "print(weights)"
   ]
  },
  {
   "cell_type": "code",
   "execution_count": 7,
   "metadata": {
    "collapsed": false
   },
   "outputs": [
    {
     "name": "stdout",
     "output_type": "stream",
     "text": [
      "[0 2 1 1] ['h', 'l', 'e', 'e']\n",
      "[0 2 1 1] ['h', 'l', 'e', 'e']\n",
      "[1 2 1 1] ['e', 'l', 'e', 'e']\n",
      "[1 2 1 1] ['e', 'l', 'e', 'e']\n",
      "[1 2 1 1] ['e', 'l', 'e', 'e']\n",
      "[1 2 1 1] ['e', 'l', 'e', 'e']\n",
      "[1 2 1 1] ['e', 'l', 'e', 'e']\n",
      "[1 2 1 1] ['e', 'l', 'e', 'e']\n",
      "[1 2 1 1] ['e', 'l', 'e', 'e']\n",
      "[1 2 1 1] ['e', 'l', 'e', 'e']\n",
      "[1 2 1 1] ['e', 'l', 'e', 'e']\n",
      "[1 2 1 1] ['e', 'l', 'e', 'e']\n",
      "[1 2 1 1] ['e', 'l', 'e', 'e']\n",
      "[1 2 1 1] ['e', 'l', 'e', 'e']\n",
      "[1 2 1 1] ['e', 'l', 'e', 'e']\n",
      "[1 2 1 1] ['e', 'l', 'e', 'e']\n",
      "[1 2 1 1] ['e', 'l', 'e', 'e']\n",
      "[1 2 1 1] ['e', 'l', 'e', 'e']\n",
      "[1 2 1 1] ['e', 'l', 'e', 'e']\n",
      "[1 2 1 1] ['e', 'l', 'e', 'e']\n",
      "[1 2 1 1] ['e', 'l', 'e', 'e']\n",
      "[1 2 1 1] ['e', 'l', 'e', 'e']\n",
      "[1 2 1 1] ['e', 'l', 'e', 'e']\n",
      "[1 2 1 1] ['e', 'l', 'e', 'e']\n",
      "[1 2 1 1] ['e', 'l', 'e', 'e']\n",
      "[1 2 1 3] ['e', 'l', 'e', 'o']\n",
      "[1 2 1 3] ['e', 'l', 'e', 'o']\n",
      "[1 2 1 3] ['e', 'l', 'e', 'o']\n",
      "[1 2 1 3] ['e', 'l', 'e', 'o']\n",
      "[1 2 1 3] ['e', 'l', 'e', 'o']\n",
      "[1 2 2 3] ['e', 'l', 'l', 'o']\n",
      "[1 2 2 3] ['e', 'l', 'l', 'o']\n",
      "[1 2 2 3] ['e', 'l', 'l', 'o']\n",
      "[1 2 2 3] ['e', 'l', 'l', 'o']\n",
      "[1 2 2 3] ['e', 'l', 'l', 'o']\n",
      "[1 2 2 3] ['e', 'l', 'l', 'o']\n",
      "[1 2 2 3] ['e', 'l', 'l', 'o']\n",
      "[1 2 2 3] ['e', 'l', 'l', 'o']\n",
      "[1 2 2 3] ['e', 'l', 'l', 'o']\n",
      "[1 2 2 3] ['e', 'l', 'l', 'o']\n",
      "[1 2 2 3] ['e', 'l', 'l', 'o']\n",
      "[1 2 2 3] ['e', 'l', 'l', 'o']\n",
      "[1 2 2 3] ['e', 'l', 'l', 'o']\n",
      "[1 2 2 3] ['e', 'l', 'l', 'o']\n",
      "[1 2 2 3] ['e', 'l', 'l', 'o']\n",
      "[1 2 2 3] ['e', 'l', 'l', 'o']\n",
      "[1 2 2 3] ['e', 'l', 'l', 'o']\n",
      "[1 2 2 3] ['e', 'l', 'l', 'o']\n",
      "[1 2 2 3] ['e', 'l', 'l', 'o']\n",
      "[1 2 2 3] ['e', 'l', 'l', 'o']\n",
      "[1 2 2 3] ['e', 'l', 'l', 'o']\n",
      "[1 2 2 3] ['e', 'l', 'l', 'o']\n",
      "[1 2 2 3] ['e', 'l', 'l', 'o']\n",
      "[1 2 2 3] ['e', 'l', 'l', 'o']\n",
      "[1 2 2 3] ['e', 'l', 'l', 'o']\n",
      "[1 2 2 3] ['e', 'l', 'l', 'o']\n",
      "[1 2 2 3] ['e', 'l', 'l', 'o']\n",
      "[1 2 2 3] ['e', 'l', 'l', 'o']\n",
      "[1 2 2 3] ['e', 'l', 'l', 'o']\n",
      "[1 2 2 3] ['e', 'l', 'l', 'o']\n",
      "[1 2 2 3] ['e', 'l', 'l', 'o']\n",
      "[1 2 2 3] ['e', 'l', 'l', 'o']\n",
      "[1 2 2 3] ['e', 'l', 'l', 'o']\n",
      "[1 2 2 3] ['e', 'l', 'l', 'o']\n",
      "[1 2 2 3] ['e', 'l', 'l', 'o']\n",
      "[1 2 2 3] ['e', 'l', 'l', 'o']\n",
      "[1 2 2 3] ['e', 'l', 'l', 'o']\n",
      "[1 2 2 3] ['e', 'l', 'l', 'o']\n",
      "[1 2 2 3] ['e', 'l', 'l', 'o']\n",
      "[1 2 2 3] ['e', 'l', 'l', 'o']\n",
      "[1 2 2 3] ['e', 'l', 'l', 'o']\n",
      "[1 2 2 3] ['e', 'l', 'l', 'o']\n",
      "[1 2 2 3] ['e', 'l', 'l', 'o']\n",
      "[1 2 2 3] ['e', 'l', 'l', 'o']\n",
      "[1 2 2 3] ['e', 'l', 'l', 'o']\n",
      "[1 2 2 3] ['e', 'l', 'l', 'o']\n",
      "[1 2 2 3] ['e', 'l', 'l', 'o']\n",
      "[1 2 2 3] ['e', 'l', 'l', 'o']\n",
      "[1 2 2 3] ['e', 'l', 'l', 'o']\n",
      "[1 2 2 3] ['e', 'l', 'l', 'o']\n",
      "[1 2 2 3] ['e', 'l', 'l', 'o']\n",
      "[1 2 2 3] ['e', 'l', 'l', 'o']\n",
      "[1 2 2 3] ['e', 'l', 'l', 'o']\n",
      "[1 2 2 3] ['e', 'l', 'l', 'o']\n",
      "[1 2 2 3] ['e', 'l', 'l', 'o']\n",
      "[1 2 2 3] ['e', 'l', 'l', 'o']\n",
      "[1 2 2 3] ['e', 'l', 'l', 'o']\n",
      "[1 2 2 3] ['e', 'l', 'l', 'o']\n",
      "[1 2 2 3] ['e', 'l', 'l', 'o']\n",
      "[1 2 2 3] ['e', 'l', 'l', 'o']\n",
      "[1 2 2 3] ['e', 'l', 'l', 'o']\n",
      "[1 2 2 3] ['e', 'l', 'l', 'o']\n",
      "[1 2 2 3] ['e', 'l', 'l', 'o']\n",
      "[1 2 2 3] ['e', 'l', 'l', 'o']\n",
      "[1 2 2 3] ['e', 'l', 'l', 'o']\n",
      "[1 2 2 3] ['e', 'l', 'l', 'o']\n",
      "[1 2 2 3] ['e', 'l', 'l', 'o']\n",
      "[1 2 2 3] ['e', 'l', 'l', 'o']\n",
      "[1 2 2 3] ['e', 'l', 'l', 'o']\n",
      "[1 2 2 3] ['e', 'l', 'l', 'o']\n"
     ]
    }
   ],
   "source": [
    "with tf.Session() as sess:\n",
    "    tf.global_variables_initializer().run()\n",
    "    for i in range(100):\n",
    "        sess.run(train_op)\n",
    "        result = sess.run(tf.arg_max(logits,1))\n",
    "        print (result,[char_rdic[t] for t in result])"
   ]
  },
  {
   "cell_type": "code",
   "execution_count": 9,
   "metadata": {
    "collapsed": false
   },
   "outputs": [
    {
     "ename": "ValueError",
     "evalue": "Cannot evaluate tensor using `eval()`: No default session is registered. Use `with sess.as_default()` or pass an explicit session to `eval(session=sess)`",
     "output_type": "error",
     "traceback": [
      "\u001b[0;31m---------------------------------------------------------------------------\u001b[0m",
      "\u001b[0;31mValueError\u001b[0m                                Traceback (most recent call last)",
      "\u001b[0;32m<ipython-input-9-ddc089f6636e>\u001b[0m in \u001b[0;36m<module>\u001b[0;34m()\u001b[0m\n\u001b[0;32m----> 1\u001b[0;31m \u001b[0mprint\u001b[0m\u001b[1;33m(\u001b[0m\u001b[0mtargets\u001b[0m\u001b[1;33m.\u001b[0m\u001b[0meval\u001b[0m\u001b[1;33m(\u001b[0m\u001b[1;33m)\u001b[0m\u001b[1;33m)\u001b[0m\u001b[1;33m\u001b[0m\u001b[0m\n\u001b[0m",
      "\u001b[0;32mC:\\Users\\asym5\\Anaconda3\\lib\\site-packages\\tensorflow\\python\\framework\\ops.py\u001b[0m in \u001b[0;36meval\u001b[0;34m(self, feed_dict, session)\u001b[0m\n\u001b[1;32m    573\u001b[0m \u001b[1;33m\u001b[0m\u001b[0m\n\u001b[1;32m    574\u001b[0m     \"\"\"\n\u001b[0;32m--> 575\u001b[0;31m     \u001b[1;32mreturn\u001b[0m \u001b[0m_eval_using_default_session\u001b[0m\u001b[1;33m(\u001b[0m\u001b[0mself\u001b[0m\u001b[1;33m,\u001b[0m \u001b[0mfeed_dict\u001b[0m\u001b[1;33m,\u001b[0m \u001b[0mself\u001b[0m\u001b[1;33m.\u001b[0m\u001b[0mgraph\u001b[0m\u001b[1;33m,\u001b[0m \u001b[0msession\u001b[0m\u001b[1;33m)\u001b[0m\u001b[1;33m\u001b[0m\u001b[0m\n\u001b[0m\u001b[1;32m    576\u001b[0m \u001b[1;33m\u001b[0m\u001b[0m\n\u001b[1;32m    577\u001b[0m \u001b[1;33m\u001b[0m\u001b[0m\n",
      "\u001b[0;32mC:\\Users\\asym5\\Anaconda3\\lib\\site-packages\\tensorflow\\python\\framework\\ops.py\u001b[0m in \u001b[0;36m_eval_using_default_session\u001b[0;34m(tensors, feed_dict, graph, session)\u001b[0m\n\u001b[1;32m   3617\u001b[0m     \u001b[0msession\u001b[0m \u001b[1;33m=\u001b[0m \u001b[0mget_default_session\u001b[0m\u001b[1;33m(\u001b[0m\u001b[1;33m)\u001b[0m\u001b[1;33m\u001b[0m\u001b[0m\n\u001b[1;32m   3618\u001b[0m     \u001b[1;32mif\u001b[0m \u001b[0msession\u001b[0m \u001b[1;32mis\u001b[0m \u001b[1;32mNone\u001b[0m\u001b[1;33m:\u001b[0m\u001b[1;33m\u001b[0m\u001b[0m\n\u001b[0;32m-> 3619\u001b[0;31m       raise ValueError(\"Cannot evaluate tensor using `eval()`: No default \"\n\u001b[0m\u001b[1;32m   3620\u001b[0m                        \u001b[1;34m\"session is registered. Use `with \"\u001b[0m\u001b[1;33m\u001b[0m\u001b[0m\n\u001b[1;32m   3621\u001b[0m                        \u001b[1;34m\"sess.as_default()` or pass an explicit session to \"\u001b[0m\u001b[1;33m\u001b[0m\u001b[0m\n",
      "\u001b[0;31mValueError\u001b[0m: Cannot evaluate tensor using `eval()`: No default session is registered. Use `with sess.as_default()` or pass an explicit session to `eval(session=sess)`"
     ]
    }
   ],
   "source": []
  },
  {
   "cell_type": "code",
   "execution_count": null,
   "metadata": {
    "collapsed": true
   },
   "outputs": [],
   "source": []
  }
 ],
 "metadata": {
  "anaconda-cloud": {},
  "kernelspec": {
   "display_name": "Python [default]",
   "language": "python",
   "name": "python3"
  },
  "language_info": {
   "codemirror_mode": {
    "name": "ipython",
    "version": 3
   },
   "file_extension": ".py",
   "mimetype": "text/x-python",
   "name": "python",
   "nbconvert_exporter": "python",
   "pygments_lexer": "ipython3",
   "version": "3.5.2"
  }
 },
 "nbformat": 4,
 "nbformat_minor": 1
}
