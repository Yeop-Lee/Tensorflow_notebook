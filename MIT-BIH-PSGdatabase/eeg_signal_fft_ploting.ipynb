{
 "cells": [
  {
   "cell_type": "markdown",
   "metadata": {},
   "source": [
    "## 절대로 전체 실행 누르지 말것"
   ]
  },
  {
   "cell_type": "code",
   "execution_count": 1,
   "metadata": {
    "collapsed": false
   },
   "outputs": [],
   "source": [
    "import tensorflow as tf\n",
    "import matplotlib.pyplot as plt\n",
    "%matplotlib inline\n",
    "import numpy as np\n",
    "import itertools\n",
    "import scipy.io as sio\n",
    "from tensorflow.python.ops import rnn, rnn_cell\n",
    "#np.set_printoptions(threshold=np.inf)\n",
    "import csv"
   ]
  },
  {
   "cell_type": "code",
   "execution_count": 2,
   "metadata": {
    "collapsed": true
   },
   "outputs": [],
   "source": [
    "slp03_matfile = \"slp03m\"\n",
    "slp03_annotationfile = \"slp03_annotation\""
   ]
  },
  {
   "cell_type": "code",
   "execution_count": 3,
   "metadata": {
    "collapsed": true
   },
   "outputs": [],
   "source": [
    "#variables for sensor data\n",
    "ecg = []\n",
    "bp = []\n",
    "eeg = []\n",
    "resp = []\n",
    "\n",
    "#variables for annotation data\n",
    "time = []\n",
    "sample_num = []\n",
    "sleep_stage = []"
   ]
  },
  {
   "cell_type": "code",
   "execution_count": 4,
   "metadata": {
    "collapsed": false
   },
   "outputs": [],
   "source": [
    "def read_mat(filename, num_data,ecg, bp, eeg, resp):\n",
    "    mat_contents = sio.loadmat('data/'+filename+'.mat')\n",
    "    val = mat_contents['val']\n",
    "    ecg.append(val[0])\n",
    "    bp.append(val[1])\n",
    "    eeg.append(val[2])\n",
    "    resp.append(val[3])\n",
    "    for i in range(1,num_data):\n",
    "        mat_contents = sio.loadmat('data/'+filename+' (%d).mat'% i)\n",
    "        val = mat_contents['val']\n",
    "        ecg.append(val[0])\n",
    "        bp.append(val[1])\n",
    "        eeg.append(val[2])\n",
    "        resp.append(val[3])"
   ]
  },
  {
   "cell_type": "code",
   "execution_count": 6,
   "metadata": {
    "collapsed": true
   },
   "outputs": [],
   "source": [
    "def read_anno(filename, time, sample_num, sleep_stage):\n",
    "    filename = \"data/\"+filename+\".csv\"\n",
    "    with open(filename,newline='',encoding = 'utf-8') as csvfile:\n",
    "        reader = csv.reader (csvfile)\n",
    "        next(reader, None)\n",
    "        for row in reader:\n",
    "            time.append(row[0])\n",
    "            sample_num.append(int(row[1]))\n",
    "            sleep_stage.append(row[6])"
   ]
  },
  {
   "cell_type": "code",
   "execution_count": 8,
   "metadata": {
    "collapsed": true
   },
   "outputs": [],
   "source": [
    "def init_weights(shape):\n",
    "    return tf.Variable(tf.random_normal(shape, stddev=0.01))"
   ]
  },
  {
   "cell_type": "code",
   "execution_count": 9,
   "metadata": {
    "collapsed": false
   },
   "outputs": [],
   "source": [
    "read_mat(slp03_matfile, 6, ecg, bp, eeg, resp)"
   ]
  },
  {
   "cell_type": "code",
   "execution_count": 10,
   "metadata": {
    "collapsed": true
   },
   "outputs": [],
   "source": [
    "ecg = list(itertools.chain(*ecg))\n",
    "bp = list(itertools.chain(*bp))\n",
    "eeg = list(itertools.chain(*eeg))\n",
    "resp = list(itertools.chain(*resp))"
   ]
  },
  {
   "cell_type": "code",
   "execution_count": 11,
   "metadata": {
    "collapsed": false
   },
   "outputs": [],
   "source": [
    "#30초마다 한번씩 샘플링됨\n",
    "read_anno(slp03_annotationfile, time, sample_num, sleep_stage)"
   ]
  },
  {
   "cell_type": "code",
   "execution_count": 12,
   "metadata": {
    "collapsed": false
   },
   "outputs": [
    {
     "name": "stdout",
     "output_type": "stream",
     "text": [
      "['2', '2', '2', '2', 'W', '1', 'W', '1', '1', '1', '1', 'W', '1', '1', 'W', 'W', '1', '1', '1', '1', '1', '1', '2', '2', '2', '1', '1', '1', '1', '1', '1', '1', '2', '2', '2', '2', '2', '2', '2', '2', '2', '2', '2', '2', '2', '2', '2', '2', '2', '2', '2', '2', '2', '2', '2', '2', '2', '2', '2', '2', '2', '2', '2', '2', '2', '2', '2', '2', '2', '2', '2', '2', '2', '2', '2', '2', '2', '2', '2', 'R', 'W', '1', '1', 'R', 'R', 'R', 'R', 'R', '1', 'R', 'R', 'R', 'R', '1', 'R', 'R', 'R', 'R', 'R', 'R', 'R', 'R', 'R', '1', '1', 'R', '1', 'R', 'R', '1', 'R', 'R', 'R', '1', '1', '1', 'R', 'R', 'R', '1', 'R', '1', 'R', '1', '1', 'R', '1', 'R', 'R', 'R', 'R', '1', '1', '1', '1', '1', '1', '2', '2', '2', '2', '1', '2', '2', '2', '2', '2', '1', '2', '2', '1', '2', '2', '1', '1', 'W', 'W', 'W', 'W', 'W', 'W', 'W', 'W', 'W', 'W', 'W', 'W', 'W', 'W', 'W', 'W', 'W', 'W', 'W', 'W', 'W', 'W', 'W', 'W', 'W', 'W', 'W', 'W', 'W', 'W', 'W', 'W', 'W', 'W', 'W', 'W', 'W', 'W', 'W', '1', '1', '1', '1', '1', '1', '1', '1', '2', '2', '2', '2', '2', '2', '2', '2', '2', '2', '2', '2', '2', '2', '2', '2', '2', '2', '2', '2', '2', '2', '2', '2', '2', '2', '2', '2', '2', '3', '3', '3', '3', '3', '3', '3', '3', '3', '3', '3', '3', '3', '3', '3', '2', '2', '2', '2', '2', '2', '2', '3', '3', '3', '3', '3', '3', '3', '3', '3', '3', '3', '3', '3', '3', '3', '3', '3', '3', '3', '3', '3', '3', '3', '3', '3', '3', '3', '3', '3', '3', '3', '3', '3', '3', '3', '3', '3', '3', '3', '3', '2', '2', '3', '2', '2', 'W', '1', '2', '2', '2', '2', '2', '2', 'R', 'R', 'R', 'R', 'R', 'R', 'R', 'R', '1', 'R', 'R', 'R', 'R', 'R', 'R', 'R', 'R', 'R', 'R', 'R', 'R', 'R', 'R', 'R', 'R', 'R', 'R', 'R', '1', 'R', 'R', 'W', 'W', 'W', 'W', 'W', 'W', 'W', 'W', 'W', 'W', 'W', 'W', 'W', 'W', '1', '1', '1', '1', '1', '1', '2', '2', '2', '2', '2', '2', '2', '2', '2', '2', '2', '2', '2', '2', '2', '2', '2', '2', '2', '2', '2', '1', '2', '2', '2', '2', '2', '2', '2', '2', '2', '2', '2', '2', '2', '2', '2', '2', '2', '2', '2', '2', '2', '2', '2', '2', '2', '2', '2', '2', '2', '2', '2', '2', '2', '2', '2', '2', '2', '2', '3', '3', '3', '3', '3', '3', '3', '3', '3', '3', '3', '3', '3', '3', '3', '3', '3', '3', '3', '3', '3', '3', '2', '2', '2', '2', '2', '2', '1', 'W', 'W', 'W', 'W', 'W', 'W', 'W', 'W', 'W', 'W', 'W', 'W', 'W', 'W', 'W', 'W', 'W', 'W', 'W', 'W', 'W', 'W', 'W', 'W', 'W', 'W', 'W', 'W', 'W', 'W', 'W', 'W', 'W', 'W', 'W', 'W', 'W', 'W', 'W', 'W', 'W', 'W', 'W', 'W', 'W', 'W', 'W', 'W', 'W', '1', '1', '1', '1', '1', '1', '2', '2', '2', '2', '2', '2', '2', '2', 'R', 'R', 'R', 'R', 'R', 'R', 'R', '1', 'R', '1', 'R', 'W', '1', '2', 'W', '1', '2', '2', '2', '2', '2', '2', '2', 'W', '2', '2', '2', '2', '2', '2', '2', '2', '2', '2', '2', '2', '2', '2', '2', '2', 'W', '1', '2', '2', '2', '2', '2', '1', '2', '2', '2', '2', '2', '2', '2', '2', '2', '2', '2', '2', '2', '2', '2', 'W', 'W', 'W', 'W', 'W', '1', '1', '2', '1', 'W', 'W', '1', '1', '2', '2', '2', '2', '2', '2', '2', '2', '2', '2', '1', '1', '2', '2', '2', '2', '2', '2', '2', '2', 'W', '1', '2', '2', '2', '2', '2', '2', '2', '2', '2', 'W', '2', '2', '2', '2', '2', '1', '2', '2', '2', '2', '2', '2', 'W', '1', '1', '2', '1', '1', '2', '2', '2', '2', '2', '2', '2', '2', '2', '2', '2', '2', 'W', '1', '1', '2', '1', '2', '2', '2', '2', 'W', '2', '2', '2', '2', '2', 'W', 'W', 'W', 'W', 'W', 'W', 'W', 'W', 'W', '1', '1', '1', '1', '1', '2', '2', '2', '2', '2', '2', 'W', '1', '1', '2', '2', '2', '2', 'W', 'W', '1', '1', '1', '2', 'R', 'W', 'W', 'W', 'W', '1', 'W', 'W', 'W', 'W', 'W', 'W', 'W', 'W', 'W', 'W']\n",
      "711\n"
     ]
    }
   ],
   "source": [
    "print(sleep_stage)\n",
    "print(len(sleep_stage))"
   ]
  },
  {
   "cell_type": "code",
   "execution_count": 13,
   "metadata": {
    "collapsed": false,
    "scrolled": true
   },
   "outputs": [
    {
     "name": "stdout",
     "output_type": "stream",
     "text": [
      "5392500\n",
      "60000\n"
     ]
    },
    {
     "data": {
      "text/plain": [
       "5332500"
      ]
     },
     "execution_count": 13,
     "metadata": {},
     "output_type": "execute_result"
    }
   ],
   "source": [
    "print(sample_num[-1])\n",
    "print(sample_num[0]-7500)\n",
    "sample_num[-1]-(sample_num[0]-7500)"
   ]
  },
  {
   "cell_type": "code",
   "execution_count": 14,
   "metadata": {
    "collapsed": false
   },
   "outputs": [],
   "source": [
    "def convert_to_quarter_size(ecg, bp, eeg,resp, sampling_num):\n",
    "    temp_ecg = [ecg[4*i+sampling_num] for i in range(0,int(len(ecg)/4))]\n",
    "    temp_bp = [bp[4*i+sampling_num] for i in range(0,int(len(bp)/4))]\n",
    "    temp_eeg = [eeg[4*i+sampling_num] for i in range(0,int(len(eeg)/4))]\n",
    "    temp_resp = [resp[4*i+sampling_num] for i in range(0,int(len(resp)/4))]\n",
    "    return temp_ecg, temp_bp, temp_eeg, temp_resp"
   ]
  },
  {
   "cell_type": "code",
   "execution_count": 15,
   "metadata": {
    "collapsed": true
   },
   "outputs": [],
   "source": [
    "def sync_sample(sample_num, ecg, bp, eeg, resp):\n",
    "    temp_ecg = ecg[sample_num[0]-7500:sample_num[-1]]\n",
    "    temp_bp = bp[sample_num[0]-7500:sample_num[-1]]\n",
    "    temp_eeg = eeg[sample_num[0]-7500:sample_num[-1]]\n",
    "    temp_resp = resp[sample_num[0]-7500:sample_num[-1]]\n",
    "    return temp_ecg, temp_bp, temp_eeg, temp_resp"
   ]
  },
  {
   "cell_type": "code",
   "execution_count": 16,
   "metadata": {
    "collapsed": true
   },
   "outputs": [],
   "source": [
    "ecg, bp, eeg, resp = sync_sample(sample_num, ecg, bp, eeg, resp)\n",
    "q0_ecg,q0_bp,q0_eeg,q0_resp = convert_to_quarter_size(ecg, bp, eeg, resp, 0)\n",
    "q1_ecg,q1_bp,q1_eeg,q1_resp = convert_to_quarter_size(ecg, bp, eeg, resp, 1)\n",
    "q2_ecg,q2_bp,q2_eeg,q2_resp = convert_to_quarter_size(ecg, bp, eeg, resp, 2)\n",
    "q3_ecg,q3_bp,q3_eeg,q3_resp = convert_to_quarter_size(ecg, bp, eeg, resp, 3)"
   ]
  },
  {
   "cell_type": "code",
   "execution_count": 17,
   "metadata": {
    "collapsed": false
   },
   "outputs": [
    {
     "name": "stdout",
     "output_type": "stream",
     "text": [
      "5332500\n",
      "1333125\n",
      "1333125\n",
      "1333125\n",
      "1333125\n"
     ]
    }
   ],
   "source": [
    "print(len(ecg))\n",
    "print(len(q0_ecg))\n",
    "print(len(q1_bp))\n",
    "print(len(q2_eeg))\n",
    "print(len(q3_resp))"
   ]
  },
  {
   "cell_type": "code",
   "execution_count": 18,
   "metadata": {
    "collapsed": true
   },
   "outputs": [],
   "source": [
    "def pool_data(q0,q1,q2,q3):\n",
    "    return q0+q1+q2+q3"
   ]
  },
  {
   "cell_type": "code",
   "execution_count": 19,
   "metadata": {
    "collapsed": false
   },
   "outputs": [],
   "source": [
    "def zip_sensor(ecg, bp, eeg, resp):\n",
    "    return [list(i) for i in zip(ecg, bp, eeg, resp)]"
   ]
  },
  {
   "cell_type": "code",
   "execution_count": 20,
   "metadata": {
    "collapsed": true
   },
   "outputs": [],
   "source": [
    "input_ecg = pool_data(q0_ecg,q1_ecg,q2_ecg,q3_ecg)\n",
    "input_bp = pool_data(q0_bp,q1_bp,q2_bp,q3_bp)\n",
    "input_eeg = pool_data(q0_eeg,q1_eeg,q2_eeg,q3_eeg)\n",
    "input_resp = pool_data(q0_resp,q1_resp,q2_resp,q3_resp)\n",
    "input_sleep_stage = pool_data(sleep_stage,sleep_stage,sleep_stage,sleep_stage)"
   ]
  },
  {
   "cell_type": "code",
   "execution_count": 65,
   "metadata": {
    "collapsed": false
   },
   "outputs": [
    {
     "data": {
      "image/png": "[encoded data removed]",
      "text/plain": [
       "<matplotlib.figure.Figure at 0x1794d27be80>"
      ]
     },
     "metadata": {},
     "output_type": "display_data"
    },
    {
     "name": "stdout",
     "output_type": "stream",
     "text": [
      "2\n"
     ]
    }
   ],
   "source": [
    "temp = np.array(q0_eeg[:1875])\n",
    "sp = np.fft.fft(temp)\n",
    "freq = np.fft.fftfreq(temp.shape[-1], 1/62.5)\n",
    "plt.plot(freq,sp.real, freq, sp.imag)\n",
    "plt.show()\n",
    "print(sleep_stage[0])"
   ]
  },
  {
   "cell_type": "code",
   "execution_count": 78,
   "metadata": {
    "collapsed": false
   },
   "outputs": [
    {
     "data": {
      "image/png": "[encoded data removed]",
      "text/plain": [
       "<matplotlib.figure.Figure at 0x179479112b0>"
      ]
     },
     "metadata": {},
     "output_type": "display_data"
    }
   ],
   "source": [
    "amp = np.abs(sp)\n",
    "plt.plot(freq, amp, 'b.')\n",
    "plt.show()"
   ]
  },
  {
   "cell_type": "code",
   "execution_count": 67,
   "metadata": {
    "collapsed": false
   },
   "outputs": [
    {
     "name": "stdout",
     "output_type": "stream",
     "text": [
      "[ 0.          0.03333333  0.06666667 ..., -0.1        -0.06666667\n",
      " -0.03333333]\n"
     ]
    }
   ],
   "source": [
    "print(freq)"
   ]
  },
  {
   "cell_type": "code",
   "execution_count": 79,
   "metadata": {
    "collapsed": true
   },
   "outputs": [],
   "source": [
    "for i in range(0,len(sleep_stage)):\n",
    "    temp = np.array(q0_eeg[1875*i:1875*(i+1)])\n",
    "    \n",
    "    plt.subplot(211)\n",
    "    plt.plot(temp,'g-')\n",
    "    plt.axis([0, 1900, -500, 500])\n",
    "    plt.xlabel('EEG_index(*4)')\n",
    "    plt.ylabel('EEG_code')\n",
    "    \n",
    "    plt.subplot(212)\n",
    "    sp = np.fft.fft(temp)\n",
    "    freq = np.fft.fftfreq(temp.shape[-1], 1/62.5)\n",
    "    amp = np.abs(sp)\n",
    "    plt.plot(freq, amp,'b.')\n",
    "    plt.axis([-35, 35, 0, 10000])\n",
    "    plt.xlabel('freq. sleep stage : '+sleep_stage[i])\n",
    "    plt.ylabel('spectrum')\n",
    "    plt.savefig('fft/sleep stage_'+sleep_stage[i]+'_'+str(i)+'.png', dpi = 300)\n",
    "    plt.close()"
   ]
  },
  {
   "cell_type": "code",
   "execution_count": null,
   "metadata": {
    "collapsed": true
   },
   "outputs": [],
   "source": []
  }
 ],
 "metadata": {
  "anaconda-cloud": {},
  "kernelspec": {
   "display_name": "Python [default]",
   "language": "python",
   "name": "python3"
  },
  "language_info": {
   "codemirror_mode": {
    "name": "ipython",
    "version": 3
   },
   "file_extension": ".py",
   "mimetype": "text/x-python",
   "name": "python",
   "nbconvert_exporter": "python",
   "pygments_lexer": "ipython3",
   "version": "3.5.2"
  }
 },
 "nbformat": 4,
 "nbformat_minor": 1
}
