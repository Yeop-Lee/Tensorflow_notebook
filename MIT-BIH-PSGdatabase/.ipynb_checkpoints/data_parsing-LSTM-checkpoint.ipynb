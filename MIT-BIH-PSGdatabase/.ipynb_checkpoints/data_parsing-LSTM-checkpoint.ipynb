{
 "cells": [
  {
   "cell_type": "code",
   "execution_count": 2,
   "metadata": {
    "collapsed": false
   },
   "outputs": [],
   "source": [
    "import tensorflow as tf\n",
    "import matplotlib.pyplot as plt\n",
    "%matplotlib inline\n",
    "import numpy as np\n",
    "import itertools\n",
    "import scipy.io as sio\n",
    "#np.set_printoptions(threshold=np.inf)\n",
    "import csv"
   ]
  },
  {
   "cell_type": "code",
   "execution_count": 2,
   "metadata": {
    "collapsed": true
   },
   "outputs": [],
   "source": [
    "slp03_matfile = \"slp03m\""
   ]
  },
  {
   "cell_type": "code",
   "execution_count": null,
   "metadata": {
    "collapsed": true
   },
   "outputs": [],
   "source": [
    "input_vec_size = lstm_size = 4 # ECG, BP, EEG, Resp\n",
    "time_step_size = 1*250*30 # 250sample/sec *30sec \n",
    "batch_size = 1 # 1dimension\n",
    "test_size = "
   ]
  },
  {
   "cell_type": "code",
   "execution_count": null,
   "metadata": {
    "collapsed": true
   },
   "outputs": [],
   "source": [
    "def init_weights(shape):\n",
    "    return tf.Variable(tf.random_normal(shape,stddev=0.01))\n",
    "\n",
    "def model(X, W, B, lstm_size):\n",
    "    # X, input shape: (batch_size, time_step_size, input_vec_size)\n",
    "    XT = tf.transpose(X, [1, 0, 2])  # permute time_step_size and batch_size\n",
    "    # XT shape: (time_step_size, batch_size, input_vec_size)\n",
    "    XR = tf.reshape(XT, [-1, lstm_size]) # each row has input for each lstm cell (lstm_size=input_vec_size)\n",
    "    # XR shape: (time_step_size * batch_size, input_vec_size)\n",
    "    X_split = tf.split(0, time_step_size, XR) # split them to time_step_size (28 arrays)\n",
    "    # Each array shape: (batch_size, input_vec_size)\n",
    "\n",
    "    # Make lstm with lstm_size (each input vector size)\n",
    "    lstm = tf.nn.rnn_cell.BasicLSTMCell(lstm_size, forget_bias=1.0, state_is_tuple=True)\n",
    "\n",
    "    # Get lstm cell output, time_step_size (28) arrays with lstm_size output: (batch_size, lstm_size)\n",
    "    outputs, _states = tf.nn.rnn(lstm, X_split, dtype=tf.float32)\n",
    "\n",
    "    # Linear activation\n",
    "    # Get the last output\n",
    "    return tf.matmul(outputs[-1], W) + B, lstm.state_size # State size to initialize the stat"
   ]
  },
  {
   "cell_type": "code",
   "execution_count": 3,
   "metadata": {
    "collapsed": true
   },
   "outputs": [],
   "source": [
    "ecg = []\n",
    "bp = []\n",
    "eeg = []\n",
    "resp = []"
   ]
  },
  {
   "cell_type": "code",
   "execution_count": 4,
   "metadata": {
    "collapsed": false
   },
   "outputs": [],
   "source": [
    "def mat_read(filename, num_data,ecg, bp, eeg, resp):\n",
    "    mat_contents = sio.loadmat('data/'+filename+'.mat')\n",
    "    val = mat_contents['val']\n",
    "    ecg.append(val[0])\n",
    "    bp.append(val[1])\n",
    "    eeg.append(val[2])\n",
    "    resp.append(val[3])\n",
    "    for i in range(1,num_data):\n",
    "        mat_contents = sio.loadmat('data/'+filename+' (%d).mat'% i)\n",
    "        val = mat_contents['val']\n",
    "        ecg.append(val[0])\n",
    "        bp.append(val[1])\n",
    "        eeg.append(val[2])\n",
    "        resp.append(val[3])"
   ]
  },
  {
   "cell_type": "code",
   "execution_count": 5,
   "metadata": {
    "collapsed": false
   },
   "outputs": [],
   "source": [
    "mat_read(slp03_matfile, 6, ecg, bp, eeg, resp)\n",
    "ecg = list(itertools.chain(*ecg))\n",
    "bp = list(itertools.chain(*bp))\n",
    "eeg = list(itertools.chain(*eeg))\n",
    "resp = list(itertools.chain(*resp))"
   ]
  },
  {
   "cell_type": "code",
   "execution_count": 6,
   "metadata": {
    "collapsed": false,
    "scrolled": true
   },
   "outputs": [
    {
     "name": "stdout",
     "output_type": "stream",
     "text": [
      "5335000\n"
     ]
    }
   ],
   "source": [
    "print(len(ecg))"
   ]
  },
  {
   "cell_type": "code",
   "execution_count": 5,
   "metadata": {
    "collapsed": false
   },
   "outputs": [],
   "source": [
    "sleep_stage_label = ['W','R','1','2','3','4'] #id-> char\n",
    "sleep_stage_dic = {w: i for i, w in enumerate(sleep_stage_label)} # char->id\n",
    "#x_data = np.array([[1,0,0,0],[0,1,0,0],[0,0,1,0],[0,0,1,0]],dtype = 'f') #hell\n",
    "#sample = [char_dic[c] for c in \"hello\"] # to index"
   ]
  }
 ],
 "metadata": {
  "anaconda-cloud": {},
  "kernelspec": {
   "display_name": "Python [default]",
   "language": "python",
   "name": "python3"
  },
  "language_info": {
   "codemirror_mode": {
    "name": "ipython",
    "version": 3
   },
   "file_extension": ".py",
   "mimetype": "text/x-python",
   "name": "python",
   "nbconvert_exporter": "python",
   "pygments_lexer": "ipython3",
   "version": "3.5.2"
  }
 },
 "nbformat": 4,
 "nbformat_minor": 1
}
