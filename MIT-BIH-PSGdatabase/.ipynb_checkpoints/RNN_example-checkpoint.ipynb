{
 "cells": [
  {
   "cell_type": "code",
   "execution_count": 8,
   "metadata": {
    "collapsed": false,
    "scrolled": false
   },
   "outputs": [],
   "source": [
    "import tensorflow as tf\n",
    "from tensorflow.python.ops import rnn, rnn_cell\n",
    "import numpy as np"
   ]
  },
  {
   "cell_type": "code",
   "execution_count": 13,
   "metadata": {
    "collapsed": false
   },
   "outputs": [],
   "source": [
    "char_rdic = ['h','e','l','o'] #id-> char\n",
    "char_dic = {w: i for i, w in enumerate(char_rdic)} # char->id\n",
    "x_data = np.array([[1,0,0,0],[0,1,0,0],[0,0,1,0],[0,0,1,0]],dtype = 'f') #hell\n",
    "\n",
    "sample = [char_dic[c] for c in \"hello\"] # to index"
   ]
  },
  {
   "cell_type": "code",
   "execution_count": 14,
   "metadata": {
    "collapsed": true
   },
   "outputs": [],
   "source": [
    "char_vocab_size = len(char_dic)\n",
    "rnn_size = char_vocab_size # 1 hot coding(one of 4)\n",
    "batch_size = 1 # one sample\n",
    "time_step_size = 4 # 'hell'=>'ello'"
   ]
  },
  {
   "cell_type": "code",
   "execution_count": 15,
   "metadata": {
    "collapsed": false
   },
   "outputs": [],
   "source": [
    "#RNN model  rnn_size = output size, 와파핑프에서는 4개방\n",
    "rnn_cell = rnn_cell.BasicRNNCell(rnn_size) \n",
    "state = tf.zeros([batch_size,rnn_cell.state_size])\n",
    "X_split = tf.split(0,time_step_size, x_data)\n",
    "outputs, state = rnn.rnn(rnn_cell,X_split,state)"
   ]
  },
  {
   "cell_type": "code",
   "execution_count": 16,
   "metadata": {
    "collapsed": false
   },
   "outputs": [],
   "source": [
    "logits = tf.reshape(tf.concat(1,outputs),[-1,rnn_size])\n",
    "targets = tf.reshape(sample[1:],[-1])\n",
    "weights = tf.ones([time_step_size*batch_size])\n",
    "\n",
    "loss = tf.nn.seq2seq.sequence_loss_by_example([logits],[targets],[weights])\n",
    "cost = tf.reduce_sum(loss)/batch_size\n",
    "train_op = tf.train.RMSPropOptimizer(0.01,0.9).minimize(cost)"
   ]
  },
  {
   "cell_type": "code",
   "execution_count": 19,
   "metadata": {
    "collapsed": false
   },
   "outputs": [
    {
     "name": "stdout",
     "output_type": "stream",
     "text": [
      "Tensor(\"Reshape:0\", shape=(4, 4), dtype=float32)\n",
      "Tensor(\"Reshape_1:0\", shape=(4,), dtype=int32)\n",
      "Tensor(\"ones:0\", shape=(4,), dtype=float32)\n"
     ]
    }
   ],
   "source": [
    "print(logits)\n",
    "print(targets)\n",
    "print(weights)"
   ]
  },
  {
   "cell_type": "code",
   "execution_count": 18,
   "metadata": {
    "collapsed": false
   },
   "outputs": [
    {
     "name": "stdout",
     "output_type": "stream",
     "text": [
      "[1 2 1 1] ['e', 'l', 'e', 'e']\n",
      "[1 2 1 1] ['e', 'l', 'e', 'e']\n",
      "[1 2 1 1] ['e', 'l', 'e', 'e']\n",
      "[1 2 1 1] ['e', 'l', 'e', 'e']\n",
      "[1 2 1 1] ['e', 'l', 'e', 'e']\n",
      "[1 2 1 0] ['e', 'l', 'e', 'h']\n",
      "[1 2 1 0] ['e', 'l', 'e', 'h']\n",
      "[1 2 1 0] ['e', 'l', 'e', 'h']\n",
      "[1 2 1 0] ['e', 'l', 'e', 'h']\n",
      "[1 2 1 0] ['e', 'l', 'e', 'h']\n",
      "[1 2 2 0] ['e', 'l', 'l', 'h']\n",
      "[1 2 2 0] ['e', 'l', 'l', 'h']\n",
      "[1 2 2 2] ['e', 'l', 'l', 'l']\n",
      "[1 2 2 2] ['e', 'l', 'l', 'l']\n",
      "[1 2 2 2] ['e', 'l', 'l', 'l']\n",
      "[1 2 2 2] ['e', 'l', 'l', 'l']\n",
      "[1 2 2 2] ['e', 'l', 'l', 'l']\n",
      "[1 2 2 2] ['e', 'l', 'l', 'l']\n",
      "[1 2 2 2] ['e', 'l', 'l', 'l']\n",
      "[1 2 2 2] ['e', 'l', 'l', 'l']\n",
      "[1 2 2 2] ['e', 'l', 'l', 'l']\n",
      "[1 2 2 2] ['e', 'l', 'l', 'l']\n",
      "[1 2 2 2] ['e', 'l', 'l', 'l']\n",
      "[1 2 2 2] ['e', 'l', 'l', 'l']\n",
      "[1 2 2 2] ['e', 'l', 'l', 'l']\n",
      "[1 2 2 2] ['e', 'l', 'l', 'l']\n",
      "[1 2 2 2] ['e', 'l', 'l', 'l']\n",
      "[1 2 2 2] ['e', 'l', 'l', 'l']\n",
      "[1 2 2 2] ['e', 'l', 'l', 'l']\n",
      "[1 2 2 3] ['e', 'l', 'l', 'o']\n",
      "[1 2 2 3] ['e', 'l', 'l', 'o']\n",
      "[1 2 2 3] ['e', 'l', 'l', 'o']\n",
      "[1 2 2 3] ['e', 'l', 'l', 'o']\n",
      "[1 2 2 3] ['e', 'l', 'l', 'o']\n",
      "[1 2 2 3] ['e', 'l', 'l', 'o']\n",
      "[1 2 2 3] ['e', 'l', 'l', 'o']\n",
      "[1 2 2 3] ['e', 'l', 'l', 'o']\n",
      "[1 2 2 3] ['e', 'l', 'l', 'o']\n",
      "[1 2 2 3] ['e', 'l', 'l', 'o']\n",
      "[1 2 2 3] ['e', 'l', 'l', 'o']\n",
      "[1 2 2 3] ['e', 'l', 'l', 'o']\n",
      "[1 2 2 3] ['e', 'l', 'l', 'o']\n",
      "[1 2 2 3] ['e', 'l', 'l', 'o']\n",
      "[1 2 2 3] ['e', 'l', 'l', 'o']\n",
      "[1 2 2 3] ['e', 'l', 'l', 'o']\n",
      "[1 2 2 3] ['e', 'l', 'l', 'o']\n",
      "[1 2 2 3] ['e', 'l', 'l', 'o']\n",
      "[1 2 2 3] ['e', 'l', 'l', 'o']\n",
      "[1 2 2 3] ['e', 'l', 'l', 'o']\n",
      "[1 2 2 3] ['e', 'l', 'l', 'o']\n",
      "[1 2 2 3] ['e', 'l', 'l', 'o']\n",
      "[1 2 2 3] ['e', 'l', 'l', 'o']\n",
      "[1 2 2 3] ['e', 'l', 'l', 'o']\n",
      "[1 2 2 3] ['e', 'l', 'l', 'o']\n",
      "[1 2 2 3] ['e', 'l', 'l', 'o']\n",
      "[1 2 2 3] ['e', 'l', 'l', 'o']\n",
      "[1 2 2 3] ['e', 'l', 'l', 'o']\n",
      "[1 2 2 3] ['e', 'l', 'l', 'o']\n",
      "[1 2 2 3] ['e', 'l', 'l', 'o']\n",
      "[1 2 2 3] ['e', 'l', 'l', 'o']\n",
      "[1 2 2 3] ['e', 'l', 'l', 'o']\n",
      "[1 2 2 3] ['e', 'l', 'l', 'o']\n",
      "[1 2 2 3] ['e', 'l', 'l', 'o']\n",
      "[1 2 2 3] ['e', 'l', 'l', 'o']\n",
      "[1 2 2 3] ['e', 'l', 'l', 'o']\n",
      "[1 2 2 3] ['e', 'l', 'l', 'o']\n",
      "[1 2 2 3] ['e', 'l', 'l', 'o']\n",
      "[1 2 2 3] ['e', 'l', 'l', 'o']\n",
      "[1 2 2 3] ['e', 'l', 'l', 'o']\n",
      "[1 2 2 3] ['e', 'l', 'l', 'o']\n",
      "[1 2 2 3] ['e', 'l', 'l', 'o']\n",
      "[1 2 2 3] ['e', 'l', 'l', 'o']\n",
      "[1 2 2 3] ['e', 'l', 'l', 'o']\n",
      "[1 2 2 3] ['e', 'l', 'l', 'o']\n",
      "[1 2 2 3] ['e', 'l', 'l', 'o']\n",
      "[1 2 2 3] ['e', 'l', 'l', 'o']\n",
      "[1 2 2 3] ['e', 'l', 'l', 'o']\n",
      "[1 2 2 3] ['e', 'l', 'l', 'o']\n",
      "[1 2 2 3] ['e', 'l', 'l', 'o']\n",
      "[1 2 2 3] ['e', 'l', 'l', 'o']\n",
      "[1 2 2 3] ['e', 'l', 'l', 'o']\n",
      "[1 2 2 3] ['e', 'l', 'l', 'o']\n",
      "[1 2 2 3] ['e', 'l', 'l', 'o']\n",
      "[1 2 2 3] ['e', 'l', 'l', 'o']\n",
      "[1 2 2 3] ['e', 'l', 'l', 'o']\n",
      "[1 2 2 3] ['e', 'l', 'l', 'o']\n",
      "[1 2 2 3] ['e', 'l', 'l', 'o']\n",
      "[1 2 2 3] ['e', 'l', 'l', 'o']\n",
      "[1 2 2 3] ['e', 'l', 'l', 'o']\n",
      "[1 2 2 3] ['e', 'l', 'l', 'o']\n",
      "[1 2 2 3] ['e', 'l', 'l', 'o']\n",
      "[1 2 2 3] ['e', 'l', 'l', 'o']\n",
      "[1 2 2 3] ['e', 'l', 'l', 'o']\n",
      "[1 2 2 3] ['e', 'l', 'l', 'o']\n",
      "[1 2 2 3] ['e', 'l', 'l', 'o']\n",
      "[1 2 2 3] ['e', 'l', 'l', 'o']\n",
      "[1 2 2 3] ['e', 'l', 'l', 'o']\n",
      "[1 2 2 3] ['e', 'l', 'l', 'o']\n",
      "[1 2 2 3] ['e', 'l', 'l', 'o']\n",
      "[1 2 2 3] ['e', 'l', 'l', 'o']\n"
     ]
    }
   ],
   "source": [
    "with tf.Session() as sess:\n",
    "    tf.global_variables_initializer().run()\n",
    "    for i in range(100):\n",
    "        sess.run(train_op)\n",
    "        result = sess.run(tf.arg_max(logits,1))\n",
    "        print (result,[char_rdic[t] for t in result])"
   ]
  },
  {
   "cell_type": "code",
   "execution_count": null,
   "metadata": {
    "collapsed": true
   },
   "outputs": [],
   "source": []
  }
 ],
 "metadata": {
  "anaconda-cloud": {},
  "kernelspec": {
   "display_name": "Python [default]",
   "language": "python",
   "name": "python3"
  },
  "language_info": {
   "codemirror_mode": {
    "name": "ipython",
    "version": 3
   },
   "file_extension": ".py",
   "mimetype": "text/x-python",
   "name": "python",
   "nbconvert_exporter": "python",
   "pygments_lexer": "ipython3",
   "version": "3.5.2"
  }
 },
 "nbformat": 4,
 "nbformat_minor": 1
}
