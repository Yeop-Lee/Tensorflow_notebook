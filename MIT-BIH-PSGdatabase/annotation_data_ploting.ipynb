{
 "cells": [
  {
   "cell_type": "code",
   "execution_count": 1,
   "metadata": {
    "collapsed": false
   },
   "outputs": [],
   "source": [
    "import matplotlib.pyplot as plt\n",
    "%matplotlib inline\n",
    "import numpy as np\n",
    "#np.set_printoptions(threshold=np.inf)\n",
    "import csv"
   ]
  },
  {
   "cell_type": "code",
   "execution_count": 2,
   "metadata": {
    "collapsed": true
   },
   "outputs": [],
   "source": [
    "slp_num = ['03','04','14','16','32','37','41','45','48','59','60','66']\n",
    "time = []\n",
    "sample_num = []\n",
    "sleep_stage = []"
   ]
  },
  {
   "cell_type": "code",
   "execution_count": 3,
   "metadata": {
    "collapsed": true
   },
   "outputs": [],
   "source": [
    "def read_anno(file_num, time, sample_num, sleep_stage):\n",
    "    time = []\n",
    "    sample_num = []\n",
    "    sleep_stage = []\n",
    "    filename = \"data/slp\"+slp_num[file_num]+\"_annotation.csv\"\n",
    "    with open(filename,newline='',encoding = 'utf-8') as csvfile:\n",
    "        reader = csv.reader (csvfile)\n",
    "        next(reader, None)\n",
    "        for row in reader:\n",
    "            time.append(row[0])\n",
    "            sample_num.append(int(row[1]))\n",
    "            sleep_stage.append(row[6])\n",
    "    return sleep_stage"
   ]
  },
  {
   "cell_type": "code",
   "execution_count": 4,
   "metadata": {
    "collapsed": false
   },
   "outputs": [],
   "source": [
    "def convert_sleep_stage_To_index(sleep_stage):\n",
    "    sleep_stage_label = ['W','R','1','2','3','4'] #id-> char\n",
    "    sleep_stage_dic = {w: i for i, w in enumerate(sleep_stage_label)} # char->id\n",
    "    return [sleep_stage_dic[c] for c in sleep_stage] # to index"
   ]
  },
  {
   "cell_type": "code",
   "execution_count": 5,
   "metadata": {
    "collapsed": false
   },
   "outputs": [],
   "source": [
    "#30초마다 한번씩 샘플링됨\n",
    "for i in range(0,len(slp_num)):\n",
    "    temp_sleep = read_anno(i, time, sample_num, sleep_stage)\n",
    "    indexed_sleep_stage = convert_sleep_stage_To_index(temp_sleep)\n",
    "    plt.figure(figsize=(25,10))\n",
    "    plt.plot(indexed_sleep_stage,'g-',linewidth=2.0)\n",
    "    plt.axis([-10, 720, 4, 0])\n",
    "    plt.xlabel('time index')\n",
    "    plt.ylabel('sleep stage')\n",
    "    plt.yticks([4,3,2,1,0],['NREM3','NREM2','NREM1','REM','WAKE'])\n",
    "    plt.grid(True)\n",
    "    plt.savefig('sleep stage/slp'+slp_num[i]+'sleep stage.png', dpi = 300)\n",
    "    plt.close()"
   ]
  },
  {
   "cell_type": "code",
   "execution_count": null,
   "metadata": {
    "collapsed": true
   },
   "outputs": [],
   "source": []
  }
 ],
 "metadata": {
  "anaconda-cloud": {},
  "kernelspec": {
   "display_name": "Python [default]",
   "language": "python",
   "name": "python3"
  },
  "language_info": {
   "codemirror_mode": {
    "name": "ipython",
    "version": 3
   },
   "file_extension": ".py",
   "mimetype": "text/x-python",
   "name": "python",
   "nbconvert_exporter": "python",
   "pygments_lexer": "ipython3",
   "version": "3.5.2"
  }
 },
 "nbformat": 4,
 "nbformat_minor": 1
}
