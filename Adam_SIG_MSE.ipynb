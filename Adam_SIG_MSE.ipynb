{
 "cells": [
  {
   "cell_type": "code",
   "execution_count": 1,
   "metadata": {
    "collapsed": true
   },
   "outputs": [],
   "source": [
    "import tensorflow as tf\n",
    "import random\n",
    "import math\n",
    "import time\n",
    "import matplotlib.pyplot as plt\n",
    "%matplotlib inline\n",
    "import numpy as np"
   ]
  },
  {
   "cell_type": "code",
   "execution_count": 2,
   "metadata": {
    "collapsed": true
   },
   "outputs": [],
   "source": [
    "def weight_variable(shape):\n",
    "    initial = tf.truncated_normal(shape, stddev=0.1)\n",
    "    return tf.Variable(initial)\n",
    "\n",
    "def bias_variable(shape):\n",
    "    initial = tf.constant(0.1, shape=shape)\n",
    "    return tf.Variable(initial)\n",
    "\n",
    "def to_ndarray(list):\n",
    "    lgt = len(list)\n",
    "    x = np.zeros((1,lgt),dtype ='float')\n",
    "    for i in range(0,lgt):\n",
    "        x[0,i]=list[i]\n",
    "    return x"
   ]
  },
  {
   "cell_type": "markdown",
   "metadata": {},
   "source": [
    "# parameter setting"
   ]
  },
  {
   "cell_type": "code",
   "execution_count": 3,
   "metadata": {
    "collapsed": true
   },
   "outputs": [],
   "source": [
    "sample_num = 501\n",
    "hiddenDim = 10\n",
    "training_step = 1001\n",
    "rate = 0.01"
   ]
  },
  {
   "cell_type": "markdown",
   "metadata": {},
   "source": [
    "# iNPUT / OUTPUT setting"
   ]
  },
  {
   "cell_type": "code",
   "execution_count": 14,
   "metadata": {
    "collapsed": false
   },
   "outputs": [],
   "source": [
    "x = np.random.normal(0.0 , 5.0 , sample_num)\n",
    "y = map(lambda x: math.sin(x), x)"
   ]
  },
  {
   "cell_type": "code",
   "execution_count": 15,
   "metadata": {
    "collapsed": true
   },
   "outputs": [],
   "source": [
    "x_data = to_ndarray(x)\n",
    "y_data = to_ndarray(y)"
   ]
  },
  {
   "cell_type": "code",
   "execution_count": 16,
   "metadata": {
    "collapsed": false
   },
   "outputs": [
    {
     "name": "stdout",
     "output_type": "stream",
     "text": [
      "0 1.35471e+17\n",
      "100 1.35471e+17\n",
      "200 1.35471e+17\n",
      "300 1.35471e+17\n",
      "400 1.35471e+17\n",
      "500 1.35471e+17\n",
      "600 1.35471e+17\n",
      "700 1.35471e+17\n",
      "800 1.35471e+17\n",
      "900 1.35471e+17\n",
      "1000 1.35471e+17\n"
     ]
    }
   ],
   "source": [
    "W = weight_variable([hiddenDim,1])\n",
    "b = bias_variable([hiddenDim,1])\n",
    "\n",
    "W2 = weight_variable([1,hiddenDim])\n",
    "b2 = bias_variable([1])\n",
    "\n",
    "X = tf.placeholder(\"float\",[1,None])\n",
    "\n",
    "hidden = tf.nn.sigmoid(tf.matmul(W,X)+b)\n",
    "regression = tf.matmul(W2,hidden) + b2\n",
    "\n",
    "loss = tf.reduce_mean(tf.square( y_data - regression))\n",
    "\n",
    "step = tf.Variable(0,trainable=False)\n",
    "#rate = tf.train.exponential_decay(0.15, step,1, 0.9999)\n",
    "\n",
    "optimizer = tf.train.AdamOptimizer(rate)\n",
    "train = optimizer.minimize(loss, global_step = step)\n",
    "\n",
    "init = tf.initialize_all_variables()\n",
    "\n",
    "sess = tf.Session()\n",
    "sess.run(init)\n",
    "\n",
    "start_time = time.time()\n",
    "for step in xrange(training_step):\n",
    "    train.run({X: x_data},sess)\n",
    "    if step % 100 == 0:\n",
    "        print step, loss.eval({X: x_data},sess)\n",
    "\n",
    "excute_time = time.time() - start_time"
   ]
  },
  {
   "cell_type": "markdown",
   "metadata": {},
   "source": [
    "# Setting X - test"
   ]
  },
  {
   "cell_type": "code",
   "execution_count": 17,
   "metadata": {
    "collapsed": true
   },
   "outputs": [],
   "source": [
    "x_test = np.linspace(-.0 , 15.0, 100*sample_num)\n",
    "y_test = regression.eval({X:to_ndarray(x_test)},sess)"
   ]
  },
  {
   "cell_type": "code",
   "execution_count": 18,
   "metadata": {
    "collapsed": false
   },
   "outputs": [
    {
     "data": {
      "image/png": "[encoded data removed]",
      "text/plain": [
       "<matplotlib.figure.Figure at 0x7fd6d0b50390>"
      ]
     },
     "metadata": {},
     "output_type": "display_data"
    },
    {
     "name": "stdout",
     "output_type": "stream",
     "text": [
      "Sample number :  1000\n",
      "learning rates :  0.01\n",
      "Training steps :  1000\n",
      "Hidden dimentions :  10\n",
      "Final loss value :  1.35471e+17\n",
      "Excute time :  0.767459869385  sec\n"
     ]
    }
   ],
   "source": [
    "plt.plot(x_data,y_data,'yo')\n",
    "plt.plot(x_test,y_test.transpose().tolist(),'r-')\n",
    "plt.plot(x_test,map(lambda x_test: math.sin(x_test), x_test),'k-')\n",
    "plt.show()\n",
    "print \"Sample number : \", sample_num -1 \n",
    "print \"learning rates : \", rate\n",
    "print \"Training steps : \", training_step -1\n",
    "print \"Hidden dimentions : \", hiddenDim\n",
    "print \"Final loss value : \", loss.eval({X: x_data},sess)\n",
    "print \"Excute time : \", excute_time , \" sec\""
   ]
  },
  {
   "cell_type": "code",
   "execution_count": null,
   "metadata": {
    "collapsed": true
   },
   "outputs": [],
   "source": []
  },
  {
   "cell_type": "code",
   "execution_count": null,
   "metadata": {
    "collapsed": true
   },
   "outputs": [],
   "source": []
  }
 ],
 "metadata": {
  "kernelspec": {
   "display_name": "Python 2",
   "language": "python",
   "name": "python2"
  },
  "language_info": {
   "codemirror_mode": {
    "name": "ipython",
    "version": 2
   },
   "file_extension": ".py",
   "mimetype": "text/x-python",
   "name": "python",
   "nbconvert_exporter": "python",
   "pygments_lexer": "ipython2",
   "version": "2.7.6"
  }
 },
 "nbformat": 4,
 "nbformat_minor": 0
}
