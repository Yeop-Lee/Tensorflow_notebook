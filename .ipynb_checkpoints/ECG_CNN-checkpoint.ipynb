{
 "cells": [
  {
   "cell_type": "code",
   "execution_count": 1,
   "metadata": {
    "collapsed": true
   },
   "outputs": [],
   "source": [
    "import tensorflow as tf\n",
    "import random\n",
    "import math\n",
    "import matplotlib.pyplot as plt\n",
    "%matplotlib inline\n",
    "import numpy as np\n",
    "#np.set_printoptions(threshold=np.inf)\n",
    "import time\n",
    "import csv"
   ]
  },
  {
   "cell_type": "code",
   "execution_count": 2,
   "metadata": {
    "collapsed": true
   },
   "outputs": [],
   "source": [
    "##tr 0 to 3 is location value\n",
    "ecg_filename = [\"time_ecg_rpeak_yeop_sleep\", \"time_ecg_rpeak_yeopdata\", \"time_ecg_rpeak_yeop_friend_sleep\"]"
   ]
  },
  {
   "cell_type": "code",
   "execution_count": 3,
   "metadata": {
    "collapsed": true
   },
   "outputs": [],
   "source": [
    "ecg_header = []\n",
    "ecg_time = []\n",
    "ecg_code = []\n",
    "rpeak_time = []\n",
    "rpeak_code = []\n",
    "peak_index = []"
   ]
  },
  {
   "cell_type": "code",
   "execution_count": 4,
   "metadata": {
    "collapsed": true
   },
   "outputs": [],
   "source": [
    "def read_ecg_from_csv(ecg_filename):\n",
    "    filename = \"data/\"+ecg_filename+\".CSV\"\n",
    "    with open (filename,'rb') as csvfile:\n",
    "        reader = csv.reader(csvfile, delimiter = ',')\n",
    "        ecg_header.append(reader.next())\n",
    "        for row in reader:\n",
    "            ecg_time.append(row[0])\n",
    "            ecg_code.append(float(row[1]))\n",
    "            rpeak_time.append(row[2])\n",
    "            rpeak_code.append(row[3])\n",
    "            if row[3] != \"0\":\n",
    "                peak_index.append(row)"
   ]
  },
  {
   "cell_type": "code",
   "execution_count": 5,
   "metadata": {
    "collapsed": false
   },
   "outputs": [],
   "source": [
    "read_ecg_from_csv(ecg_filename[0])"
   ]
  },
  {
   "cell_type": "code",
   "execution_count": 6,
   "metadata": {
    "collapsed": false,
    "scrolled": true
   },
   "outputs": [
    {
     "name": "stdout",
     "output_type": "stream",
     "text": [
      "peak_point_number : 4195\n",
      "ecg_data_number : 1048575\n"
     ]
    }
   ],
   "source": [
    "print(\"peak_point_number : \" + str(len(peak_index))+\n",
    "      \"\\necg_data_number : \"+str(len(ecg_time)))"
   ]
  },
  {
   "cell_type": "code",
   "execution_count": 7,
   "metadata": {
    "collapsed": false
   },
   "outputs": [
    {
     "name": "stdout",
     "output_type": "stream",
     "text": [
      "574000\n"
     ]
    }
   ],
   "source": [
    "x_ = ecg_code[:287000]\n",
    "\n",
    "x_temp = np.linspace(-0.8, 0.8, 500)\n",
    "x_x_temp = map(lambda x: x*x, x_temp)\n",
    "x_x_temp = (287*2)*x_x_temp\n",
    "x_[287000:]=x_x_temp\n",
    "print len(x_)\n",
    "\n",
    "tr_x =  np.reshape(x_,[-1,500])"
   ]
  },
  {
   "cell_type": "code",
   "execution_count": 8,
   "metadata": {
    "collapsed": false
   },
   "outputs": [
    {
     "name": "stdout",
     "output_type": "stream",
     "text": [
      "[[ 1.  0.]\n",
      " [ 1.  0.]\n",
      " [ 1.  0.]\n",
      " ..., \n",
      " [ 0.  1.]\n",
      " [ 0.  1.]\n",
      " [ 0.  1.]]\n"
     ]
    }
   ],
   "source": [
    "y_= np.zeros((574*2,2), dtype = \"float32\")\n",
    "for i in range(0,574*2):\n",
    "    if i < 574:\n",
    "        y_[i][0] = 1.0\n",
    "    else:\n",
    "        y_[i][1] = 1.0\n",
    "print y_"
   ]
  },
  {
   "cell_type": "code",
   "execution_count": 9,
   "metadata": {
    "collapsed": true
   },
   "outputs": [],
   "source": [
    "ecg_header = []\n",
    "ecg_time = []\n",
    "ecg_code = []\n",
    "rpeak_time = []\n",
    "rpeak_code = []\n",
    "peak_index = []"
   ]
  },
  {
   "cell_type": "code",
   "execution_count": 10,
   "metadata": {
    "collapsed": false
   },
   "outputs": [
    {
     "name": "stdout",
     "output_type": "stream",
     "text": [
      "peak_point_number : 2865\n",
      "ecg_data_number : 587648\n"
     ]
    }
   ],
   "source": [
    "read_ecg_from_csv(ecg_filename[1])\n",
    "print(\"peak_point_number : \" + str(len(peak_index))+\n",
    "      \"\\necg_data_number : \"+str(len(ecg_time)))"
   ]
  },
  {
   "cell_type": "code",
   "execution_count": 11,
   "metadata": {
    "collapsed": false
   },
   "outputs": [],
   "source": [
    "x_t = ecg_code[:87000*2]\n",
    "x_temp = np.linspace(-0.8, 0.8, 500)\n",
    "x_x_temp = map(lambda x: x*x, x_temp)\n",
    "x_x_temp = (87*2)*x_x_temp\n",
    "\n",
    "x_t[:87000] =x_x_temp\n",
    "\n",
    "te_x =  np.reshape(x_t,[-1,500])\n",
    "\n",
    "te_y= np.zeros((87*4,2), dtype = \"float32\")\n",
    "for i in range(0,87*4):\n",
    "    if i < 87*2:\n",
    "        te_y[i][1]=1.0\n",
    "    else :\n",
    "        te_y[i][0]=1.0"
   ]
  },
  {
   "cell_type": "code",
   "execution_count": 12,
   "metadata": {
    "collapsed": true
   },
   "outputs": [],
   "source": [
    "def weight_variable(shape):\n",
    "    initial = tf.truncated_normal(shape, stddev=0.1)\n",
    "    return tf.Variable(initial)\n",
    "\n",
    "def bias_variable(shape):\n",
    "    initial = tf.constant(0.1, shape=shape)\n",
    "    return tf.Variable(initial)"
   ]
  },
  {
   "cell_type": "code",
   "execution_count": 13,
   "metadata": {
    "collapsed": true
   },
   "outputs": [],
   "source": [
    "def conv2d(x, W):\n",
    "    return tf.nn.conv2d(x, W, strides = [1,1,1,1], padding = 'SAME')\n",
    "\n",
    "def max_pool_2x2(x):\n",
    "    return tf.nn.max_pool(x, ksize=[1, 50, 1, 1] ,\n",
    "                         strides = [1, 50, 1, 1], padding='SAME')"
   ]
  },
  {
   "cell_type": "code",
   "execution_count": 14,
   "metadata": {
    "collapsed": false
   },
   "outputs": [],
   "source": [
    "Y = tf.placeholder(\"float32\",shape = [None,2])\n",
    "X = tf.placeholder(\"float32\",shape = [None, 500]) \n",
    "\n",
    "x_image = tf.reshape(X,[-1,500,1,1])"
   ]
  },
  {
   "cell_type": "code",
   "execution_count": 15,
   "metadata": {
    "collapsed": false
   },
   "outputs": [],
   "source": [
    "W_conv1 = weight_variable([250, 1, 1, 4])\n",
    "b_conv1 = bias_variable([4])\n",
    "\n",
    "h_conv1 = tf.nn.relu(conv2d(x_image, W_conv1) + b_conv1)\n",
    "h_pool1 = max_pool_2x2(h_conv1)"
   ]
  },
  {
   "cell_type": "code",
   "execution_count": 16,
   "metadata": {
    "collapsed": true
   },
   "outputs": [],
   "source": [
    "W_conv2 = weight_variable([250, 1, 4, 8])\n",
    "b_conv2 = bias_variable([8])\n",
    "\n",
    "h_conv2 = tf.nn.relu(conv2d(h_pool1, W_conv2) + b_conv2)\n",
    "h_pool2 = max_pool_2x2(h_conv2)"
   ]
  },
  {
   "cell_type": "code",
   "execution_count": 17,
   "metadata": {
    "collapsed": false
   },
   "outputs": [
    {
     "name": "stdout",
     "output_type": "stream",
     "text": [
      "(?, 500, 1, 1)\n",
      "(?, 500, 1, 4)\n"
     ]
    },
    {
     "data": {
      "text/plain": [
       "TensorShape([Dimension(None), Dimension(10), Dimension(1), Dimension(4)])"
      ]
     },
     "execution_count": 17,
     "metadata": {},
     "output_type": "execute_result"
    }
   ],
   "source": [
    "print(x_image.get_shape())\n",
    "print(h_conv1.get_shape())\n",
    "h_pool1.get_shape()"
   ]
  },
  {
   "cell_type": "code",
   "execution_count": 18,
   "metadata": {
    "collapsed": false
   },
   "outputs": [
    {
     "name": "stdout",
     "output_type": "stream",
     "text": [
      "(?, 10, 1, 8)\n"
     ]
    },
    {
     "data": {
      "text/plain": [
       "TensorShape([Dimension(None), Dimension(1), Dimension(1), Dimension(8)])"
      ]
     },
     "execution_count": 18,
     "metadata": {},
     "output_type": "execute_result"
    }
   ],
   "source": [
    "print(h_conv2.get_shape())\n",
    "h_pool2.get_shape()"
   ]
  },
  {
   "cell_type": "code",
   "execution_count": 19,
   "metadata": {
    "collapsed": false
   },
   "outputs": [],
   "source": [
    "W_fc1 = weight_variable([1 * 1 * 8, 16])\n",
    "b_fc1 = bias_variable([16])\n",
    "\n",
    "h_pool2_flat = tf.reshape(h_pool2, [-1, 1 * 1 * 8])\n",
    "h_fc1 = tf.nn.relu(tf.matmul(h_pool2_flat, W_fc1) + b_fc1)"
   ]
  },
  {
   "cell_type": "code",
   "execution_count": 20,
   "metadata": {
    "collapsed": true
   },
   "outputs": [],
   "source": [
    "keep_prob = tf.placeholder(\"float\")\n",
    "h_fc1_drop = tf.nn.dropout(h_fc1, keep_prob)"
   ]
  },
  {
   "cell_type": "code",
   "execution_count": 21,
   "metadata": {
    "collapsed": false
   },
   "outputs": [],
   "source": [
    "W_fc2 = weight_variable([16, 2])\n",
    "b_fc2 = bias_variable([2])\n",
    "\n",
    "y_conv=tf.nn.softmax(tf.matmul(h_fc1_drop, W_fc2) + b_fc2)"
   ]
  },
  {
   "cell_type": "code",
   "execution_count": 23,
   "metadata": {
    "collapsed": false
   },
   "outputs": [],
   "source": [
    "cross_entropy = -tf.reduce_sum(y_*tf.log(y_conv + 1e-10))\n",
    "train_step = tf.train.AdamOptimizer(1e-4).minimize(cross_entropy)\n",
    "correct_prediction = tf.equal(tf.argmax(y_conv,1), tf.argmax(Y,1))\n",
    "accuracy = tf.reduce_mean(tf.cast(correct_prediction, \"float\"))"
   ]
  },
  {
   "cell_type": "code",
   "execution_count": 24,
   "metadata": {
    "collapsed": false,
    "scrolled": true
   },
   "outputs": [
    {
     "name": "stdout",
     "output_type": "stream",
     "text": [
      "50.0\n",
      "100.0\n",
      "100.0\n",
      "100.0\n",
      "100.0\n"
     ]
    }
   ],
   "source": [
    "sess = tf.Session()\n",
    "sess.run(tf.initialize_all_variables())\n",
    "\n",
    "start_time = time.time()\n",
    "for step in range(1000):\n",
    "    if (step % 200) == 0:\n",
    "        print sess.run(accuracy,feed_dict = {X: te_x, Y: te_y,keep_prob:1})*100\n",
    "    result = sess.run(train_step, feed_dict = {X: tr_x, Y: y_, keep_prob:0.5})\n",
    "\n",
    "result = sess.run(accuracy,feed_dict = {X: te_x, Y: te_y,keep_prob:1})*100\n",
    "excute_time = time.time() - start_time"
   ]
  },
  {
   "cell_type": "code",
   "execution_count": 25,
   "metadata": {
    "collapsed": false
   },
   "outputs": [
    {
     "name": "stdout",
     "output_type": "stream",
     "text": [
      "[[  1.00000000e+00   0.00000000e+00]\n",
      " [  1.00000000e+00   4.58861412e-16]\n",
      " [  1.00000000e+00   0.00000000e+00]\n",
      " ..., \n",
      " [  1.87715486e-01   8.12284470e-01]\n",
      " [  8.36068988e-02   9.16393042e-01]\n",
      " [  2.75053352e-01   7.24946618e-01]]\n",
      "[[ 0.17300095  0.82699907]\n",
      " [ 0.17300095  0.82699907]\n",
      " [ 0.17300095  0.82699907]\n",
      " [ 0.17300095  0.82699907]\n",
      " [ 0.17300095  0.82699907]\n",
      " [ 0.17300095  0.82699907]\n",
      " [ 0.17300095  0.82699907]\n",
      " [ 0.17300095  0.82699907]\n",
      " [ 0.17300095  0.82699907]\n",
      " [ 0.17300095  0.82699907]\n",
      " [ 0.17300095  0.82699907]\n",
      " [ 0.17300095  0.82699907]\n",
      " [ 0.17300095  0.82699907]\n",
      " [ 0.17300095  0.82699907]\n",
      " [ 0.17300095  0.82699907]\n",
      " [ 0.17300095  0.82699907]\n",
      " [ 0.17300095  0.82699907]\n",
      " [ 0.17300095  0.82699907]\n",
      " [ 0.17300095  0.82699907]\n",
      " [ 0.17300095  0.82699907]\n",
      " [ 0.17300095  0.82699907]\n",
      " [ 0.17300095  0.82699907]\n",
      " [ 0.17300095  0.82699907]\n",
      " [ 0.17300095  0.82699907]\n",
      " [ 0.17300095  0.82699907]\n",
      " [ 0.17300095  0.82699907]\n",
      " [ 0.17300095  0.82699907]\n",
      " [ 0.17300095  0.82699907]\n",
      " [ 0.17300095  0.82699907]\n",
      " [ 0.17300095  0.82699907]\n",
      " [ 0.17300095  0.82699907]\n",
      " [ 0.17300095  0.82699907]\n",
      " [ 0.17300095  0.82699907]\n",
      " [ 0.17300095  0.82699907]\n",
      " [ 0.17300095  0.82699907]\n",
      " [ 0.17300095  0.82699907]\n",
      " [ 0.17300095  0.82699907]\n",
      " [ 0.17300095  0.82699907]\n",
      " [ 0.17300095  0.82699907]\n",
      " [ 0.17300095  0.82699907]\n",
      " [ 0.17300095  0.82699907]\n",
      " [ 0.17300095  0.82699907]\n",
      " [ 0.17300095  0.82699907]\n",
      " [ 0.17300095  0.82699907]\n",
      " [ 0.17300095  0.82699907]\n",
      " [ 0.17300095  0.82699907]\n",
      " [ 0.17300095  0.82699907]\n",
      " [ 0.17300095  0.82699907]\n",
      " [ 0.17300095  0.82699907]\n",
      " [ 0.17300095  0.82699907]\n",
      " [ 0.17300095  0.82699907]\n",
      " [ 0.17300095  0.82699907]\n",
      " [ 0.17300095  0.82699907]\n",
      " [ 0.17300095  0.82699907]\n",
      " [ 0.17300095  0.82699907]\n",
      " [ 0.17300095  0.82699907]\n",
      " [ 0.17300095  0.82699907]\n",
      " [ 0.17300095  0.82699907]\n",
      " [ 0.17300095  0.82699907]\n",
      " [ 0.17300095  0.82699907]\n",
      " [ 0.17300095  0.82699907]\n",
      " [ 0.17300095  0.82699907]\n",
      " [ 0.17300095  0.82699907]\n",
      " [ 0.17300095  0.82699907]\n",
      " [ 0.17300095  0.82699907]\n",
      " [ 0.17300095  0.82699907]\n",
      " [ 0.17300095  0.82699907]\n",
      " [ 0.17300095  0.82699907]\n",
      " [ 0.17300095  0.82699907]\n",
      " [ 0.17300095  0.82699907]\n",
      " [ 0.17300095  0.82699907]\n",
      " [ 0.17300095  0.82699907]\n",
      " [ 0.17300095  0.82699907]\n",
      " [ 0.17300095  0.82699907]\n",
      " [ 0.17300095  0.82699907]\n",
      " [ 0.17300095  0.82699907]\n",
      " [ 0.17300095  0.82699907]\n",
      " [ 0.17300095  0.82699907]\n",
      " [ 0.17300095  0.82699907]\n",
      " [ 0.17300095  0.82699907]\n",
      " [ 0.17300095  0.82699907]\n",
      " [ 0.17300095  0.82699907]\n",
      " [ 0.17300095  0.82699907]\n",
      " [ 0.17300095  0.82699907]\n",
      " [ 0.17300095  0.82699907]\n",
      " [ 0.17300095  0.82699907]\n",
      " [ 0.17300095  0.82699907]\n",
      " [ 0.17300095  0.82699907]\n",
      " [ 0.17300095  0.82699907]\n",
      " [ 0.17300095  0.82699907]\n",
      " [ 0.17300095  0.82699907]\n",
      " [ 0.17300095  0.82699907]\n",
      " [ 0.17300095  0.82699907]\n",
      " [ 0.17300095  0.82699907]\n",
      " [ 0.17300095  0.82699907]\n",
      " [ 0.17300095  0.82699907]\n",
      " [ 0.17300095  0.82699907]\n",
      " [ 0.17300095  0.82699907]\n",
      " [ 0.17300095  0.82699907]\n",
      " [ 0.17300095  0.82699907]\n",
      " [ 0.17300095  0.82699907]\n",
      " [ 0.17300095  0.82699907]\n",
      " [ 0.17300095  0.82699907]\n",
      " [ 0.17300095  0.82699907]\n",
      " [ 0.17300095  0.82699907]\n",
      " [ 0.17300095  0.82699907]\n",
      " [ 0.17300095  0.82699907]\n",
      " [ 0.17300095  0.82699907]\n",
      " [ 0.17300095  0.82699907]\n",
      " [ 0.17300095  0.82699907]\n",
      " [ 0.17300095  0.82699907]\n",
      " [ 0.17300095  0.82699907]\n",
      " [ 0.17300095  0.82699907]\n",
      " [ 0.17300095  0.82699907]\n",
      " [ 0.17300095  0.82699907]\n",
      " [ 0.17300095  0.82699907]\n",
      " [ 0.17300095  0.82699907]\n",
      " [ 0.17300095  0.82699907]\n",
      " [ 0.17300095  0.82699907]\n",
      " [ 0.17300095  0.82699907]\n",
      " [ 0.17300095  0.82699907]\n",
      " [ 0.17300095  0.82699907]\n",
      " [ 0.17300095  0.82699907]\n",
      " [ 0.17300095  0.82699907]\n",
      " [ 0.17300095  0.82699907]\n",
      " [ 0.17300095  0.82699907]\n",
      " [ 0.17300095  0.82699907]\n",
      " [ 0.17300095  0.82699907]\n",
      " [ 0.17300095  0.82699907]\n",
      " [ 0.17300095  0.82699907]\n",
      " [ 0.17300095  0.82699907]\n",
      " [ 0.17300095  0.82699907]\n",
      " [ 0.17300095  0.82699907]\n",
      " [ 0.17300095  0.82699907]\n",
      " [ 0.17300095  0.82699907]\n",
      " [ 0.17300095  0.82699907]\n",
      " [ 0.17300095  0.82699907]\n",
      " [ 0.17300095  0.82699907]\n",
      " [ 0.17300095  0.82699907]\n",
      " [ 0.17300095  0.82699907]\n",
      " [ 0.17300095  0.82699907]\n",
      " [ 0.17300095  0.82699907]\n",
      " [ 0.17300095  0.82699907]\n",
      " [ 0.17300095  0.82699907]\n",
      " [ 0.17300095  0.82699907]\n",
      " [ 0.17300095  0.82699907]\n",
      " [ 0.17300095  0.82699907]\n",
      " [ 0.17300095  0.82699907]\n",
      " [ 0.17300095  0.82699907]\n",
      " [ 0.17300095  0.82699907]\n",
      " [ 0.17300095  0.82699907]\n",
      " [ 0.17300095  0.82699907]\n",
      " [ 0.17300095  0.82699907]\n",
      " [ 0.17300095  0.82699907]\n",
      " [ 0.17300095  0.82699907]\n",
      " [ 0.17300095  0.82699907]\n",
      " [ 0.17300095  0.82699907]\n",
      " [ 0.17300095  0.82699907]\n",
      " [ 0.17300095  0.82699907]\n",
      " [ 0.17300095  0.82699907]\n",
      " [ 0.17300095  0.82699907]\n",
      " [ 0.17300095  0.82699907]\n",
      " [ 0.17300095  0.82699907]\n",
      " [ 0.17300095  0.82699907]\n",
      " [ 0.17300095  0.82699907]\n",
      " [ 0.17300095  0.82699907]\n",
      " [ 0.17300095  0.82699907]\n",
      " [ 0.17300095  0.82699907]\n",
      " [ 0.17300095  0.82699907]\n",
      " [ 0.17300095  0.82699907]\n",
      " [ 0.17300095  0.82699907]\n",
      " [ 0.17300095  0.82699907]\n",
      " [ 0.17300095  0.82699907]\n",
      " [ 0.17300095  0.82699907]\n",
      " [ 1.          0.        ]\n",
      " [ 1.          0.        ]\n",
      " [ 1.          0.        ]\n",
      " [ 1.          0.        ]\n",
      " [ 1.          0.        ]\n",
      " [ 1.          0.        ]\n",
      " [ 1.          0.        ]\n",
      " [ 1.          0.        ]\n",
      " [ 1.          0.        ]\n",
      " [ 1.          0.        ]\n",
      " [ 1.          0.        ]\n",
      " [ 1.          0.        ]\n",
      " [ 1.          0.        ]\n",
      " [ 1.          0.        ]\n",
      " [ 1.          0.        ]\n",
      " [ 1.          0.        ]\n",
      " [ 1.          0.        ]\n",
      " [ 1.          0.        ]\n",
      " [ 1.          0.        ]\n",
      " [ 1.          0.        ]\n",
      " [ 1.          0.        ]\n",
      " [ 1.          0.        ]\n",
      " [ 1.          0.        ]\n",
      " [ 1.          0.        ]\n",
      " [ 1.          0.        ]\n",
      " [ 1.          0.        ]\n",
      " [ 1.          0.        ]\n",
      " [ 1.          0.        ]\n",
      " [ 1.          0.        ]\n",
      " [ 1.          0.        ]\n",
      " [ 1.          0.        ]\n",
      " [ 1.          0.        ]\n",
      " [ 1.          0.        ]\n",
      " [ 1.          0.        ]\n",
      " [ 1.          0.        ]\n",
      " [ 1.          0.        ]\n",
      " [ 1.          0.        ]\n",
      " [ 1.          0.        ]\n",
      " [ 1.          0.        ]\n",
      " [ 1.          0.        ]\n",
      " [ 1.          0.        ]\n",
      " [ 1.          0.        ]\n",
      " [ 1.          0.        ]\n",
      " [ 1.          0.        ]\n",
      " [ 1.          0.        ]\n",
      " [ 1.          0.        ]\n",
      " [ 1.          0.        ]\n",
      " [ 1.          0.        ]\n",
      " [ 1.          0.        ]\n",
      " [ 1.          0.        ]\n",
      " [ 1.          0.        ]\n",
      " [ 1.          0.        ]\n",
      " [ 1.          0.        ]\n",
      " [ 1.          0.        ]\n",
      " [ 1.          0.        ]\n",
      " [ 1.          0.        ]\n",
      " [ 1.          0.        ]\n",
      " [ 1.          0.        ]\n",
      " [ 1.          0.        ]\n",
      " [ 1.          0.        ]\n",
      " [ 1.          0.        ]\n",
      " [ 1.          0.        ]\n",
      " [ 1.          0.        ]\n",
      " [ 1.          0.        ]\n",
      " [ 1.          0.        ]\n",
      " [ 1.          0.        ]\n",
      " [ 1.          0.        ]\n",
      " [ 1.          0.        ]\n",
      " [ 1.          0.        ]\n",
      " [ 1.          0.        ]\n",
      " [ 1.          0.        ]\n",
      " [ 1.          0.        ]\n",
      " [ 1.          0.        ]\n",
      " [ 1.          0.        ]\n",
      " [ 1.          0.        ]\n",
      " [ 1.          0.        ]\n",
      " [ 1.          0.        ]\n",
      " [ 1.          0.        ]\n",
      " [ 1.          0.        ]\n",
      " [ 1.          0.        ]\n",
      " [ 1.          0.        ]\n",
      " [ 1.          0.        ]\n",
      " [ 1.          0.        ]\n",
      " [ 1.          0.        ]\n",
      " [ 1.          0.        ]\n",
      " [ 1.          0.        ]\n",
      " [ 1.          0.        ]\n",
      " [ 1.          0.        ]\n",
      " [ 1.          0.        ]\n",
      " [ 1.          0.        ]\n",
      " [ 1.          0.        ]\n",
      " [ 1.          0.        ]\n",
      " [ 1.          0.        ]\n",
      " [ 1.          0.        ]\n",
      " [ 1.          0.        ]\n",
      " [ 1.          0.        ]\n",
      " [ 1.          0.        ]\n",
      " [ 1.          0.        ]\n",
      " [ 1.          0.        ]\n",
      " [ 1.          0.        ]\n",
      " [ 1.          0.        ]\n",
      " [ 1.          0.        ]\n",
      " [ 1.          0.        ]\n",
      " [ 1.          0.        ]\n",
      " [ 1.          0.        ]\n",
      " [ 1.          0.        ]\n",
      " [ 1.          0.        ]\n",
      " [ 1.          0.        ]\n",
      " [ 1.          0.        ]\n",
      " [ 1.          0.        ]\n",
      " [ 1.          0.        ]\n",
      " [ 1.          0.        ]\n",
      " [ 1.          0.        ]\n",
      " [ 1.          0.        ]\n",
      " [ 1.          0.        ]\n",
      " [ 1.          0.        ]\n",
      " [ 1.          0.        ]\n",
      " [ 1.          0.        ]\n",
      " [ 1.          0.        ]\n",
      " [ 1.          0.        ]\n",
      " [ 1.          0.        ]\n",
      " [ 1.          0.        ]\n",
      " [ 1.          0.        ]\n",
      " [ 1.          0.        ]\n",
      " [ 1.          0.        ]\n",
      " [ 1.          0.        ]\n",
      " [ 1.          0.        ]\n",
      " [ 1.          0.        ]\n",
      " [ 1.          0.        ]\n",
      " [ 1.          0.        ]\n",
      " [ 1.          0.        ]\n",
      " [ 1.          0.        ]\n",
      " [ 1.          0.        ]\n",
      " [ 1.          0.        ]\n",
      " [ 1.          0.        ]\n",
      " [ 1.          0.        ]\n",
      " [ 1.          0.        ]\n",
      " [ 1.          0.        ]\n",
      " [ 1.          0.        ]\n",
      " [ 1.          0.        ]\n",
      " [ 1.          0.        ]\n",
      " [ 1.          0.        ]\n",
      " [ 1.          0.        ]\n",
      " [ 1.          0.        ]\n",
      " [ 1.          0.        ]\n",
      " [ 1.          0.        ]\n",
      " [ 1.          0.        ]\n",
      " [ 1.          0.        ]\n",
      " [ 1.          0.        ]\n",
      " [ 1.          0.        ]\n",
      " [ 1.          0.        ]\n",
      " [ 1.          0.        ]\n",
      " [ 1.          0.        ]\n",
      " [ 1.          0.        ]\n",
      " [ 1.          0.        ]\n",
      " [ 1.          0.        ]\n",
      " [ 1.          0.        ]\n",
      " [ 1.          0.        ]\n",
      " [ 1.          0.        ]\n",
      " [ 1.          0.        ]\n",
      " [ 1.          0.        ]\n",
      " [ 1.          0.        ]\n",
      " [ 1.          0.        ]\n",
      " [ 1.          0.        ]\n",
      " [ 1.          0.        ]\n",
      " [ 1.          0.        ]\n",
      " [ 1.          0.        ]\n",
      " [ 1.          0.        ]\n",
      " [ 1.          0.        ]\n",
      " [ 1.          0.        ]\n",
      " [ 1.          0.        ]\n",
      " [ 1.          0.        ]\n",
      " [ 1.          0.        ]\n",
      " [ 1.          0.        ]]\n"
     ]
    }
   ],
   "source": [
    "print y_conv.eval({X: tr_x, keep_prob:0.5},sess)\n",
    "print y_conv.eval({X: te_x, keep_prob:1},sess)"
   ]
  },
  {
   "cell_type": "code",
   "execution_count": 26,
   "metadata": {
    "collapsed": false
   },
   "outputs": [
    {
     "name": "stdout",
     "output_type": "stream",
     "text": [
      "100.0\n",
      "156.799989939\n"
     ]
    }
   ],
   "source": [
    "print result\n",
    "print excute_time"
   ]
  },
  {
   "cell_type": "code",
   "execution_count": null,
   "metadata": {
    "collapsed": false
   },
   "outputs": [],
   "source": [
    "x_temp = np.linspace(-0.8, 0.8, 500)\n",
    "x_x_temp = map(lambda x: x*x+50,x_temp)\n",
    "x_x_temp = (87*2)*x_x_temp\n",
    "print y_conv.eval({X: x_x_temp, keep_prob:1},sess)"
   ]
  },
  {
   "cell_type": "code",
   "execution_count": 29,
   "metadata": {
    "collapsed": true
   },
   "outputs": [],
   "source": [
    "ecg_header = []\n",
    "ecg_time = []\n",
    "ecg_code = []\n",
    "rpeak_time = []\n",
    "rpeak_code = []\n",
    "peak_index = []"
   ]
  },
  {
   "cell_type": "code",
   "execution_count": 30,
   "metadata": {
    "collapsed": true
   },
   "outputs": [],
   "source": [
    "read_ecg_from_csv(ecg_filename[2])"
   ]
  },
  {
   "cell_type": "code",
   "execution_count": 32,
   "metadata": {
    "collapsed": false
   },
   "outputs": [
    {
     "name": "stdout",
     "output_type": "stream",
     "text": [
      "1048575\n"
     ]
    }
   ],
   "source": [
    "print len(ecg_code)"
   ]
  },
  {
   "cell_type": "code",
   "execution_count": 37,
   "metadata": {
    "collapsed": false
   },
   "outputs": [
    {
     "name": "stdout",
     "output_type": "stream",
     "text": [
      "[[ 1.  0.]\n",
      " [ 1.  0.]\n",
      " [ 1.  0.]\n",
      " ..., \n",
      " [ 1.  0.]\n",
      " [ 1.  0.]\n",
      " [ 1.  0.]]\n"
     ]
    }
   ],
   "source": [
    "x = ecg_code[:1048500] \n",
    "x = np.reshape(x, [-1,500])\n",
    "print y_conv.eval({X: x, keep_prob:1},sess)"
   ]
  }
 ],
 "metadata": {
  "anaconda-cloud": {},
  "kernelspec": {
   "display_name": "Python [conda root]",
   "language": "python",
   "name": "conda-root-py"
  },
  "language_info": {
   "codemirror_mode": {
    "name": "ipython",
    "version": 2
   },
   "file_extension": ".py",
   "mimetype": "text/x-python",
   "name": "python",
   "nbconvert_exporter": "python",
   "pygments_lexer": "ipython2",
   "version": "2.7.12"
  }
 },
 "nbformat": 4,
 "nbformat_minor": 1
}
