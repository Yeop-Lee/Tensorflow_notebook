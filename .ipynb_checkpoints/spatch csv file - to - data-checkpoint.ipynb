{
 "cells": [
  {
   "cell_type": "code",
   "execution_count": 1,
   "metadata": {
    "collapsed": false,
    "scrolled": true
   },
   "outputs": [],
   "source": [
    "import tensorflow as tf\n",
    "import random\n",
    "import matplotlib.pyplot as plt\n",
    "%matplotlib inline\n",
    "import numpy as np\n",
    "import csv\n",
    "\n",
    "#----------------------setting---------------------------#\n",
    "ecg_filename = \"time_ecg_rpeak_yeop_friend_sleep\"\n",
    "rr_filename = \"rrinterval_yeop_friend_sleep_data\"\n",
    "#--------------------------------------------------------#\n",
    "\n",
    "#ecg_ values\n",
    "ecg_header = []\n",
    "ecg_time = []\n",
    "ecg_code = []\n",
    "rpeak_time = []\n",
    "rpeak_code = []\n",
    "peak_index = []\n",
    "\n",
    "#rr_values\n",
    "rr_header = []\n",
    "rr_index = []\n",
    "rr_interval = []\n",
    "hr_data = []"
   ]
  },
  {
   "cell_type": "code",
   "execution_count": 2,
   "metadata": {
    "collapsed": true
   },
   "outputs": [],
   "source": [
    "def read_ecg_from_csv(ecg_filename):\n",
    "    filename = \"data/\"+ecg_filename+\".csv\"\n",
    "    with open (filename,'rb') as csvfile:\n",
    "        reader = csv.reader(csvfile, delimiter = ',')\n",
    "        ecg_header.append(reader.next())\n",
    "        for row in reader:\n",
    "            ecg_time.append(row[0])\n",
    "            ecg_code.append(row[1])\n",
    "            rpeak_time.append(row[2])\n",
    "            rpeak_code.append(row[3])\n",
    "            if row[3] != \"0\":\n",
    "                peak_index.append(row)"
   ]
  },
  {
   "cell_type": "code",
   "execution_count": 3,
   "metadata": {
    "collapsed": false
   },
   "outputs": [],
   "source": [
    "def read_rr_from_csv(rr_filename):\n",
    "    filename = \"data/\"+rr_filename+\".csv\"\n",
    "    with open (filename,'rb') as csvfile:\n",
    "        reader = csv.reader(csvfile, delimiter = ',')\n",
    "        rr_header.append(reader.next())\n",
    "        for row in reader:\n",
    "            rr_index.append(int(row[0]))\n",
    "            rr_float = float(row[1])\n",
    "            rr_interval.append(rr_float)\n",
    "            hr_data.append((60*1000)/rr_float)"
   ]
  },
  {
   "cell_type": "code",
   "execution_count": 4,
   "metadata": {
    "collapsed": true
   },
   "outputs": [],
   "source": [
    "def get_hr_data(rr_interval) :\n",
    "    for i in rr_interval:\n",
    "        rr_interval[i] = int(rr_interval[i])\n",
    "        hr_data.append = (60*1000)/rr_interval[i]"
   ]
  },
  {
   "cell_type": "code",
   "execution_count": 5,
   "metadata": {
    "collapsed": false
   },
   "outputs": [],
   "source": [
    "read_ecg_from_csv(ecg_filename)\n",
    "read_rr_from_csv(rr_filename)"
   ]
  },
  {
   "cell_type": "code",
   "execution_count": 6,
   "metadata": {
    "collapsed": false
   },
   "outputs": [
    {
     "name": "stdout",
     "output_type": "stream",
     "text": [
      "peak_point_number : 5025\n",
      "ecg_data_number : 1048575\n",
      "rr_index_number : 16790\n",
      "ecg_header : [['Time(H:M:S) - ECG', 'Code - ECG', 'Time(H:M:S) - R-Peak', 'Code - R-Peak']]\n",
      "rr_header : [['History Index - RR', 'R-R Interval(ms) - RR']]\n"
     ]
    }
   ],
   "source": [
    "print(\"peak_point_number : \" + str(len(peak_index))+\n",
    "      \"\\necg_data_number : \"+str(len(ecg_time))+\n",
    "     \"\\nrr_index_number : \"+str(len(rr_index))+\n",
    "     \"\\necg_header : \"+ str(ecg_header)+\n",
    "     \"\\nrr_header : \"+ str(rr_header))"
   ]
  },
  {
   "cell_type": "code",
   "execution_count": 7,
   "metadata": {
    "collapsed": false,
    "scrolled": false
   },
   "outputs": [
    {
     "data": {
      "image/png": "[encoded data removed]",
      "text/plain": [
       "<matplotlib.figure.Figure at 0x7f252e0e3cd0>"
      ]
     },
     "metadata": {},
     "output_type": "display_data"
    }
   ],
   "source": [
    "plt.plot(rr_index,hr_data,'g-')\n",
    "plt.xlabel('RR_interval_index')\n",
    "plt.ylabel('HR_data( 60*1000 msec / RR-interval)')\n",
    "plt.ylim(40.0, 130.0)\n",
    "plt.show()"
   ]
  },
  {
   "cell_type": "code",
   "execution_count": 8,
   "metadata": {
    "collapsed": true
   },
   "outputs": [],
   "source": [
    "def weight_variable(shape):\n",
    "    initial = tf.truncated_normal(shape, stddev=0.1)\n",
    "    return tf.Variable(initial)\n",
    "\n",
    "def bias_variable(shape):\n",
    "    initial = tf.constant(0.1, shape=shape)\n",
    "    return tf.Variable(initial)\n",
    "\n",
    "def to_ndarray(list):\n",
    "    lgt = len(list)\n",
    "    x = np.zeros((1,lgt),dtype ='float')\n",
    "    for i in range(0,lgt):\n",
    "        x[0,i]=list[i]\n",
    "    return x"
   ]
  },
  {
   "cell_type": "markdown",
   "metadata": {},
   "source": [
    "# for test, switch Code <-->Heading\n",
    "rr_index = np.linspace(0.2, 0.8, 101)\n",
    "hr_data = map(lambda x: 1/x, rr_index)\n",
    "# copy & paste below data : x_test = np.linspace(0.2, 0.8, 10*len(rr_index))\n",
    "# backup_code : x_test = np.linspace(0 ,len(rr_index),10*len(rr_index))"
   ]
  },
  {
   "cell_type": "code",
   "execution_count": 19,
   "metadata": {
    "collapsed": false
   },
   "outputs": [],
   "source": [
    "x_data = to_ndarray(rr_index)\n",
    "y_data = to_ndarray(hr_data)"
   ]
  },
  {
   "cell_type": "code",
   "execution_count": 15,
   "metadata": {
    "collapsed": false
   },
   "outputs": [],
   "source": [
    "hiddenDim = 10\n",
    "\n",
    "#linear Regression\n",
    "W = weight_variable([hiddenDim,1])\n",
    "b = bias_variable([hiddenDim,1])\n",
    "\n",
    "W2 = weight_variable([1,hiddenDim])\n",
    "b2 = bias_variable([1])\n",
    "\n",
    "X = tf.placeholder(\"float\",[1,None])\n",
    "\n",
    "hidden = tf.nn.sigmoid(tf.matmul(W,X)+b)\n",
    "regression = tf.matmul(W2,hidden) + b2\n",
    "\n",
    "loss = tf.reduce_mean(tf.square( y_data - regression))\n",
    "\n",
    "step = tf.Variable(0,trainable=False)\n",
    "#rate = tf.train.exponential_decay(0.15, step,1, 0.9999)\n",
    "rate = 0.01\n",
    "\n",
    "optimizer = tf.train.AdamOptimizer(rate)\n",
    "train = optimizer.minimize(loss, global_step = step)"
   ]
  },
  {
   "cell_type": "code",
   "execution_count": 16,
   "metadata": {
    "collapsed": false,
    "scrolled": true
   },
   "outputs": [
    {
     "name": "stdout",
     "output_type": "stream",
     "text": [
      "0 6.27872\n",
      "100 0.888896\n",
      "200 0.615912\n",
      "300 0.32821\n",
      "400 0.152624\n",
      "500 0.0802549\n",
      "600 0.0574373\n",
      "700 0.0494924\n",
      "800 0.0446386\n",
      "900 0.0404279\n",
      "1000 0.0364683\n",
      "1100 0.0326803\n",
      "1200 0.0290561\n",
      "1300 0.0256158\n",
      "1400 0.0223898\n",
      "1500 0.0194102\n",
      "1600 0.0167044\n",
      "1700 0.0142919\n",
      "1800 0.0121815\n",
      "1900 0.01037\n",
      "2000 0.00884384\n"
     ]
    }
   ],
   "source": [
    "init = tf.initialize_all_variables()\n",
    "\n",
    "sess = tf.Session()\n",
    "sess.run(init)\n",
    "\n",
    "for step in xrange(2001):\n",
    "    train.run({X: x_data},sess)\n",
    "    if step % 100 == 0:\n",
    "        print step, loss.eval({X: x_data},sess)"
   ]
  },
  {
   "cell_type": "code",
   "execution_count": 18,
   "metadata": {
    "collapsed": false
   },
   "outputs": [
    {
     "data": {
      "image/png": "[encoded data removed]",
      "text/plain": [
       "<matplotlib.figure.Figure at 0x7f250413ffd0>"
      ]
     },
     "metadata": {},
     "output_type": "display_data"
    }
   ],
   "source": [
    " x_test = np.linspace(0 ,len(rr_index),10*len(rr_index))\n",
    "y_test = regression.eval({X:to_ndarray(x_test)},sess)\n",
    "\n",
    "plt.plot(rr_index,hr_data,'yo')\n",
    "plt.plot(x_test,y_test.transpose().tolist(),'r-')\n",
    "plt.show()"
   ]
  },
  {
   "cell_type": "code",
   "execution_count": null,
   "metadata": {
    "collapsed": true
   },
   "outputs": [],
   "source": []
  }
 ],
 "metadata": {
  "kernelspec": {
   "display_name": "Python 2",
   "language": "python",
   "name": "python2"
  },
  "language_info": {
   "codemirror_mode": {
    "name": "ipython",
    "version": 2
   },
   "file_extension": ".py",
   "mimetype": "text/x-python",
   "name": "python",
   "nbconvert_exporter": "python",
   "pygments_lexer": "ipython2",
   "version": "2.7.6"
  }
 },
 "nbformat": 4,
 "nbformat_minor": 0
}
