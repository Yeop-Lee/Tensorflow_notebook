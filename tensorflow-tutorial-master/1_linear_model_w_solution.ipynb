{
 "cells": [
  {
   "cell_type": "code",
   "execution_count": null,
   "metadata": {
    "collapsed": true
   },
   "outputs": [],
   "source": [
    "import numpy as np\n",
    "import tensorflow as tf"
   ]
  },
  {
   "cell_type": "code",
   "execution_count": null,
   "metadata": {
    "collapsed": false
   },
   "outputs": [],
   "source": [
    "sw = tf.train.SummaryWriter('.', graph=tf.get_default_graph())"
   ]
  },
  {
   "cell_type": "code",
   "execution_count": null,
   "metadata": {
    "collapsed": false
   },
   "outputs": [],
   "source": [
    "W = tf.get_variable(shape=[1,2], name='weights')"
   ]
  },
  {
   "cell_type": "code",
   "execution_count": null,
   "metadata": {
    "collapsed": false
   },
   "outputs": [],
   "source": [
    "b = tf.get_variable(shape=[1,], name='bias')"
   ]
  },
  {
   "cell_type": "code",
   "execution_count": null,
   "metadata": {
    "collapsed": true
   },
   "outputs": [],
   "source": [
    "x = tf.placeholder(shape=[2,1], dtype=tf.float32, name='x')"
   ]
  },
  {
   "cell_type": "code",
   "execution_count": null,
   "metadata": {
    "collapsed": true
   },
   "outputs": [],
   "source": [
    "y = tf.matmul(W, x) + b\n"
   ]
  },
  {
   "cell_type": "code",
   "execution_count": null,
   "metadata": {
    "collapsed": false
   },
   "outputs": [],
   "source": [
    "sw.add_graph(graph=tf.get_default_graph())"
   ]
  },
  {
   "cell_type": "code",
   "execution_count": null,
   "metadata": {
    "collapsed": true
   },
   "outputs": [],
   "source": [
    "init = tf.initialize_all_variables()\n",
    "sess = tf.Session()"
   ]
  },
  {
   "cell_type": "code",
   "execution_count": null,
   "metadata": {
    "collapsed": true
   },
   "outputs": [],
   "source": [
    "sess.run(init)"
   ]
  },
  {
   "cell_type": "code",
   "execution_count": null,
   "metadata": {
    "collapsed": true
   },
   "outputs": [],
   "source": [
    "x_in = [[3], [4]]"
   ]
  },
  {
   "cell_type": "code",
   "execution_count": null,
   "metadata": {
    "collapsed": false
   },
   "outputs": [],
   "source": [
    "sess.run(y, feed_dict={x: x_in})"
   ]
  },
  {
   "cell_type": "code",
   "execution_count": null,
   "metadata": {
    "collapsed": false
   },
   "outputs": [],
   "source": [
    "y_label = tf.placeholder(shape=[], dtype=tf.float32, name='y_label')\n",
    "diff = y - y_label\n",
    "L = tf.reduce_sum(diff * diff)"
   ]
  },
  {
   "cell_type": "code",
   "execution_count": null,
   "metadata": {
    "collapsed": false
   },
   "outputs": [],
   "source": [
    "train = tf.train.GradientDescentOptimizer(learning_rate=0.01).minimize(L)"
   ]
  },
  {
   "cell_type": "code",
   "execution_count": null,
   "metadata": {
    "collapsed": false
   },
   "outputs": [],
   "source": [
    "eval_data = np.loadtxt(open(\"eval_data.csv\",\"rb\"), delimiter=\",\")\n",
    "def eval():\n",
    "    acc = 0.\n",
    "    for x1, x2, y_in in eval_data:\n",
    "        acc += sess.run(L, feed_dict={x: [[x1],[x2]], y_label: y_in})\n",
    "    print acc/len(eval_data)\n",
    "eval()"
   ]
  },
  {
   "cell_type": "code",
   "execution_count": null,
   "metadata": {
    "collapsed": false
   },
   "outputs": [],
   "source": [
    "data = np.loadtxt(open(\"training_data.csv\",\"rb\"), delimiter=\",\")\n",
    "for x1, x2, y_in in data:\n",
    "  sess.run(train, feed_dict={x: [[x1],[x2]], y_label: y_in})"
   ]
  },
  {
   "cell_type": "code",
   "execution_count": null,
   "metadata": {
    "collapsed": false
   },
   "outputs": [],
   "source": [
    "eval()"
   ]
  },
  {
   "cell_type": "code",
   "execution_count": null,
   "metadata": {
    "collapsed": false
   },
   "outputs": [],
   "source": [
    "tf.logging.set_verbosity(tf.logging.INFO)\n",
    "R = tf.contrib.learn.LinearRegressor(feature_columns=[tf.contrib.layers.real_valued_column('', dimension=2)], \n",
    "                                     optimizer=tf.train.GradientDescentOptimizer(learning_rate=0.01))\n",
    "R.fit(x=data[:,0:2], y=data[:,2:3], batch_size=10, max_steps=1000)\n",
    "R.evaluate(x=eval_data[:,0:2], y=eval_data[:,2:3])\n",
    "R.predict(x=np.asarray([1.5, 3.4]))"
   ]
  },
  {
   "cell_type": "code",
   "execution_count": null,
   "metadata": {
    "collapsed": false
   },
   "outputs": [],
   "source": [
    "D = tf.contrib.learn.DNNRegressor(feature_columns=[tf.contrib.layers.real_valued_column('', dimension=2)],\n",
    "                                  hidden_units=[10,]*9)\n",
    "D.fit(x=data[:,0:2], y=data[:,2:3], batch_size=10, max_steps=1000)\n",
    "D.evaluate(x=eval_data[:,0:2], y=eval_data[:,2:3])\n",
    "D.predict(x=np.asarray([1.5, 3.4]))"
   ]
  },
  {
   "cell_type": "code",
   "execution_count": null,
   "metadata": {
    "collapsed": false
   },
   "outputs": [],
   "source": [
    "filename_queue = tf.train.string_input_producer([\"training_data.csv\"], num_epochs=1)\n",
    "reader = tf.TextLineReader()\n",
    "key, line = reader.read(filename_queue)\n",
    "x1,x2,y_in = tf.decode_csv(line, record_defaults=[[0.0], [0.0], [0.0]])\n",
    "sess.run(tf.group(tf.initialize_all_variables(),\n",
    "                  tf.initialize_local_variables()))\n",
    "tf.train.start_queue_runners(sess)"
   ]
  },
  {
   "cell_type": "code",
   "execution_count": null,
   "metadata": {
    "collapsed": false
   },
   "outputs": [],
   "source": [
    "xq = tf.expand_dims(tf.pack([x1,x2]), 1)\n",
    "yq = tf.matmul(W, xq) + b\n",
    "diff = yq - y_in\n",
    "Lq = tf.reduce_sum(diff * diff)\n",
    "trainq = tf.train.GradientDescentOptimizer(learning_rate=0.01).minimize(Lq)"
   ]
  },
  {
   "cell_type": "code",
   "execution_count": null,
   "metadata": {
    "collapsed": false
   },
   "outputs": [],
   "source": [
    "try:\n",
    "    for i in xrange(100000):\n",
    "        sess.run(trainq)\n",
    "        if i % 1000 == 0:\n",
    "            print \"i %d\" % i\n",
    "            eval()\n",
    "except tf.errors.OutOfRangeError:\n",
    "    print \"done, i=%d\" % i"
   ]
  },
  {
   "cell_type": "code",
   "execution_count": null,
   "metadata": {
    "collapsed": false
   },
   "outputs": [],
   "source": [
    "eval()"
   ]
  },
  {
   "cell_type": "code",
   "execution_count": null,
   "metadata": {
    "collapsed": false
   },
   "outputs": [],
   "source": [
    "saver = tf.train.Saver()\n",
    "saver.save(sess, 'my_checkpoint.ckpt')"
   ]
  },
  {
   "cell_type": "code",
   "execution_count": null,
   "metadata": {
    "collapsed": false
   },
   "outputs": [],
   "source": [
    "sess.run(init)\n",
    "eval()"
   ]
  },
  {
   "cell_type": "code",
   "execution_count": null,
   "metadata": {
    "collapsed": false
   },
   "outputs": [],
   "source": [
    "saver.restore(sess, 'my_checkpoint.ckpt')\n",
    "eval()"
   ]
  },
  {
   "cell_type": "code",
   "execution_count": null,
   "metadata": {
    "collapsed": false
   },
   "outputs": [],
   "source": []
  }
 ],
 "metadata": {
  "kernelspec": {
   "display_name": "Python 2",
   "language": "python",
   "name": "python2"
  },
  "language_info": {
   "codemirror_mode": {
    "name": "ipython",
    "version": 2
   },
   "file_extension": ".py",
   "mimetype": "text/x-python",
   "name": "python",
   "nbconvert_exporter": "python",
   "pygments_lexer": "ipython2",
   "version": "2.7.10"
  }
 },
 "nbformat": 4,
 "nbformat_minor": 0
}
