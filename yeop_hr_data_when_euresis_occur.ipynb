{
 "cells": [
  {
   "cell_type": "code",
   "execution_count": 17,
   "metadata": {
    "collapsed": false
   },
   "outputs": [],
   "source": [
    "from __future__ import print_function\n",
    "\n",
    "import tensorflow as tf\n",
    "import numpy as np\n",
    "import matplotlib.pyplot as plt\n",
    "import math as math\n",
    "\n",
    "Ecg_filename = \"data/time_ecg_rpeak_yeopdata.csv\"\n",
    "Rr_filename = \"data/rrinterval_hrate_yeopdata.csv\""
   ]
  },
  {
   "cell_type": "code",
   "execution_count": 1,
   "metadata": {
    "collapsed": true
   },
   "outputs": [],
   "source": [
    "def file_load(fname):\n",
    "    with open(fname) as f:\n",
    "        for i,l in enumerate(f):\n",
    "            pass\n",
    "        return i+1"
   ]
  },
  {
   "cell_type": "code",
   "execution_count": 19,
   "metadata": {
    "collapsed": false
   },
   "outputs": [],
   "source": [
    "def read_ecg_csv(fname):\n",
    "    reader = tf.TextLineReader(skip_header_lines = 1)\n",
    "    filename_queue = tf.train.string_input_producer([fname])\n",
    "    _, csv_row= reader.read(filename_queue)\n",
    "    record_defaults = [[0],[0],[0],[0]]\n",
    "    col_ecg_time, col_ecg_code, col_rpeak_time, col_rpeak_code = tf.decode_csv(csv_row, record_defaults = record_defaults)\n",
    "    features = tf.pack([col_ecg_time, col_ecg_code, col_rpeak_time, col_rpeak_code])\n",
    "    label = tf.pack([csv_row])\n",
    "    return features, label"
   ]
  },
  {
   "cell_type": "code",
   "execution_count": 20,
   "metadata": {
    "collapsed": false
   },
   "outputs": [],
   "source": [
    "def read_rrinterval_csv(fname):\n",
    "    reader = tf.TextLineReader(skip_header_lines = 1)\n",
    "    filename_queue = tf.train.string_input_producer([fname])\n",
    "    _, csv_row = reader.read(filename_queue)\n",
    "    record_defaults = [[0],[0]]\n",
    "    col_rr_index, col_rr_interval = tf.decode_csv(csv_row, record_defaults = record_defaults)\n",
    "    features = tf.pack([col_rr_index, col_rr_interval, (60*1000)/col_rr_interval])\n",
    "    label = tf.pack([col_rr_index])\n",
    "    return features, label"
   ]
  },
  {
   "cell_type": "code",
   "execution_count": 21,
   "metadata": {
    "collapsed": false
   },
   "outputs": [
    {
     "name": "stdout",
     "output_type": "stream",
     "text": [
      "587648 lines\n",
      "2863 lines\n"
     ]
    }
   ],
   "source": [
    "Ecg_file_len = file_load(Ecg_filename) - 1\n",
    "Rr_file_len = file_load(Rr_filename) - 1\n",
    "\n",
    "\n",
    "print(str(Ecg_file_len)+ \" lines\")\n",
    "print(str(Rr_file_len) + \" lines\")"
   ]
  },
  {
   "cell_type": "code",
   "execution_count": 22,
   "metadata": {
    "collapsed": false
   },
   "outputs": [],
   "source": [
    "Ecg_features, Ecg_labels = read_ecg_csv(Ecg_filename)\n",
    "Rr_features, Rr_labels = read_rrinterval_csv(Rr_filename)"
   ]
  },
  {
   "cell_type": "code",
   "execution_count": 26,
   "metadata": {
    "collapsed": false
   },
   "outputs": [
    {
     "name": "stdout",
     "output_type": "stream",
     "text": [
      "Tensor(\"pack_4:0\", shape=(4,), dtype=int32)\n",
      "Tensor(\"pack_5:0\", shape=(1,), dtype=string)\n",
      "Tensor(\"pack_6:0\", shape=(3,), dtype=int32)\n",
      "Tensor(\"pack_7:0\", shape=(1,), dtype=int32)\n"
     ]
    }
   ],
   "source": [
    "# see dtype & shape print(str(Ecg_features) + \"\\n\" + str(Ecg_labels) + \"\\n\" + str(Rr_features) + \"\\n\" + str(Rr_labels))"
   ]
  },
  {
   "cell_type": "code",
   "execution_count": null,
   "metadata": {
    "collapsed": false
   },
   "outputs": [],
   "source": [
    "with tf.Session() as sess:\n",
    "    sess.run([Rr_features])\n",
    "    print (Rr_features.eval())"
   ]
  },
  {
   "cell_type": "code",
   "execution_count": null,
   "metadata": {
    "collapsed": true
   },
   "outputs": [],
   "source": []
  }
 ],
 "metadata": {
  "kernelspec": {
   "display_name": "Python 2",
   "language": "python",
   "name": "python2"
  },
  "language_info": {
   "codemirror_mode": {
    "name": "ipython",
    "version": 2
   },
   "file_extension": ".py",
   "mimetype": "text/x-python",
   "name": "python",
   "nbconvert_exporter": "python",
   "pygments_lexer": "ipython2",
   "version": "2.7.6"
  }
 },
 "nbformat": 4,
 "nbformat_minor": 0
}
