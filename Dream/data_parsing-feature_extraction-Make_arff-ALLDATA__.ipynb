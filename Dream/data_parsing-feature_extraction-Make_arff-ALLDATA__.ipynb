{
 "cells": [
  {
   "cell_type": "code",
   "execution_count": 1,
   "metadata": {
    "collapsed": true
   },
   "outputs": [],
   "source": [
    "import pyedflib\n",
    "import matplotlib.pyplot as plt\n",
    "import numpy as np\n",
    "import math\n",
    "import tensorflow as tf\n",
    "import scipy, pylab\n",
    "import csv\n",
    "index = [\"1\",\"2\",\"3\",\"4\",\"5\",\"6\",\"7\",\"8\",\"9\",\"10\", \n",
    "         \"11\", \"12\", \"13\", \"14\",\"15\",\"16\",\"17\",\"18\",\"19\",\"20\"]"
   ]
  },
  {
   "cell_type": "code",
   "execution_count": 2,
   "metadata": {
    "collapsed": true
   },
   "outputs": [],
   "source": [
    "def read_stage(index,index_num):\n",
    "    f = open(\"DatabaseSubjects/HypnogramR&K_subject\"+index[index_num]+\".txt\")\n",
    "    return [line[:-1] for line in f]"
   ]
  },
  {
   "cell_type": "code",
   "execution_count": 3,
   "metadata": {
    "collapsed": true
   },
   "outputs": [],
   "source": [
    "def read_edf(index,index_num):\n",
    "    f= pyedflib.EdfReader(\"DatabaseSubjects/subject\"+index[index_num]+\".edf\")\n",
    "    n = f.signals_in_file\n",
    "    signal_labels = f.getSignalLabels()\n",
    "    sigbufs = np.zeros((n, f.getNSamples()[0]))\n",
    "    for i in np.arange(n):\n",
    "        sigbufs[i, :]=f.readSignal(i)\n",
    "    label = [ f.getLabel(1) ,  f.getLabel(2) ,  f.getLabel(15) ,  f.getLabel(16)\n",
    "             ,  f.getLabel(17) ,  f.getLabel(18)]\n",
    "    return label, sigbufs[1],  sigbufs[2], sigbufs[15], sigbufs[16], sigbufs[17], sigbufs[18],f"
   ]
  },
  {
   "cell_type": "code",
   "execution_count": 4,
   "metadata": {
    "collapsed": true
   },
   "outputs": [],
   "source": [
    "def stft(x, fs, framesz, hop):\n",
    "    \"\"\"\n",
    "     x - signal\n",
    "     fs - sample rate\n",
    "     framesz - frame size\n",
    "     hop - hop size (frame size = overlap + hop size)\n",
    "    \"\"\"\n",
    "    framesamp = int(framesz*fs)\n",
    "    hopsamp = int(hop*fs)\n",
    "    w = np.hanning(framesamp)\n",
    "    X = np.array([np.fft.rfft(w*x[i:i+framesamp]) \n",
    "                     for i in range(0, len(x)-framesamp, hopsamp)])\n",
    "    return X"
   ]
  },
  {
   "cell_type": "code",
   "execution_count": 5,
   "metadata": {
    "collapsed": true
   },
   "outputs": [],
   "source": [
    "def padding(stft_):\n",
    "    y_ = np.array(stft_.T)\n",
    "    temp = []\n",
    "    for i in range(0,len(y_)):\n",
    "        temp.append(np.insert(y_[i],[0,-1],[y_[i][0],y_[i][-1]]))\n",
    "    temp = np.reshape(temp,[len(y_),-1])    \n",
    "        #temp = np.reshape(np.append(temp, np.insert(y_[i],[0,-1],[y_[i][0],y_[i][-1]])),[len(y_),-1]) \n",
    "    return temp"
   ]
  },
  {
   "cell_type": "code",
   "execution_count": 6,
   "metadata": {
    "collapsed": true
   },
   "outputs": [],
   "source": [
    "def split_frequency(padded_stft_):\n",
    "    delta = np.array([padded_stft_[c] for c in range(1,5)])   \n",
    "    theta = np.array([padded_stft_[c] for c in range(5,9)])\n",
    "    alpha = np.array([padded_stft_[c] for c in range(9,13)])\n",
    "    beta  = np.array([padded_stft_[c] for c in range(13,31)])   \n",
    "    return delta, theta, alpha, beta"
   ]
  },
  {
   "cell_type": "code",
   "execution_count": 7,
   "metadata": {
    "collapsed": true
   },
   "outputs": [],
   "source": [
    "def split_time(signal_data): \n",
    "    temp= []\n",
    "    for i in range(0, len(signal_data)):     \n",
    "        temp.append(np.reshape(signal_data[i],[-1,10]))\n",
    "    return np.array(temp)"
   ]
  },
  {
   "cell_type": "code",
   "execution_count": 8,
   "metadata": {
    "collapsed": true
   },
   "outputs": [],
   "source": [
    "def extract_feature(s_signal_data):\n",
    "    mean = np.mean(s_signal_data,axis=2)\n",
    "    mean = np.mean(mean,axis=0)\n",
    "    mqv = mean_quadratic_value(s_signal_data)\n",
    "    min_ = np.amin(s_signal_data,axis=2)\n",
    "    min_ = np.amin(min_,axis=0)\n",
    "    max_ = np.amax(s_signal_data,axis=2)\n",
    "    max_ = np.amax(max_,axis=0)\n",
    "    return (np.abs(mean), np.angle(mean), mqv,  np.abs(min_), np.abs(max_))"
   ]
  },
  {
   "cell_type": "code",
   "execution_count": 9,
   "metadata": {
    "collapsed": true
   },
   "outputs": [],
   "source": [
    "def mean_quadratic_value(s_signal_data):\n",
    "    mqv = []\n",
    "    scale = len(s_signal_data)*len(s_signal_data[0][0])\n",
    "    for k in range(0, len(s_signal_data[0])):\n",
    "        t_mqv = 0\n",
    "        for  i in range(0, len(s_signal_data)):\n",
    "            for j in range(0, len(s_signal_data[0][0])):\n",
    "                t_mqv = t_mqv + s_signal_data[i][k][j]*s_signal_data[i][k][j]\n",
    "        t_mqv = t_mqv/scale\n",
    "        t_mqv = math.sqrt(np.abs(t_mqv))\n",
    "        mqv.append(t_mqv)\n",
    "    return mqv"
   ]
  },
  {
   "cell_type": "code",
   "execution_count": 10,
   "metadata": {
    "collapsed": true
   },
   "outputs": [],
   "source": [
    "def ratio_of_values(mqv_delta, mqv_theta, mqv_alpha, mqv_beta):\n",
    "    delta = mqv_delta/(mqv_theta+mqv_alpha+mqv_beta)\n",
    "    theta = mqv_theta/(mqv_delta+mqv_alpha+mqv_beta)\n",
    "    alpha = mqv_alpha/(mqv_delta+mqv_theta+mqv_beta)\n",
    "    beta  = mqv_beta/(mqv_delta+mqv_theta+mqv_alpha)\n",
    "    return delta, theta, alpha, beta"
   ]
  },
  {
   "cell_type": "code",
   "execution_count": 11,
   "metadata": {
    "collapsed": true
   },
   "outputs": [],
   "source": [
    "def zip_feature(feature_data_0,feature_data_1,feature_data_2,\n",
    "                feature_data_3,feature_data_4,feature_data_5):\n",
    "    return np.array(feature_data_0+feature_data_1+feature_data_2+\n",
    "                feature_data_3+feature_data_4+feature_data_5)"
   ]
  },
  {
   "cell_type": "code",
   "execution_count": null,
   "metadata": {
    "collapsed": true
   },
   "outputs": [],
   "source": [
    "fs = 200       # sampled at fs Hz\n",
    "framesz = 1 # with a frame size of framesz  seconds\n",
    "hop = 0.5    # and hop size of hop seconds."
   ]
  },
  {
   "cell_type": "code",
   "execution_count": null,
   "metadata": {
    "collapsed": false
   },
   "outputs": [],
   "source": [
    "for c in range(1,len(index)):\n",
    "    index_num = c\n",
    "    stage = read_stage(index, index_num)\n",
    "    #5sec r&k stage\n",
    "    label, eeg0, eeg1, eeg2, eeg3, eeg4, eeg5,f = read_edf(index, index_num)\n",
    "    f._close()\n",
    "    #200HZ, eeg 0 : FP1 -A2 / eeg1 : CZ-A1 / eeg2 : O1-A2 /eeg3 FP2 - A1 / eeg4: O2-A1/ eeg5: CZ2-A1\n",
    "    sleep_stage = np.array(stage[1:],int)\n",
    "    \n",
    "    # STFT.\n",
    "    X0 = stft(eeg0, fs, framesz, hop)\n",
    "    X1 = stft(eeg1, fs, framesz, hop)\n",
    "    \n",
    "    X2 = stft(eeg2, fs, framesz, hop)\n",
    "    X3 = stft(eeg3, fs, framesz, hop)\n",
    "    X4 = stft(eeg4, fs, framesz, hop)\n",
    "    X5 = stft(eeg5, fs, framesz, hop)\n",
    "    \n",
    "    a,b,c,d,e,f = padding(X0),padding(X1),padding(X2),padding(X3),padding(X4),padding(X5)\n",
    "    \n",
    "    delta_0, theta_0, alpha_0, beta_0 = split_frequency(a)\n",
    "    delta_1, theta_1, alpha_1, beta_1 = split_frequency(b)\n",
    "    delta_2, theta_2, alpha_2, beta_2 = split_frequency(c)\n",
    "    delta_3, theta_3, alpha_3, beta_3 = split_frequency(d)\n",
    "    delta_4, theta_4, alpha_4, beta_4 = split_frequency(e)\n",
    "    delta_5, theta_5, alpha_5, beta_5 = split_frequency(f)\n",
    "    \n",
    "    s_delta_0, s_theta_0, s_alpha_0, s_beta_0 = split_time(delta_0),split_time(theta_0),split_time(alpha_0),split_time(beta_0)\n",
    "    s_delta_1, s_theta_1, s_alpha_1, s_beta_1 = split_time(delta_1),split_time(theta_1),split_time(alpha_1),split_time(beta_1)\n",
    "    s_delta_2, s_theta_2, s_alpha_2, s_beta_2 = split_time(delta_2),split_time(theta_2),split_time(alpha_2),split_time(beta_2)\n",
    "    s_delta_3, s_theta_3, s_alpha_3, s_beta_3 = split_time(delta_3),split_time(theta_3),split_time(alpha_3),split_time(beta_3)\n",
    "    s_delta_4, s_theta_4, s_alpha_4, s_beta_4 = split_time(delta_4),split_time(theta_4),split_time(alpha_4),split_time(beta_4)\n",
    "    s_delta_5, s_theta_5, s_alpha_5, s_beta_5 = split_time(delta_5),split_time(theta_5),split_time(alpha_5),split_time(beta_5)\n",
    "    \n",
    "    feature_delta_0 = extract_feature(s_delta_0)\n",
    "    feature_delta_1 = extract_feature(s_delta_1)\n",
    "    feature_delta_2 = extract_feature(s_delta_2)\n",
    "    feature_delta_3 = extract_feature(s_delta_3)\n",
    "    feature_delta_4 = extract_feature(s_delta_4)\n",
    "    feature_delta_5 = extract_feature(s_delta_5)\n",
    "    \n",
    "    feature_theta_0 = extract_feature(s_theta_0)\n",
    "    feature_theta_1 = extract_feature(s_theta_1)\n",
    "    feature_theta_2 = extract_feature(s_theta_2)\n",
    "    feature_theta_3 = extract_feature(s_theta_3)\n",
    "    feature_theta_4 = extract_feature(s_theta_4)\n",
    "    feature_theta_5 = extract_feature(s_theta_5)\n",
    "    \n",
    "    feature_alpha_0 = extract_feature(s_alpha_0)\n",
    "    feature_alpha_1 = extract_feature(s_alpha_1)\n",
    "    feature_alpha_2 = extract_feature(s_alpha_2)\n",
    "    feature_alpha_3 = extract_feature(s_alpha_3)\n",
    "    feature_alpha_4 = extract_feature(s_alpha_4)\n",
    "    feature_alpha_5 = extract_feature(s_alpha_5)\n",
    "    \n",
    "    feature_beta_0 = extract_feature(s_beta_0)\n",
    "    feature_beta_1 = extract_feature(s_beta_1)\n",
    "    feature_beta_2 = extract_feature(s_beta_2)\n",
    "    feature_beta_3 = extract_feature(s_beta_3)\n",
    "    feature_beta_4 = extract_feature(s_beta_4)\n",
    "    feature_beta_5 = extract_feature(s_beta_5)\n",
    "    \n",
    "    ratio0 = ratio_of_values(feature_delta_0[3],feature_theta_0[3],feature_alpha_0[3],feature_beta_0[3])\n",
    "    ratio1 = ratio_of_values(feature_delta_1[3],feature_theta_1[3],feature_alpha_1[3],feature_beta_1[3])\n",
    "    ratio2 = ratio_of_values(feature_delta_2[3],feature_theta_2[3],feature_alpha_2[3],feature_beta_2[3])\n",
    "    ratio3 = ratio_of_values(feature_delta_3[3],feature_theta_3[3],feature_alpha_3[3],feature_beta_3[3])\n",
    "    ratio4 = ratio_of_values(feature_delta_4[3],feature_theta_4[3],feature_alpha_4[3],feature_beta_4[3])\n",
    "    ratio5 = ratio_of_values(feature_delta_5[3],feature_theta_5[3],feature_alpha_5[3],feature_beta_5[3])\n",
    "    \n",
    "    zip_delta = zip_feature(feature_delta_0,feature_delta_1,feature_delta_2,\n",
    "                        feature_delta_3,feature_delta_4,feature_delta_5)\n",
    "    zip_theta = zip_feature(feature_theta_0,feature_theta_1,feature_theta_2,\n",
    "                        feature_theta_3,feature_theta_4,feature_theta_5)\n",
    "    zip_alpha = zip_feature(feature_alpha_0,feature_alpha_1,feature_alpha_2,\n",
    "                        feature_alpha_3,feature_alpha_4,feature_alpha_5)\n",
    "    zip_beta = zip_feature(feature_beta_0,feature_beta_1,feature_beta_2,\n",
    "                       feature_beta_3,feature_beta_4,feature_beta_5)\n",
    "    zip_ratio = zip_feature(ratio0,ratio1,ratio2,ratio3,ratio4,ratio5)\n",
    "    X = zip_delta,zip_theta,zip_alpha,zip_beta\n",
    "    X = np.array(X)\n",
    "    X = X.reshape([-1,len(sleep_stage)])\n",
    "    Y = sleep_stage\n",
    "    open('weka_subject_'+index[index_num]+'.arff', 'w').close() # clear the file\n",
    "    with open('weka_subject_'+index[index_num]+'.arff', 'a', newline='') as csvfile:\n",
    "        csvwriter = csv.writer(csvfile, delimiter=',',quotechar=' ', quoting=csv.QUOTE_MINIMAL)\n",
    "        csvwriter.writerow(['@relation subject'+index[index_num]+'\\n'])\n",
    "        \n",
    "        for i in range(0,6):\n",
    "            temp_i = str(i)\n",
    "            csvwriter.writerow(['@attribute delta_abs_mean'+temp_i+' numeric'])\n",
    "            csvwriter.writerow(['@attribute delta_angle_mean'+temp_i+' numeric'])\n",
    "            csvwriter.writerow(['@attribute delta_mqv'+temp_i+' numeric'])\n",
    "            csvwriter.writerow(['@attribute delta_abs_min'+temp_i+' numeric'])\n",
    "            csvwriter.writerow(['@attribute delta_abs_max'+temp_i+' numeric'])\n",
    "        for i in range(0,6):\n",
    "            temp_i = str(i)     \n",
    "            csvwriter.writerow(['@attribute theta_abs_mean'+temp_i+' numeric'])\n",
    "            csvwriter.writerow(['@attribute theta_angle_mean'+temp_i+' numeric'])\n",
    "            csvwriter.writerow(['@attribute theta_mqv'+temp_i+' numeric'])\n",
    "            csvwriter.writerow(['@attribute theta_abs_min'+temp_i+' numeric'])\n",
    "            csvwriter.writerow(['@attribute theta_abs_max'+temp_i+' numeric'])\n",
    "        for i in range(0,6):\n",
    "            temp_i = str(i)        \n",
    "            csvwriter.writerow(['@attribute alpha_abs_mean'+temp_i+' numeric'])\n",
    "            csvwriter.writerow(['@attribute alpha_angle_mean'+temp_i+' numeric'])\n",
    "            csvwriter.writerow(['@attribute alpha_mqv'+temp_i+' numeric'])\n",
    "            csvwriter.writerow(['@attribute alpha_abs_min'+temp_i+' numeric'])\n",
    "            csvwriter.writerow(['@attribute alpha_abs_max'+temp_i+' numeric'])\n",
    "        for i in range(0,6):\n",
    "            temp_i = str(i)\n",
    "            csvwriter.writerow(['@attribute beta_abs_mean'+temp_i+' numeric'])\n",
    "            csvwriter.writerow(['@attribute beta_angle_mean'+temp_i+' numeric'])\n",
    "            csvwriter.writerow(['@attribute beta_mqv'+temp_i+' numeric'])\n",
    "            csvwriter.writerow(['@attribute beta_abs_min'+temp_i+' numeric'])\n",
    "            csvwriter.writerow(['@attribute beta_abs_max'+temp_i+' numeric'])\n",
    "        for i in range(0,6):\n",
    "            temp_i = str(i)\n",
    "            csvwriter.writerow(['@attribute ratio_delta'+temp_i+' numeric'])\n",
    "            csvwriter.writerow(['@attribute ratio_theta'+temp_i+' numeric'])\n",
    "            csvwriter.writerow(['@attribute ratio_alpha'+temp_i+' numeric'])\n",
    "            csvwriter.writerow(['@attribute ratio_beta'+temp_i+' numeric'])\n",
    "                \n",
    "        csvwriter.writerow(['@attribute sleep_stage {-1,0,1,2,3,4,5}'])\n",
    "        csvwriter.writerow(['\\n@data'])\n",
    "        for j in range(0,len(Y)):\n",
    "            temp_writer = []\n",
    "            for i in range(0,len(X)):\n",
    "                temp_writer.append(X[i][j])\n",
    "            for i in range(0,len(zip_ratio)):\n",
    "                temp_writer.append(zip_ratio[i][j])\n",
    "            temp_writer.append(Y[j])\n",
    "            csvwriter.writerow(temp_writer)"
   ]
  },
  {
   "cell_type": "code",
   "execution_count": null,
   "metadata": {
    "collapsed": true
   },
   "outputs": [],
   "source": []
  }
 ],
 "metadata": {
  "anaconda-cloud": {},
  "kernelspec": {
   "display_name": "Python [default]",
   "language": "python",
   "name": "python3"
  },
  "language_info": {
   "codemirror_mode": {
    "name": "ipython",
    "version": 3
   },
   "file_extension": ".py",
   "mimetype": "text/x-python",
   "name": "python",
   "nbconvert_exporter": "python",
   "pygments_lexer": "ipython3",
   "version": "3.5.2"
  }
 },
 "nbformat": 4,
 "nbformat_minor": 1
}
