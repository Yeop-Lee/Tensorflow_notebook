{
 "cells": [
  {
   "cell_type": "code",
   "execution_count": 1,
   "metadata": {
    "collapsed": false
   },
   "outputs": [],
   "source": [
    "import tensorflow as tf\n",
    "import random\n",
    "import matplotlib.pyplot as plt\n",
    "%matplotlib inline\n",
    "import numpy as np\n",
    "import time\n",
    "import csv"
   ]
  },
  {
   "cell_type": "markdown",
   "metadata": {},
   "source": [
    "# File Name"
   ]
  },
  {
   "cell_type": "code",
   "execution_count": 2,
   "metadata": {
    "collapsed": true
   },
   "outputs": [],
   "source": [
    "tr_file = \"5Act_Var_Tr1_JH_Wifi_raw_complete\"\n",
    "te_file = \"5Act_Var_Te1_JH_Wifi_raw_complete\""
   ]
  },
  {
   "cell_type": "markdown",
   "metadata": {},
   "source": [
    "# variable "
   ]
  },
  {
   "cell_type": "code",
   "execution_count": 14,
   "metadata": {
    "collapsed": false
   },
   "outputs": [],
   "source": [
    "ap_address = []\n",
    "ap_signal = []\n",
    "location = []\n",
    "ap_lev = []\n",
    "ap_lev_times = []\n",
    "selected_ap_index = []"
   ]
  },
  {
   "cell_type": "markdown",
   "metadata": {},
   "source": [
    "# Function =================================="
   ]
  },
  {
   "cell_type": "markdown",
   "metadata": {},
   "source": [
    "file은 한번 만 읽어서 각 array에 저장한 후에 처리하도록 함(같은 파일을 다시 읽지 않음)"
   ]
  },
  {
   "cell_type": "code",
   "execution_count": 4,
   "metadata": {
    "collapsed": true
   },
   "outputs": [],
   "source": [
    "def read_file(filename,ap_address, ap_signal, location):\n",
    "    filename =  \"data/testfornn/\"+filename+\".csv\"\n",
    "    with open(filename, 'rb') as csvfile:\n",
    "        reader = csv.reader (csvfile, delimiter = ',')\n",
    "        for row in reader:\n",
    "            ap_address.append(row[2])\n",
    "            ap_signal.append(row[3])\n",
    "            location.append(row[4])"
   ]
  },
  {
   "cell_type": "markdown",
   "metadata": {},
   "source": [
    "총 ap_address 들을 구해줌"
   ]
  },
  {
   "cell_type": "code",
   "execution_count": 26,
   "metadata": {
    "collapsed": true
   },
   "outputs": [],
   "source": [
    "def get_ap_lev(ap_address,ap_lev):\n",
    "    for i in range(0,len(ap_address)):\n",
    "        if ap_address[i] not in ap_lev:\n",
    "            ap_lev.append(ap_address[i])\n",
    "    return ap_lev"
   ]
  },
  {
   "cell_type": "markdown",
   "metadata": {},
   "source": [
    "해당 ap가 총 몇 회 불렸는지 확인하는 함수 해당 함수는 get_ap_lev 함수 실행 이후에 돌려야함"
   ]
  },
  {
   "cell_type": "code",
   "execution_count": 6,
   "metadata": {
    "collapsed": false
   },
   "outputs": [],
   "source": [
    "def get_ap_levtimes(ap_address,ap_lev,ap_lev_times):\n",
    "    ap_lev_times = np.zeros(len(ap_lev),dtype=np.int)\n",
    "    for i in range(0, len(ap_address)):\n",
    "        index = ap_lev.index(ap_address[i])\n",
    "        ap_lev_times[index] += 1\n",
    "    return ap_lev_times"
   ]
  },
  {
   "cell_type": "markdown",
   "metadata": {},
   "source": [
    "ap_signal의 등장횟수가 많은 것을 기준으로 NN에 이용할 AP를 선택하는 함수"
   ]
  },
  {
   "cell_type": "code",
   "execution_count": 20,
   "metadata": {
    "collapsed": true
   },
   "outputs": [],
   "source": [
    "def select_ap_address(data_max,ap_lev_times, selected_ap_index):\n",
    "    threshold = data_max # data_max *0.05\n",
    "    for i in range(0,len(ap_lev_times)):\n",
    "        if ap_lev_times[i] >= threshold:\n",
    "            selected_ap_index.append(i)\n",
    "    return threshold"
   ]
  },
  {
   "cell_type": "markdown",
   "metadata": {},
   "source": [
    "data의 수가 가장 많은 것을 기준으로, 해당 data의 등장후 다음 등장 이전까지를 하나의 epoch으로 지정\n",
    "\n",
    "위의 흐름대로 진행할 때 데이터 중에서 다른 location 데이터와 함께 들어와 있는 경우, \n",
    "무조건 행에 따라서 data를 나열하면 input(ap_signal)과 output(location)에 혼선이 있을 우려가 있음\n",
    "\n",
    "[0 1 2 0 1 2 0 1] 로 등장하였다고 가정하고, 해당 하는 location 이<br>[5 5 5 5 5 5 5 4] 로 등장하였을 경우, \n",
    "\n",
    "마지막 두 개의 ap_address_index에서 0 1 이 다른 location인 경우가 발생되는 것을 방지하고자 함\n",
    "\n",
    "우선 location 별로 partition을 생성한 다음, 각 파티션 별로 ap selected array를 구현한 다음 다시 합쳐지는 방식을 이용함\n",
    "\n",
    "\n",
    "1. (선택된 ap index) x (data_max) 행렬\n",
    "2. (location) x (data_max) 행렬"
   ]
  },
  {
   "cell_type": "code",
   "execution_count": null,
   "metadata": {
    "collapsed": true
   },
   "outputs": [],
   "source": [
    "def location_partition(ap_address, ap_signal,ap_lev, selected_ap_index, location):\n",
    "    epoch_benchmark = ap_lev[selected_ap_index[0]]\n",
    "    for i in range(0,len(ap_address)):\n",
    "        "
   ]
  },
  {
   "cell_type": "markdown",
   "metadata": {},
   "source": [
    "location을 softmax함수에 이용할 수 있도록 변환 <br>\n",
    "1 => [0,1,0,0]<br>\n",
    "3 => [0,0,0,1] 식으로 변환하는 함수"
   ]
  },
  {
   "cell_type": "code",
   "execution_count": 21,
   "metadata": {
    "collapsed": false
   },
   "outputs": [],
   "source": [
    "def make_location_to_binary_array(data_max,location, bi_location):\n",
    "    location_num = location[np.argmax(location)]\n",
    "    bi_location = np.zeros((data_max,location_num))\n",
    "    for i in range(0,data_max):\n",
    "        bi_location[i,location(i)] = 1\n",
    "    return location_num"
   ]
  },
  {
   "cell_type": "markdown",
   "metadata": {},
   "source": [
    "# Function End================================"
   ]
  },
  {
   "cell_type": "markdown",
   "metadata": {},
   "source": [
    "ap의 level과 총 level갯수"
   ]
  },
  {
   "cell_type": "code",
   "execution_count": 22,
   "metadata": {
    "collapsed": false,
    "scrolled": true
   },
   "outputs": [
    {
     "name": "stdout",
     "output_type": "stream",
     "text": [
      "['00:26:66:f4:d0:58', '08:5d:dd:43:8e:ef', '00:07:89:3f:fc:28', '90:9f:33:19:82:2e', '08:5d:dd:11:39:20', '08:5d:dd:0a:30:6a', '90:9f:33:8f:f5:08', '90:9f:33:40:4a:02', '00:30:0d:15:7c:30', 'bc:96:80:98:67:01', '04:8d:38:3d:a4:74', 'bc:96:80:98:67:04', '00:30:0d:a9:f7:1e', '00:07:89:17:22:1f', '90:9f:33:3d:3d:4a', '10:f9:6f:f4:4c:69', '64:e5:99:bb:01:12', '00:08:9f:92:40:d8', '00:08:52:21:1b:4c', '10:f9:6f:f4:4c:6a', '00:40:5a:c1:28:62', 'f0:b4:29:1a:62:6d', '9c:d6:43:af:41:d4', '00:40:5a:c1:28:61', '00:08:9f:40:0b:6f', '64:e5:99:e1:a5:1a', '00:26:66:f4:06:20', '18:53:e0:01:49:bd', 'c0:a0:bb:59:a6:b8', '00:07:89:17:f6:c2', '00:07:89:46:79:45', '90:9f:33:92:73:54', '90:9f:33:6c:cb:9e', '00:08:52:36:2d:43', '00:17:c3:9f:b6:1d', 'ac:a2:13:54:06:98']\n",
      "36\n"
     ]
    }
   ],
   "source": [
    "read_file(tr_file,ap_address, ap_signal, location)\n",
    "print get_ap_lev(ap_address, ap_lev)\n",
    "print len(ap_lev)"
   ]
  },
  {
   "cell_type": "code",
   "execution_count": 23,
   "metadata": {
    "collapsed": false
   },
   "outputs": [
    {
     "name": "stdout",
     "output_type": "stream",
     "text": [
      "[289 289 289 256 217 215 191  46 145  41  27  32 154 155  46  91  80  73\n",
      "  81  57  50  73  49  89  59   2  19   8  12   2   8  51  19   2   1  15]\n",
      "36\n"
     ]
    }
   ],
   "source": [
    "ap_lev_times = get_ap_levtimes(ap_address,ap_lev,ap_lev_times)\n",
    "print ap_lev_times\n",
    "print len(ap_lev_times)"
   ]
  },
  {
   "cell_type": "code",
   "execution_count": 24,
   "metadata": {
    "collapsed": false
   },
   "outputs": [],
   "source": [
    "data_max = ap_lev_times[np.argmax(ap_lev_times)]"
   ]
  },
  {
   "cell_type": "code",
   "execution_count": 25,
   "metadata": {
    "collapsed": false
   },
   "outputs": [
    {
     "name": "stdout",
     "output_type": "stream",
     "text": [
      "289\n",
      "[0, 1, 2]\n"
     ]
    }
   ],
   "source": [
    "print select_ap_address(data_max,ap_lev_times, selected_ap_index)\n",
    "print selected_ap_index"
   ]
  },
  {
   "cell_type": "code",
   "execution_count": null,
   "metadata": {
    "collapsed": true
   },
   "outputs": [],
   "source": []
  }
 ],
 "metadata": {
  "kernelspec": {
   "display_name": "Python 2",
   "language": "python",
   "name": "python2"
  },
  "language_info": {
   "codemirror_mode": {
    "name": "ipython",
    "version": 2
   },
   "file_extension": ".py",
   "mimetype": "text/x-python",
   "name": "python",
   "nbconvert_exporter": "python",
   "pygments_lexer": "ipython2",
   "version": "2.7.6"
  }
 },
 "nbformat": 4,
 "nbformat_minor": 0
}
