{
 "cells": [
  {
   "cell_type": "code",
   "execution_count": 1,
   "metadata": {
    "collapsed": false
   },
   "outputs": [],
   "source": [
    "import tensorflow as tf\n",
    "import random\n",
    "import matplotlib.pyplot as plt\n",
    "%matplotlib inline\n",
    "import numpy as np\n",
    "import time\n",
    "import csv"
   ]
  },
  {
   "cell_type": "markdown",
   "metadata": {},
   "source": [
    "# File Name"
   ]
  },
  {
   "cell_type": "code",
   "execution_count": 2,
   "metadata": {
    "collapsed": true
   },
   "outputs": [],
   "source": [
    "tr_file = \"5Act_Var_Tr1_JH_Wifi_raw_complete\"\n",
    "te_file = \"5Act_Var_Te1_JH_Wifi_raw_complete\""
   ]
  },
  {
   "cell_type": "markdown",
   "metadata": {},
   "source": [
    "# variable "
   ]
  },
  {
   "cell_type": "code",
   "execution_count": 4,
   "metadata": {
    "collapsed": false
   },
   "outputs": [],
   "source": [
    "ap_address = []\n",
    "ap_signal = []\n",
    "location = []\n",
    "ap_lev = []\n",
    "ap_lev_times = []"
   ]
  },
  {
   "cell_type": "code",
   "execution_count": null,
   "metadata": {
    "collapsed": true
   },
   "outputs": [],
   "source": [
    "def read_file(filename,ap_address, ap_signal, location):\n",
    "    filename =  \"data/testfornn/\"+filename+\".csv\"\n",
    "    with open(filename, 'rb') as csvfile:\n",
    "        reader = csv.reader (csvfile,delimiter = '.')\n",
    "        for row in reader:\n",
    "            ap_address.append(row[2])\n",
    "            ap_signal.append(row[3])\n",
    "            location.append(row[4])"
   ]
  },
  {
   "cell_type": "code",
   "execution_count": 5,
   "metadata": {
    "collapsed": true
   },
   "outputs": [],
   "source": [
    "def get_ap_lev(ap_address,ap_lev):\n",
    "    for i in ap_address:\n",
    "        if ap_address[i] not in ap_lev:\n",
    "            ap_lev.append(ap_address[i])\n",
    "    return ap_lev"
   ]
  },
  {
   "cell_type": "code",
   "execution_count": null,
   "metadata": {
    "collapsed": true
   },
   "outputs": [],
   "source": [
    "def get_ap_lev_times(ap_address,ap_lev,ap_lev_times)\n",
    "    ap_lev_times = np.zeros(len(ap_lev),dtype=np.int)\n",
    "    for i in ap_lev:\n",
    "        ap_lev\n",
    "    return ap_lev_times"
   ]
  },
  {
   "cell_type": "markdown",
   "metadata": {},
   "source": [
    "밑의 함수는 location_num 이 4일때만 적용(수정필요)"
   ]
  },
  {
   "cell_type": "code",
   "execution_count": null,
   "metadata": {
    "collapsed": true
   },
   "outputs": [],
   "source": [
    "def make_location_to_binaryarray(list, location_num):\n",
    "    lgt = len(list)\n",
    "    out_list = np.zeros((lgt, location_num))\n",
    "    for i in range(0,lgt):\n",
    "        if list[i] == '0':\n",
    "            out_list[i,0] = 1\n",
    "        elif list[i] == '1' :\n",
    "            out_list[i,1]=1\n",
    "        elif list[i] == '2' :\n",
    "            out_list[i,2] = 1\n",
    "        else :\n",
    "            out_list[i,3] = 1\n",
    "    return out_list"
   ]
  }
 ],
 "metadata": {
  "kernelspec": {
   "display_name": "Python 2",
   "language": "python",
   "name": "python2"
  },
  "language_info": {
   "codemirror_mode": {
    "name": "ipython",
    "version": 2
   },
   "file_extension": ".py",
   "mimetype": "text/x-python",
   "name": "python",
   "nbconvert_exporter": "python",
   "pygments_lexer": "ipython2",
   "version": "2.7.6"
  }
 },
 "nbformat": 4,
 "nbformat_minor": 0
}
