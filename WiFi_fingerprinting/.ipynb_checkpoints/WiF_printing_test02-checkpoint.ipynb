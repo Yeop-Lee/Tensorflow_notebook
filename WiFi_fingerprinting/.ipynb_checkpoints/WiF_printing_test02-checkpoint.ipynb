{
 "cells": [
  {
   "cell_type": "code",
   "execution_count": null,
   "metadata": {
    "collapsed": true
   },
   "outputs": [],
   "source": [
    "import tensorflow as tf\n",
    "import random\n",
    "import matplotlib.pyplot as plt\n",
    "%matplotlib inline\n",
    "import numpy as np\n",
    "import time\n",
    "import csv"
   ]
  },
  {
   "cell_type": "code",
   "execution_count": 1,
   "metadata": {
    "collapsed": true
   },
   "outputs": [],
   "source": [
    "tr_file = \"5Act_Var_Tr1_JH_Wifi_raw_complete\"\n",
    "te_file = \"5Act_Var_Te1_JH_Wifi_raw_complete\""
   ]
  },
  {
   "cell_type": "code",
   "execution_count": null,
   "metadata": {
    "collapsed": true
   },
   "outputs": [],
   "source": [
    "#variable \n",
    "ap_lev_times = []\n",
    "ap_lev = []\n"
   ]
  },
  {
   "cell_type": "code",
   "execution_count": null,
   "metadata": {
    "collapsed": true
   },
   "outputs": [],
   "source": [
    "def get_wifi_ap_lev(filename, ap_lev):\n",
    "    filename = \"data/testfornn/\"+filename+\".csv\"\n",
    "    with open(filename,'rb') as csvfile:\n",
    "        reader = csv.reader(csvfile, delimiter = ',')\n",
    "        for row in reader:\n",
    "            if row[2] in ap_lev:\n",
    "                \n",
    "            else:\n",
    "                ap_lev.append(row[2])\n",
    "    return ap_lev"
   ]
  },
  {
   "cell_type": "code",
   "execution_count": null,
   "metadata": {
    "collapsed": true
   },
   "outputs": [],
   "source": [
    "def read_wifi_data(filename,signal,location,ap_lev):\n",
    "    filename = \"data/testfornn/\"+filename+\".csv\"\n",
    "    num_ap_lev = len(ap_lev)\n",
    "    with open (filename,'rb') as csvfile:\n",
    "        reader = csv.reader(csvfile, delimiter = ',')\n",
    "        for row in reader:\n",
    "            signal.append(row[3])\n",
    "            location.append(row[4])"
   ]
  },
  {
   "cell_type": "code",
   "execution_count": 2,
   "metadata": {
    "collapsed": true
   },
   "outputs": [],
   "source": [
    "hidden_dim = ap_selected_num\n",
    "location_num = 4\n",
    "training_step = 100"
   ]
  },
  {
   "cell_type": "code",
   "execution_count": null,
   "metadata": {
    "collapsed": true
   },
   "outputs": [],
   "source": []
  }
 ],
 "metadata": {
  "kernelspec": {
   "display_name": "Python 2",
   "language": "python",
   "name": "python2"
  },
  "language_info": {
   "codemirror_mode": {
    "name": "ipython",
    "version": 2
   },
   "file_extension": ".py",
   "mimetype": "text/x-python",
   "name": "python",
   "nbconvert_exporter": "python",
   "pygments_lexer": "ipython2",
   "version": "2.7.6"
  }
 },
 "nbformat": 4,
 "nbformat_minor": 0
}
