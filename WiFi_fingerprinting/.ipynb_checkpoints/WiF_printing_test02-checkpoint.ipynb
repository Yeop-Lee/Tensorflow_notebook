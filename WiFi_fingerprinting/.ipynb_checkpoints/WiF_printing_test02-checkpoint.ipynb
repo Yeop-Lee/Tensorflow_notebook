{
 "cells": [
  {
   "cell_type": "code",
   "execution_count": 1,
   "metadata": {
    "collapsed": false
   },
   "outputs": [],
   "source": [
    "import tensorflow as tf\n",
    "import random\n",
    "import matplotlib.pyplot as plt\n",
    "%matplotlib inline\n",
    "import numpy as np\n",
    "import time\n",
    "import csv"
   ]
  },
  {
   "cell_type": "markdown",
   "metadata": {},
   "source": [
    "# File Name"
   ]
  },
  {
   "cell_type": "code",
   "execution_count": 2,
   "metadata": {
    "collapsed": true
   },
   "outputs": [],
   "source": [
    "tr_file = \"5Act_Var_Tr1_JH_Wifi_raw_complete\"\n",
    "te_file = \"5Act_Var_Te1_JH_Wifi_raw_complete\""
   ]
  },
  {
   "cell_type": "markdown",
   "metadata": {},
   "source": [
    "# variable "
   ]
  },
  {
   "cell_type": "code",
   "execution_count": 3,
   "metadata": {
    "collapsed": false
   },
   "outputs": [],
   "source": [
    "ap_address = []\n",
    "ap_signal = []\n",
    "location = []\n",
    "ap_lev = []\n",
    "ap_lev_times = []"
   ]
  },
  {
   "cell_type": "markdown",
   "metadata": {},
   "source": [
    "# Function =================================="
   ]
  },
  {
   "cell_type": "markdown",
   "metadata": {},
   "source": [
    "file은 한번 만 읽어서 각 array에 저장한 후에 처리하도록 함(같은 파일을 다시 읽지 않음)"
   ]
  },
  {
   "cell_type": "code",
   "execution_count": 4,
   "metadata": {
    "collapsed": true
   },
   "outputs": [],
   "source": [
    "def read_file(filename,ap_address, ap_signal, location):\n",
    "    filename =  \"data/testfornn/\"+filename+\".csv\"\n",
    "    with open(filename, 'rb') as csvfile:\n",
    "        reader = csv.reader (csvfile, delimiter = ',')\n",
    "        for row in reader:\n",
    "            ap_address.append(row[2])\n",
    "            ap_signal.append(row[3])\n",
    "            location.append(row[4])"
   ]
  },
  {
   "cell_type": "markdown",
   "metadata": {},
   "source": [
    "ap가 총 몇 개가 있는지 찾아주는 함수"
   ]
  },
  {
   "cell_type": "code",
   "execution_count": 5,
   "metadata": {
    "collapsed": true
   },
   "outputs": [],
   "source": [
    "def get_ap_lev(ap_address,ap_lev):\n",
    "    for i in range(0,len(ap_address)):\n",
    "        if ap_address[i] not in ap_lev:\n",
    "            ap_lev.append(ap_address[i])\n",
    "    return ap_lev"
   ]
  },
  {
   "cell_type": "markdown",
   "metadata": {},
   "source": [
    "해당 ap가 총 몇 회 불렸는지 확인하는 함수 해당 함수는 get_ap_lev 함수 실행 이후에 돌려야함"
   ]
  },
  {
   "cell_type": "code",
   "execution_count": 14,
   "metadata": {
    "collapsed": false
   },
   "outputs": [],
   "source": [
    "def get_ap_levtimes(ap_address,ap_lev,ap_lev_times):\n",
    "    ap_lev_times = np.zeros(len(ap_lev),dtype=np.int)\n",
    "    for i in range(0, len(ap_address)):\n",
    "        index = ap_lev.index(ap_address[i])\n",
    "        ap_lev_times[index] += 1\n",
    "    return ap_lev_times"
   ]
  },
  {
   "cell_type": "markdown",
   "metadata": {},
   "source": [
    "밑의 함수는 location_num 이 4일때만 적용(수정필요)"
   ]
  },
  {
   "cell_type": "code",
   "execution_count": 15,
   "metadata": {
    "collapsed": true
   },
   "outputs": [],
   "source": [
    "def make_location_to_binary_array(list, location_num):\n",
    "    lgt = len(list)\n",
    "    out_list = np.zeros((lgt, location_num))\n",
    "    for i in range(0,lgt):\n",
    "        if list[i] == '0':\n",
    "            out_list[i,0] = 1\n",
    "        elif list[i] == '1' :\n",
    "            out_list[i,1]=1\n",
    "        elif list[i] == '2' :\n",
    "            out_list[i,2] = 1\n",
    "        else :\n",
    "            out_list[i,3] = 1\n",
    "    return out_list"
   ]
  },
  {
   "cell_type": "markdown",
   "metadata": {},
   "source": [
    "# Function End================================"
   ]
  },
  {
   "cell_type": "markdown",
   "metadata": {},
   "source": [
    "ap의 level과 총 level갯수"
   ]
  },
  {
   "cell_type": "code",
   "execution_count": 16,
   "metadata": {
    "collapsed": false
   },
   "outputs": [
    {
     "name": "stdout",
     "output_type": "stream",
     "text": [
      "['00:26:66:f4:d0:58', '08:5d:dd:43:8e:ef', '00:07:89:3f:fc:28', '90:9f:33:19:82:2e', '08:5d:dd:11:39:20', '08:5d:dd:0a:30:6a', '90:9f:33:8f:f5:08', '90:9f:33:40:4a:02', '00:30:0d:15:7c:30', 'bc:96:80:98:67:01', '04:8d:38:3d:a4:74', 'bc:96:80:98:67:04', '00:30:0d:a9:f7:1e', '00:07:89:17:22:1f', '90:9f:33:3d:3d:4a', '10:f9:6f:f4:4c:69', '64:e5:99:bb:01:12', '00:08:9f:92:40:d8', '00:08:52:21:1b:4c', '10:f9:6f:f4:4c:6a', '00:40:5a:c1:28:62', 'f0:b4:29:1a:62:6d', '9c:d6:43:af:41:d4', '00:40:5a:c1:28:61', '00:08:9f:40:0b:6f', '64:e5:99:e1:a5:1a', '00:26:66:f4:06:20', '18:53:e0:01:49:bd', 'c0:a0:bb:59:a6:b8', '00:07:89:17:f6:c2', '00:07:89:46:79:45', '90:9f:33:92:73:54', '90:9f:33:6c:cb:9e', '00:08:52:36:2d:43', '00:17:c3:9f:b6:1d', 'ac:a2:13:54:06:98']\n",
      "36\n"
     ]
    }
   ],
   "source": [
    "read_file(tr_file,ap_address, ap_signal, location)\n",
    "print get_ap_lev(ap_address, ap_lev)\n",
    "print len(ap_lev)"
   ]
  },
  {
   "cell_type": "code",
   "execution_count": 27,
   "metadata": {
    "collapsed": false
   },
   "outputs": [
    {
     "name": "stdout",
     "output_type": "stream",
     "text": [
      "[867 867 867 768 651 645 573 138 435 123  81  96 462 465 138 273 240 219\n",
      " 243 171 150 219 147 267 177   6  57  24  36   6  24 153  57   6   3  45]\n",
      "36\n",
      "867\n"
     ]
    }
   ],
   "source": [
    "ap_lev_times = get_ap_levtimes(ap_address,ap_lev,ap_lev_times)\n",
    "print ap_lev_times\n",
    "print len(ap_lev_times)\n",
    "print ap_lev_times[np.argmax(ap_lev_times)]"
   ]
  },
  {
   "cell_type": "code",
   "execution_count": null,
   "metadata": {
    "collapsed": true
   },
   "outputs": [],
   "source": [
    "def ap_selecting(ap_address,ap_lev,ap_address, ap_signal, location):\n",
    "    np.argmax()"
   ]
  }
 ],
 "metadata": {
  "kernelspec": {
   "display_name": "Python 2",
   "language": "python",
   "name": "python2"
  },
  "language_info": {
   "codemirror_mode": {
    "name": "ipython",
    "version": 2
   },
   "file_extension": ".py",
   "mimetype": "text/x-python",
   "name": "python",
   "nbconvert_exporter": "python",
   "pygments_lexer": "ipython2",
   "version": "2.7.6"
  }
 },
 "nbformat": 4,
 "nbformat_minor": 0
}
