{
 "cells": [
  {
   "cell_type": "code",
   "execution_count": 1,
   "metadata": {
    "collapsed": false
   },
   "outputs": [],
   "source": [
    "import tensorflow as tf\n",
    "import random\n",
    "import math\n",
    "import matplotlib.pyplot as plt\n",
    "%matplotlib inline\n",
    "import numpy as np\n",
    "#np.set_printoptions(threshold=np.inf)\n",
    "import time\n",
    "import csv"
   ]
  },
  {
   "cell_type": "markdown",
   "metadata": {},
   "source": [
    "# File Name setting"
   ]
  },
  {
   "cell_type": "code",
   "execution_count": 2,
   "metadata": {
    "collapsed": false
   },
   "outputs": [],
   "source": [
    "##tr 0 to 3 is location value\n",
    "filename = [ \"wifi_1462533845\",\"wifi_1462534198\",\"wifi_1462581614\",\"wifi_1462581861\",\"wifi_1462582182\"\n",
    "            ,\"wifi_1462582432\",\"wifi_1462582667\",\"wifi_1462583580\",\"wifi_1462586623\"\n",
    "            ,\"wifi_1462587384\",\"wifi_1462589535\",\"wifi_1462589884\",\"wifi_1462590276\",\"wifi_1462594202\"\n",
    "            ,\"wifi_1462595833\",\"wifi_1462598045\",\"wifi_1462599051\",\"wifi_1462599292\"\n",
    "            ,\"wifi_1462599796\",\"wifi_1462600700\",\"wifi_1462603000\",\"wifi_1462603364\",\"wifi_1462671495\"\n",
    "            ,\"wifi_ET_3_1472725261\",\"wifi_ET_3_1472725954\",\"wifi_SH_2_1472731249\",\"wifi_SH_2_1472731992\"\n",
    "            ,\"wifi_SL_3_1472726646\",\"wifi_SL_3_1472727115\",\"wifi_SL_3_1472727610\",\"wifi_TV_3_1472728122\"\n",
    "            ,\"wifi_TV_3_1472728582\",\"wifi_TV_3_1472729076\",\"wifi_VC_3_1472729944\",\"wifi_VC_3_1472730571\"\n",
    "            ,\"wifi_ET_3_1472724912\",\"wifi_ET_3_1472725609\",\"wifi_SH_2_1472730943\",\"wifi_SH_2_1472731635\"\n",
    "            ,\"wifi_SL_3_1472726399\",\"wifi_SL_3_1472726878\",\"wifi_SL_3_1472727374\",\"wifi_TV_3_1472727893\"\n",
    "            ,\"wifi_TV_3_1472728356\",\"wifi_TV_3_1472728861\",\"wifi_VC_3_1472729626\",\"wifi_VC_3_1472730262\"\n",
    "            ,\"wifi_1467699078\",\"wifi_1467699827\",\"wifi_1467700220\",\"wifi_1467700540\",\"wifi_1467701698\"\n",
    "            ,\"wifi_1467701925\",\"wifi_1467702155\",\"wifi_1467698011\",\"wifi_1467698236\",\"wifi_1467698473\"\n",
    "            ,\"wifi_1467696862\",\"wifi_1467697617\",\"wifi_1467698757\",\"wifi_1467699496\",\"wifi_1467694981\"\n",
    "            ,\"wifi_1467695357\",\"wifi_1467700994\",\"wifi_1467701219\",\"wifi_1467695809\",\"wifi_1467696035\"\n",
    "            ,\"wifi_1467696259\",\"wifi_1467696542\",\"wifi_1467697281\",\"wifi_ET_0_1472546966\",\"wifi_ET_1_1472554884\"\n",
    "            ,\"wifi_ET_2_1472551231\",\"wifi_ET_3_1472564959\", \"wifi_ET_3_1420108956\", \"wifi_ET_2_1420095231\"\n",
    "            ,\"wifi_ET_1_1420098884\",\"wifi_ET_0_1420090965\",\"wifi_ET_3_1420134169\",\"wifi_ET_2_1420142476\"\n",
    "            ,\"wifi_ET_1_1420137839\",\"wifi_ET_0_1420114448\",\"wifi_ET_3_1472590170\",\"wifi_ET_2_1472598476\"\n",
    "            ,\"wifi_ET_1_1472593839\",\"wifi_ET_0_1472570446\"]\n",
    "\n",
    "filename_te = \"5Act_Var_Tr2_HC_Wifi_raw_complete\""
   ]
  },
  {
   "cell_type": "markdown",
   "metadata": {},
   "source": [
    "# Variable setting"
   ]
  },
  {
   "cell_type": "code",
   "execution_count": 3,
   "metadata": {
    "collapsed": false
   },
   "outputs": [],
   "source": [
    "training_step = 2500\n",
    "learning_rate = 0.001"
   ]
  },
  {
   "cell_type": "markdown",
   "metadata": {},
   "source": [
    "# Constant variable"
   ]
  },
  {
   "cell_type": "code",
   "execution_count": 4,
   "metadata": {
    "collapsed": true
   },
   "outputs": [],
   "source": [
    "location = []\n",
    "\n",
    "ap_address = []\n",
    "ap_signal = []\n",
    "\n",
    "bi_location = []\n",
    "ap_lev = []\n",
    "ap_lev_times = []\n",
    "selected_ap = []"
   ]
  },
  {
   "cell_type": "markdown",
   "metadata": {},
   "source": [
    "# Function =================================="
   ]
  },
  {
   "cell_type": "markdown",
   "metadata": {},
   "source": [
    "file은 한번 만 읽어서 각 array에 저장한 후에 처리하도록 함(같은 파일을 다시 읽지 않음)"
   ]
  },
  {
   "cell_type": "code",
   "execution_count": 5,
   "metadata": {
    "collapsed": true
   },
   "outputs": [],
   "source": [
    "def read_file(filename,ap_address, ap_signal, location):\n",
    "    filename = \"data/wifi_et/\"+filename+\".csv\"\n",
    "    with open(filename, 'rb') as csvfile:\n",
    "        reader = csv.reader (csvfile, delimiter = ',')\n",
    "        for row in reader:\n",
    "            ap_address.append(row[2])\n",
    "            ap_signal.append(row[3])\n",
    "            location.append(row[4])"
   ]
  },
  {
   "cell_type": "markdown",
   "metadata": {},
   "source": [
    "총 ap_address 들을 구해줌"
   ]
  },
  {
   "cell_type": "code",
   "execution_count": 6,
   "metadata": {
    "collapsed": true
   },
   "outputs": [],
   "source": [
    "def get_ap_lev(ap_address,ap_lev):\n",
    "    for i in range(0,len(ap_address)):\n",
    "        if ap_address[i] not in ap_lev:\n",
    "            ap_lev.append(ap_address[i])\n",
    "    return ap_lev"
   ]
  },
  {
   "cell_type": "markdown",
   "metadata": {},
   "source": [
    "해당 ap가 총 몇 회 불렸는지 확인하는 함수 해당 함수는 get_ap_lev 함수 실행 이후에 돌려야함\n",
    "count함수와 같음"
   ]
  },
  {
   "cell_type": "code",
   "execution_count": 7,
   "metadata": {
    "collapsed": false
   },
   "outputs": [],
   "source": [
    "def get_ap_levtimes(ap_address,ap_lev,ap_lev_times):\n",
    "    ap_lev_times = np.zeros(len(ap_lev),dtype=np.int)\n",
    "    for i in range(0, len(ap_address)):\n",
    "        index = ap_lev.index(ap_address[i])\n",
    "        ap_lev_times[index] += 1\n",
    "    return ap_lev_times"
   ]
  },
  {
   "cell_type": "markdown",
   "metadata": {},
   "source": [
    "ap_signal의 등장횟수가 많은 것을 기준으로 NN에 이용할 AP를 선택하는 함수"
   ]
  },
  {
   "cell_type": "code",
   "execution_count": 8,
   "metadata": {
    "collapsed": true
   },
   "outputs": [],
   "source": [
    "def select_ap_address(data_max,ap_lev, ap_lev_times, selected_ap):\n",
    "    selected_ap_index = []\n",
    "    threshold = data_max *0.90\n",
    "    for i in range(0,len(ap_lev_times)):\n",
    "        if ap_lev_times[i] >= threshold:\n",
    "            selected_ap_index.append(i)\n",
    "    for i in range(0, len(selected_ap_index)):\n",
    "        selected_ap.append(ap_lev[selected_ap_index[i]])\n",
    "    return threshold"
   ]
  },
  {
   "cell_type": "markdown",
   "metadata": {},
   "source": [
    "data의 수가 가장 많은 것을 기준으로, 해당 data의 등장후 다음 등장 이전까지를 하나의 epoch으로 지정\n",
    "\n",
    "위의 흐름대로 진행할 때 데이터 중에서 다른 location 데이터와 함께 들어와 있는 경우, \n",
    "무조건 행에 따라서 data를 나열하면 input(ap_signal)과 output(location)에 혼선이 있을 우려가 있음\n",
    "\n",
    "[0 1 2 0 1 2 0 1] 로 등장하였다고 가정하고, 해당 하는 location 이<br>[5 5 5 5 5 5 5 4] 로 등장하였을 경우, \n",
    "\n",
    "마지막 두 개의 ap_address_index에서 0 1 이 다른 location인 경우가 발생되는 것을 방지하고자 함\n",
    "\n",
    "우선 (location 별로 partition을 생성한 다음)==>raw data는 원래 떨어져 있으므로, 이것을 기준으로 다시 짜도록함.\n",
    "\n",
    "각 파티션 별로 ap selected array를 구현한 다음 다시 합쳐지는 방식을 이용함\n",
    "\n",
    "\n",
    "1. (선택된 ap index) x (data_max) 행렬\n",
    "2. (location) x (data_max) 행렬"
   ]
  },
  {
   "cell_type": "markdown",
   "metadata": {},
   "source": [
    "해당 함수는 selected_ap_signal의 갯수가 4개임을 알고서 하는 것.\n",
    "\n",
    "수정이 요구되나,<br>\n",
    "4개만 있어도 결과값이 잘 나온다면 애초에 셀렉트할때 4개만 해도 무방할 것이라고 판단됨."
   ]
  },
  {
   "cell_type": "code",
   "execution_count": 9,
   "metadata": {
    "collapsed": false
   },
   "outputs": [],
   "source": [
    "def convert_to_selected_ap_array(ap_address,ap_signal,selected_ap,location, data_max):\n",
    "    j = -1\n",
    "    converted_ap_signal = np.zeros((data_max, len(selected_ap)))\n",
    "    converted_location = []\n",
    "    for i in range(0,len(ap_signal)):\n",
    "        if ap_address[i] == selected_ap[0]:\n",
    "            j = j+1\n",
    "            converted_ap_signal[j][0] = ap_signal[i]\n",
    "            converted_location.append(location[i])\n",
    "        elif ap_address[i] == selected_ap[1]:\n",
    "            converted_ap_signal[j][1] = ap_signal[i]\n",
    "        elif ap_address[i] == selected_ap[2]:\n",
    "            converted_ap_signal[j][2] = ap_signal[i]\n",
    "        elif ap_address[i] == selected_ap[3]:\n",
    "            converted_ap_signal[j][3] = ap_signal[i]\n",
    "        else :\n",
    "            continue\n",
    "    return converted_ap_signal, converted_location"
   ]
  },
  {
   "cell_type": "code",
   "execution_count": 10,
   "metadata": {
    "collapsed": true
   },
   "outputs": [],
   "source": [
    "def use_before_data_if_val_0(ap_signal,data_max, selected_ap):\n",
    "    selected_ap_num = len(selected_ap)\n",
    "    for i in range(1,data_max):\n",
    "        for j in range(0,selected_ap_num):\n",
    "            if ap_signal[i][j] == 0 :\n",
    "                ap_signal[i][j] = ap_signal[i-1][j]"
   ]
  },
  {
   "cell_type": "markdown",
   "metadata": {},
   "source": [
    "location을 softmax함수에 이용할 수 있도록 변환 <br>\n",
    "1 => [0,1,0,0]<br>\n",
    "3 => [0,0,0,1] 식으로 변환하는 함수"
   ]
  },
  {
   "cell_type": "code",
   "execution_count": 11,
   "metadata": {
    "collapsed": false
   },
   "outputs": [],
   "source": [
    "def make_location_to_binary_array(data_max,location):\n",
    "    if data_max != len(location):\n",
    "        print \"Miss matched!\"\n",
    "        return \n",
    "    \n",
    "    location_num = int(location[np.argmax(location)])\n",
    "    bi_location = np.zeros((data_max,location_num+1), dtype = int)\n",
    "    for i in range(0,data_max):\n",
    "        bi_location[i,location[i]] = 1\n",
    "    return bi_location"
   ]
  },
  {
   "cell_type": "markdown",
   "metadata": {},
   "source": [
    "weight, bias 생성 함수 y = wx + b"
   ]
  },
  {
   "cell_type": "code",
   "execution_count": 12,
   "metadata": {
    "collapsed": true
   },
   "outputs": [],
   "source": [
    "def weight_variable(shape):\n",
    "    initial = tf.truncated_normal(shape, stddev=0.1)\n",
    "    return tf.Variable(initial)\n",
    "\n",
    "def bias_variable(shape):\n",
    "    initial = tf.constant(0.1, shape=shape)\n",
    "    return tf.Variable(initial)"
   ]
  },
  {
   "cell_type": "markdown",
   "metadata": {},
   "source": [
    "# ================================Function End"
   ]
  },
  {
   "cell_type": "markdown",
   "metadata": {},
   "source": [
    "# Training data pre_processing"
   ]
  },
  {
   "cell_type": "markdown",
   "metadata": {},
   "source": [
    "ap의 level과 총 level갯수"
   ]
  },
  {
   "cell_type": "code",
   "execution_count": 13,
   "metadata": {
    "collapsed": false,
    "scrolled": true
   },
   "outputs": [
    {
     "name": "stderr",
     "output_type": "stream",
     "text": [
      "/home/dclabyeop/anaconda2/lib/python2.7/site-packages/ipykernel/__main__.py:9: VisibleDeprecationWarning: using a non-integer number instead of an integer will result in an error in the future\n"
     ]
    }
   ],
   "source": [
    "for i in range(0,len(filename)):\n",
    "    read_file(filename[i],ap_address, ap_signal, location)\n",
    "    \n",
    "get_ap_lev(ap_address,ap_lev)\n",
    "ap_lev_times = get_ap_levtimes(ap_address,ap_lev,ap_lev_times)\n",
    "data_max = ap_lev_times[np.argmax(ap_lev_times)]\n",
    "threshold = select_ap_address(data_max,ap_lev, ap_lev_times, selected_ap)\n",
    "converted_ap_signal, converted_location = convert_to_selected_ap_array(ap_address,ap_signal,selected_ap,location, data_max)\n",
    "bi_location = make_location_to_binary_array(data_max, converted_location)"
   ]
  },
  {
   "cell_type": "code",
   "execution_count": 14,
   "metadata": {
    "collapsed": true
   },
   "outputs": [],
   "source": [
    "use_before_data_if_val_0(converted_ap_signal, data_max, selected_ap)"
   ]
  },
  {
   "cell_type": "markdown",
   "metadata": {},
   "source": [
    "# Print training values"
   ]
  },
  {
   "cell_type": "code",
   "execution_count": 15,
   "metadata": {
    "collapsed": false
   },
   "outputs": [
    {
     "name": "stdout",
     "output_type": "stream",
     "text": [
      "['00:26:66:d0:c4:dc', '00:27:1c:ea:40:af', '00:26:66:76:37:9c', '00:27:1c:08:41:16', '00:01:36:2d:ea:4c', '90:9f:33:6d:8e:b6', '00:23:aa:3d:d9:41', '00:30:0d:62:4c:24', '0a:0e:dc:5a:b6:c8', '64:e5:99:a3:4d:5c', '00:40:5a:db:5e:c9', '90:9f:33:40:a0:9e', '64:e5:99:82:5a:20', '64:e5:99:82:5a:21', '08:5d:dd:2d:a4:a8', '90:9f:33:bb:16:68', '10:f9:6f:f4:11:1d', '00:08:5b:80:8e:f1', '64:e5:99:4d:7b:68', '64:e5:99:e6:18:04', '00:23:aa:3e:a3:a9', '00:08:5b:5a:20:59', '00:07:89:2b:53:35', '90:9f:33:6c:a4:92', '00:23:aa:3c:7a:c1', '00:08:52:40:4f:df', '08:5d:dd:71:40:b4', '00:26:66:f7:fc:34', '00:26:66:5c:f7:f0', '04:8d:39:36:e5:9d', '04:8d:38:95:b3:f5', '00:4e:00:0e:c0:a8', '00:07:89:55:b0:86', '00:27:1c:ETVa:40:af', '00:01:36:2d:ETVa:4c', '0a:0ETV:dc:5a:b6:c8', '00:08:9f:16:28:42', '00:40:5a:db:5ETV:c9', '64:66:b3:3a:3a:73', '90:9f:33:b5:24:b2', '00:26:66:78:99:a8', '08:5d:dd:0b:0a:3a', '64:ETV5:99:82:5a:20', '90:9f:33:40:a0:9ETV', '90:9f:33:8f:a2:6a', '00:ETV0:4c:81:86:86', '00:40:5a:e2:02:f1', '90:9f:33:f5:73:cc', '00:07:89:36:e2:ba', 'c8:3a:35:05:ae:e0', '90:9f:33:a5:15:82', '00:25:42:e0:15:58', '00:27:1c:23:20:6e', '00:27:1c:23:20:6d', 'ec:08:6b:e0:fa:ee', '00:27:1c:3b:0a:53', '90:9f:33:bd:f5:4c', '00:26:66:a0:18:ee', '64:e5:99:6a:ec:24', '08:5d:dd:89:c1:93', '08:5d:dd:48:92:27']\n",
      "61\n"
     ]
    }
   ],
   "source": [
    "print get_ap_lev(ap_address, ap_lev)\n",
    "print len(ap_lev)"
   ]
  },
  {
   "cell_type": "code",
   "execution_count": 16,
   "metadata": {
    "collapsed": false,
    "scrolled": true
   },
   "outputs": [
    {
     "name": "stdout",
     "output_type": "stream",
     "text": [
      "[7586 7127 2805 7331 7104  193 3154 1145   72   19  406  412   50  529   29\n",
      "   15   16   17   15    2    4    4   25    4   38    2 1348    7    8  540\n",
      "    8    6    2  123  132   18  128    9    2    4  367   12    4    2  318\n",
      "    2    2  296  261  110   52    3    4    2    1   69   46   34  113  185\n",
      "    4]\n",
      "61\n"
     ]
    }
   ],
   "source": [
    "print ap_lev_times\n",
    "print len(ap_lev_times)"
   ]
  },
  {
   "cell_type": "code",
   "execution_count": 17,
   "metadata": {
    "collapsed": false
   },
   "outputs": [
    {
     "name": "stdout",
     "output_type": "stream",
     "text": [
      "6827.4\n",
      "['00:26:66:d0:c4:dc', '00:27:1c:ea:40:af', '00:27:1c:08:41:16', '00:01:36:2d:ea:4c']\n"
     ]
    }
   ],
   "source": [
    "print threshold\n",
    "print selected_ap"
   ]
  },
  {
   "cell_type": "code",
   "execution_count": 18,
   "metadata": {
    "collapsed": false
   },
   "outputs": [
    {
     "name": "stdout",
     "output_type": "stream",
     "text": [
      "7586\n"
     ]
    }
   ],
   "source": [
    "print len(converted_location)"
   ]
  },
  {
   "cell_type": "markdown",
   "metadata": {},
   "source": [
    "# Training data set up"
   ]
  },
  {
   "cell_type": "code",
   "execution_count": 19,
   "metadata": {
    "collapsed": false
   },
   "outputs": [
    {
     "name": "stdout",
     "output_type": "stream",
     "text": [
      "[[-63. -70. -85. -89.]\n",
      " [-66. -78. -85. -85.]\n",
      " [-63. -70. -84. -88.]\n",
      " ..., \n",
      " [-49. -54. -71. -71.]\n",
      " [-58. -55. -74. -74.]\n",
      " [-49. -55. -76. -66.]]\n"
     ]
    }
   ],
   "source": [
    "print converted_ap_signal"
   ]
  },
  {
   "cell_type": "code",
   "execution_count": 20,
   "metadata": {
    "collapsed": false
   },
   "outputs": [
    {
     "name": "stdout",
     "output_type": "stream",
     "text": [
      "[[0 0 1 0]\n",
      " [0 0 1 0]\n",
      " [0 0 1 0]\n",
      " ..., \n",
      " [1 0 0 0]\n",
      " [1 0 0 0]\n",
      " [1 0 0 0]]\n"
     ]
    }
   ],
   "source": [
    "print bi_location"
   ]
  },
  {
   "cell_type": "code",
   "execution_count": 21,
   "metadata": {
    "collapsed": false
   },
   "outputs": [],
   "source": [
    "location_num = int(location[np.argmax(location)]) + 1 # 0, 1, 2, 3\n",
    "selected_num = len(selected_ap)\n",
    "hidden_dim = selected_num"
   ]
  },
  {
   "cell_type": "code",
   "execution_count": 22,
   "metadata": {
    "collapsed": false
   },
   "outputs": [
    {
     "name": "stdout",
     "output_type": "stream",
     "text": [
      "4\n",
      "4\n"
     ]
    }
   ],
   "source": [
    "print location_num\n",
    "print selected_num"
   ]
  },
  {
   "cell_type": "code",
   "execution_count": 23,
   "metadata": {
    "collapsed": false
   },
   "outputs": [],
   "source": [
    "tr_x = converted_ap_signal"
   ]
  },
  {
   "cell_type": "code",
   "execution_count": 24,
   "metadata": {
    "collapsed": false
   },
   "outputs": [],
   "source": [
    "tr_y = bi_location"
   ]
  },
  {
   "cell_type": "markdown",
   "metadata": {},
   "source": [
    "# Variable reset"
   ]
  },
  {
   "cell_type": "code",
   "execution_count": 25,
   "metadata": {
    "collapsed": true
   },
   "outputs": [],
   "source": [
    "ap_signal = []\n",
    "ap_address = []\n",
    "location = []\n",
    "ap_lev = []\n",
    "ap_lev_times = []\n",
    "input_num = data_max\n",
    "data_max = 0"
   ]
  },
  {
   "cell_type": "markdown",
   "metadata": {},
   "source": [
    "# Testing data set up"
   ]
  },
  {
   "cell_type": "code",
   "execution_count": 26,
   "metadata": {
    "collapsed": false
   },
   "outputs": [
    {
     "name": "stderr",
     "output_type": "stream",
     "text": [
      "/home/dclabyeop/anaconda2/lib/python2.7/site-packages/ipykernel/__main__.py:9: VisibleDeprecationWarning: using a non-integer number instead of an integer will result in an error in the future\n"
     ]
    }
   ],
   "source": [
    "read_file(filename_te,ap_address, ap_signal, location)\n",
    "\n",
    "get_ap_lev(ap_address,ap_lev)\n",
    "ap_lev_times = get_ap_levtimes(ap_address,ap_lev,ap_lev_times)\n",
    "data_max = ap_lev_times[np.argmax(ap_lev_times)]\n",
    "converted_ap_signal, converted_location = convert_to_selected_ap_array(ap_address,ap_signal,selected_ap,location, data_max)\n",
    "bi_location = make_location_to_binary_array(data_max, converted_location)"
   ]
  },
  {
   "cell_type": "code",
   "execution_count": 27,
   "metadata": {
    "collapsed": true
   },
   "outputs": [],
   "source": [
    "use_before_data_if_val_0(converted_ap_signal, data_max, selected_ap)"
   ]
  },
  {
   "cell_type": "code",
   "execution_count": 28,
   "metadata": {
    "collapsed": false
   },
   "outputs": [
    {
     "name": "stdout",
     "output_type": "stream",
     "text": [
      "[[-77. -69. -97. -83.]\n",
      " [-73. -73. -95. -85.]\n",
      " [-72. -70. -95. -85.]\n",
      " ..., \n",
      " [-67. -85. -95. -94.]\n",
      " [-67. -87. -95. -94.]\n",
      " [-72. -90. -95. -94.]]\n"
     ]
    }
   ],
   "source": [
    "print converted_ap_signal"
   ]
  },
  {
   "cell_type": "code",
   "execution_count": 29,
   "metadata": {
    "collapsed": false
   },
   "outputs": [
    {
     "name": "stdout",
     "output_type": "stream",
     "text": [
      "[[0 0 1 0]\n",
      " [0 0 1 0]\n",
      " [0 0 1 0]\n",
      " ..., \n",
      " [0 0 0 1]\n",
      " [0 0 0 1]\n",
      " [0 0 0 1]]\n"
     ]
    }
   ],
   "source": [
    "print bi_location"
   ]
  },
  {
   "cell_type": "code",
   "execution_count": 30,
   "metadata": {
    "collapsed": false
   },
   "outputs": [],
   "source": [
    "te_x = converted_ap_signal"
   ]
  },
  {
   "cell_type": "code",
   "execution_count": 31,
   "metadata": {
    "collapsed": false
   },
   "outputs": [],
   "source": [
    "te_y = bi_location"
   ]
  },
  {
   "cell_type": "code",
   "execution_count": 32,
   "metadata": {
    "collapsed": false
   },
   "outputs": [
    {
     "name": "stdout",
     "output_type": "stream",
     "text": [
      "['00:26:66:d0:c4:dc', '00:27:1c:ea:40:af', '00:27:1c:08:41:16', '00:01:36:2d:ea:4c']\n",
      "296\n"
     ]
    }
   ],
   "source": [
    "print selected_ap\n",
    "print data_max"
   ]
  },
  {
   "cell_type": "markdown",
   "metadata": {},
   "source": [
    "# Neural network algorithm : input ap signal layer +2 hidden layer+softmax"
   ]
  },
  {
   "cell_type": "code",
   "execution_count": null,
   "metadata": {
    "collapsed": false
   },
   "outputs": [],
   "source": [
    "hidden_dim2 = int(math.sqrt((location_num+2)*input_num)+2*math.sqrt(input_num/location_num+2))\n",
    "hidden_dim3 = int(location_num*math.sqrt(input_num/location_num+2))\n",
    "\n",
    "W = weight_variable([selected_num, hidden_dim])\n",
    "b = bias_variable([hidden_dim])\n",
    "\n",
    "W2 = weight_variable([hidden_dim,hidden_dim2])\n",
    "b2 = bias_variable([hidden_dim2])\n",
    "\n",
    "W3 = weight_variable([hidden_dim2,location_num])\n",
    "b3 = bias_variable([location_num])\n",
    "\n",
    "X = tf.placeholder(\"float\",[None, selected_num])\n",
    "Y = tf.placeholder(\"float\",[None,location_num])\n",
    "\n",
    "hidden = tf.nn.relu(tf.matmul(X, W)+b)\n",
    "hidden2 = tf.nn.relu(tf.matmul(hidden,W2)+b2)\n",
    "sfmax = tf.nn.softmax(tf.matmul(hidden2,W3)+b3)\n",
    "\n",
    "cross_entropy = tf.reduce_mean(-tf.reduce_sum(Y*tf.log(sfmax),reduction_indices=[1]))\n",
    "train = tf.train.AdamOptimizer(learning_rate).minimize(cross_entropy)\n",
    "#AdagradOptimizer , AdamOptimizer, GradientDescentOptimizer"
   ]
  },
  {
   "cell_type": "code",
   "execution_count": null,
   "metadata": {
    "collapsed": false,
    "scrolled": false
   },
   "outputs": [
    {
     "name": "stdout",
     "output_type": "stream",
     "text": [
      "35.1351350546\n"
     ]
    }
   ],
   "source": [
    "sess = tf.Session()\n",
    "sess.run(tf.initialize_all_variables())\n",
    "\n",
    "start_time = time.time()\n",
    "for step in range(training_step+1):\n",
    "    result = sess.run(train, feed_dict = {X: tr_x, Y: tr_y})\n",
    "    correct_prediction = tf.equal(tf.argmax(sfmax,1), tf.argmax(Y,1))\n",
    "    accuracy = tf.reduce_mean(tf.cast(correct_prediction, tf.float32))\n",
    "    if (step % 200) == 0:\n",
    "        print sess.run(accuracy,feed_dict = {X: te_x, Y: te_y})*100\n",
    "\n",
    "result = sess.run(accuracy,feed_dict = {X: te_x, Y: te_y})*100\n",
    "excute_time = time.time() - start_time\n",
    "sess.close()"
   ]
  },
  {
   "cell_type": "code",
   "execution_count": null,
   "metadata": {
    "collapsed": true
   },
   "outputs": [],
   "source": [
    "print result\n",
    "print excute_time"
   ]
  }
 ],
 "metadata": {
  "anaconda-cloud": {},
  "kernelspec": {
   "display_name": "Python [default]",
   "language": "python",
   "name": "python2"
  },
  "language_info": {
   "codemirror_mode": {
    "name": "ipython",
    "version": 2
   },
   "file_extension": ".py",
   "mimetype": "text/x-python",
   "name": "python",
   "nbconvert_exporter": "python",
   "pygments_lexer": "ipython2",
   "version": "2.7.12"
  }
 },
 "nbformat": 4,
 "nbformat_minor": 0
}
