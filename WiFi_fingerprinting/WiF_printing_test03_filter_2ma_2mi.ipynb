{
 "cells": [
  {
   "cell_type": "code",
   "execution_count": 1,
   "metadata": {
    "collapsed": false
   },
   "outputs": [],
   "source": [
    "import tensorflow as tf\n",
    "import random\n",
    "import math\n",
    "import matplotlib.pyplot as plt\n",
    "%matplotlib inline\n",
    "import numpy as np\n",
    "#np.set_printoptions(threshold=np.inf)\n",
    "import time\n",
    "import csv"
   ]
  },
  {
   "cell_type": "markdown",
   "metadata": {},
   "source": [
    "# File Name setting"
   ]
  },
  {
   "cell_type": "code",
   "execution_count": 2,
   "metadata": {
    "collapsed": false
   },
   "outputs": [],
   "source": [
    "##tr 0 to 3 is location value\n",
    "filename = [ \"wifi_1462533845\",\"wifi_1462534198\",\"wifi_1462581614\",\"wifi_1462581861\",\"wifi_1462582182\"\n",
    "            ,\"wifi_1462582432\",\"wifi_1462582667\",\"wifi_1462583580\",\"wifi_1462586623\"\n",
    "            ,\"wifi_1462587384\",\"wifi_1462589535\",\"wifi_1462589884\",\"wifi_1462590276\",\"wifi_1462594202\"\n",
    "            ,\"wifi_1462595833\",\"wifi_1462598045\",\"wifi_1462599051\",\"wifi_1462599292\"\n",
    "            ,\"wifi_1462599796\",\"wifi_1462600700\",\"wifi_1462603000\",\"wifi_1462603364\",\"wifi_1462671495\"\n",
    "            ,\"wifi_ET_3_1472725261\",\"wifi_ET_3_1472725954\",\"wifi_SH_2_1472731249\",\"wifi_SH_2_1472731992\"\n",
    "            ,\"wifi_SL_3_1472726646\",\"wifi_SL_3_1472727115\",\"wifi_SL_3_1472727610\",\"wifi_TV_3_1472728122\"\n",
    "            ,\"wifi_TV_3_1472728582\",\"wifi_TV_3_1472729076\",\"wifi_VC_3_1472729944\",\"wifi_VC_3_1472730571\"\n",
    "            ,\"wifi_ET_3_1472724912\",\"wifi_ET_3_1472725609\",\"wifi_SH_2_1472730943\",\"wifi_SH_2_1472731635\"\n",
    "            ,\"wifi_SL_3_1472726399\",\"wifi_SL_3_1472726878\",\"wifi_SL_3_1472727374\",\"wifi_TV_3_1472727893\"\n",
    "            ,\"wifi_TV_3_1472728356\",\"wifi_TV_3_1472728861\",\"wifi_VC_3_1472729626\",\"wifi_VC_3_1472730262\"\n",
    "            ,\"wifi_1467699078\",\"wifi_1467699827\",\"wifi_1467700220\",\"wifi_1467700540\",\"wifi_1467701698\"\n",
    "            ,\"wifi_1467701925\",\"wifi_1467702155\",\"wifi_1467698011\",\"wifi_1467698236\",\"wifi_1467698473\"\n",
    "            ,\"wifi_1467696862\",\"wifi_1467697617\",\"wifi_1467698757\",\"wifi_1467699496\",\"wifi_1467694981\"\n",
    "            ,\"wifi_1467695357\",\"wifi_1467700994\",\"wifi_1467701219\",\"wifi_1467695809\",\"wifi_1467696035\"\n",
    "            ,\"wifi_1467696259\",\"wifi_1467696542\",\"wifi_1467697281\",\"wifi_ET_0_1472546966\",\"wifi_ET_1_1472554884\"\n",
    "            ,\"wifi_ET_2_1472551231\",\"wifi_ET_3_1472564959\", \"wifi_ET_3_1420108956\", \"wifi_ET_2_1420095231\"\n",
    "            ,\"wifi_ET_1_1420098884\",\"wifi_ET_0_1420090965\",\"wifi_ET_3_1420134169\",\"wifi_ET_2_1420142476\"\n",
    "            ,\"wifi_ET_1_1420137839\",\"wifi_ET_0_1420114448\",\"wifi_ET_3_1472590170\",\"wifi_ET_2_1472598476\"\n",
    "            ,\"wifi_ET_1_1472593839\",\"wifi_ET_0_1472570446\"]\n",
    "\n",
    "filename_te = \"5Act_Var_Tr2_HC_Wifi_raw_complete\""
   ]
  },
  {
   "cell_type": "markdown",
   "metadata": {},
   "source": [
    "# Variable setting"
   ]
  },
  {
   "cell_type": "code",
   "execution_count": 3,
   "metadata": {
    "collapsed": false
   },
   "outputs": [],
   "source": [
    "training_step = 3000\n",
    "learning_rate = 0.001"
   ]
  },
  {
   "cell_type": "markdown",
   "metadata": {},
   "source": [
    "# Constant variable"
   ]
  },
  {
   "cell_type": "code",
   "execution_count": 4,
   "metadata": {
    "collapsed": true
   },
   "outputs": [],
   "source": [
    "location = []\n",
    "\n",
    "ap_address = []\n",
    "ap_signal = []\n",
    "\n",
    "bi_location = []\n",
    "ap_lev = []\n",
    "ap_lev_times = []\n",
    "selected_ap = []"
   ]
  },
  {
   "cell_type": "markdown",
   "metadata": {},
   "source": [
    "# Function =================================="
   ]
  },
  {
   "cell_type": "markdown",
   "metadata": {},
   "source": [
    "file은 한번 만 읽어서 각 array에 저장한 후에 처리하도록 함(같은 파일을 다시 읽지 않음)"
   ]
  },
  {
   "cell_type": "code",
   "execution_count": 5,
   "metadata": {
    "collapsed": true
   },
   "outputs": [],
   "source": [
    "def read_file(filename,ap_address, ap_signal, location):\n",
    "    filename = \"data/wifi_et/\"+filename+\".csv\"\n",
    "    with open(filename, 'rb') as csvfile:\n",
    "        reader = csv.reader (csvfile, delimiter = ',')\n",
    "        for row in reader:\n",
    "            ap_address.append(row[2])\n",
    "            ap_signal.append(row[3])\n",
    "            location.append(row[4])"
   ]
  },
  {
   "cell_type": "markdown",
   "metadata": {},
   "source": [
    "총 ap_address 들을 구해줌"
   ]
  },
  {
   "cell_type": "code",
   "execution_count": 6,
   "metadata": {
    "collapsed": true
   },
   "outputs": [],
   "source": [
    "def get_ap_lev(ap_address,ap_lev):\n",
    "    for i in range(0,len(ap_address)):\n",
    "        if ap_address[i] not in ap_lev:\n",
    "            ap_lev.append(ap_address[i])\n",
    "    return ap_lev"
   ]
  },
  {
   "cell_type": "markdown",
   "metadata": {},
   "source": [
    "해당 ap가 총 몇 회 불렸는지 확인하는 함수 해당 함수는 get_ap_lev 함수 실행 이후에 돌려야함\n",
    "count함수와 같음"
   ]
  },
  {
   "cell_type": "code",
   "execution_count": 7,
   "metadata": {
    "collapsed": false
   },
   "outputs": [],
   "source": [
    "def get_ap_levtimes(ap_address,ap_lev,ap_lev_times):\n",
    "    ap_lev_times = np.zeros(len(ap_lev),dtype=np.int)\n",
    "    for i in range(0, len(ap_address)):\n",
    "        index = ap_lev.index(ap_address[i])\n",
    "        ap_lev_times[index] += 1\n",
    "    return ap_lev_times"
   ]
  },
  {
   "cell_type": "markdown",
   "metadata": {},
   "source": [
    "ap_signal의 등장횟수가 많은 것을 기준으로 NN에 이용할 AP를 선택하는 함수"
   ]
  },
  {
   "cell_type": "code",
   "execution_count": 8,
   "metadata": {
    "collapsed": true
   },
   "outputs": [],
   "source": [
    "def select_ap_address(data_max,ap_lev, ap_lev_times, selected_ap):\n",
    "    selected_ap_index = []\n",
    "    threshold = 7330\n",
    "    for i in range(0,len(ap_lev_times)):\n",
    "        if ap_lev_times[i] >= threshold:\n",
    "            selected_ap_index.append(i)\n",
    "    for i in range(0, len(selected_ap_index)):\n",
    "        selected_ap.append(ap_lev[selected_ap_index[i]])\n",
    "    return threshold"
   ]
  },
  {
   "cell_type": "markdown",
   "metadata": {},
   "source": [
    "data의 수가 가장 많은 것을 기준으로, 해당 data의 등장후 다음 등장 이전까지를 하나의 epoch으로 지정\n",
    "\n",
    "위의 흐름대로 진행할 때 데이터 중에서 다른 location 데이터와 함께 들어와 있는 경우, \n",
    "무조건 행에 따라서 data를 나열하면 input(ap_signal)과 output(location)에 혼선이 있을 우려가 있음\n",
    "\n",
    "[0 1 2 0 1 2 0 1] 로 등장하였다고 가정하고, 해당 하는 location 이<br>[5 5 5 5 5 5 5 4] 로 등장하였을 경우, \n",
    "\n",
    "마지막 두 개의 ap_address_index에서 0 1 이 다른 location인 경우가 발생되는 것을 방지하고자 함\n",
    "\n",
    "우선 (location 별로 partition을 생성한 다음)==>raw data는 원래 떨어져 있으므로, 이것을 기준으로 다시 짜도록함.\n",
    "\n",
    "각 파티션 별로 ap selected array를 구현한 다음 다시 합쳐지는 방식을 이용함\n",
    "\n",
    "\n",
    "1. (선택된 ap index) x (data_max) 행렬\n",
    "2. (location) x (data_max) 행렬"
   ]
  },
  {
   "cell_type": "markdown",
   "metadata": {},
   "source": [
    "해당 함수는 selected_ap_signal의 갯수가 4개임을 알고서 하는 것.\n",
    "\n",
    "수정이 요구되나,<br>\n",
    "4개만 있어도 결과값이 잘 나온다면 애초에 셀렉트할때 4개만 해도 무방할 것이라고 판단됨."
   ]
  },
  {
   "cell_type": "code",
   "execution_count": 9,
   "metadata": {
    "collapsed": false
   },
   "outputs": [],
   "source": [
    "def convert_to_selected_ap_array(ap_address,ap_signal,selected_ap,location, data_max):\n",
    "    j = -1\n",
    "    converted_ap_signal = np.zeros((data_max, len(selected_ap)))\n",
    "    converted_location = []\n",
    "    for i in range(0,len(ap_signal)):\n",
    "        if ap_address[i] == selected_ap[0]:\n",
    "            j = j+1\n",
    "            converted_ap_signal[j][0] = ap_signal[i]\n",
    "            converted_location.append(location[i])\n",
    "        elif ap_address[i] == selected_ap[1]:\n",
    "            converted_ap_signal[j][1] = ap_signal[i]\n",
    "        else :\n",
    "            continue\n",
    "    return converted_ap_signal, converted_location"
   ]
  },
  {
   "cell_type": "code",
   "execution_count": 10,
   "metadata": {
    "collapsed": true
   },
   "outputs": [],
   "source": [
    "def use_before_data_if_val_0(ap_signal,data_max, selected_ap):\n",
    "    selected_ap_num = len(selected_ap)\n",
    "    for i in range(1,data_max):\n",
    "        for j in range(0,selected_ap_num):\n",
    "            if ap_signal[i][j] == 0 :\n",
    "                ap_signal[i][j] = ap_signal[i-1][j]"
   ]
  },
  {
   "cell_type": "markdown",
   "metadata": {},
   "source": [
    "location을 softmax함수에 이용할 수 있도록 변환 <br>\n",
    "1 => [0,1,0,0]<br>\n",
    "3 => [0,0,0,1] 식으로 변환하는 함수"
   ]
  },
  {
   "cell_type": "code",
   "execution_count": 11,
   "metadata": {
    "collapsed": false
   },
   "outputs": [],
   "source": [
    "def make_location_to_binary_array(data_max,location):\n",
    "    if data_max != len(location):\n",
    "        print \"Miss matched!\"\n",
    "        return \n",
    "    \n",
    "    location_num = int(location[np.argmax(location)])\n",
    "    bi_location = np.zeros((data_max,location_num+1), dtype = int)\n",
    "    for i in range(0,data_max):\n",
    "        bi_location[i,location[i]] = 1\n",
    "    return bi_location"
   ]
  },
  {
   "cell_type": "markdown",
   "metadata": {},
   "source": [
    "weight, bias 생성 함수 y = wx + b"
   ]
  },
  {
   "cell_type": "code",
   "execution_count": 12,
   "metadata": {
    "collapsed": true
   },
   "outputs": [],
   "source": [
    "def weight_variable(shape):\n",
    "    initial = tf.truncated_normal(shape, stddev=0.1)\n",
    "    return tf.Variable(initial)\n",
    "\n",
    "def bias_variable(shape):\n",
    "    initial = tf.constant(0.1, shape=shape)\n",
    "    return tf.Variable(initial)"
   ]
  },
  {
   "cell_type": "markdown",
   "metadata": {},
   "source": [
    "# ================================Function End"
   ]
  },
  {
   "cell_type": "markdown",
   "metadata": {},
   "source": [
    "# Training data pre_processing"
   ]
  },
  {
   "cell_type": "markdown",
   "metadata": {},
   "source": [
    "ap의 level과 총 level갯수"
   ]
  },
  {
   "cell_type": "code",
   "execution_count": 13,
   "metadata": {
    "collapsed": false,
    "scrolled": true
   },
   "outputs": [
    {
     "name": "stderr",
     "output_type": "stream",
     "text": [
      "/home/dclabyeop/anaconda2/lib/python2.7/site-packages/ipykernel/__main__.py:9: VisibleDeprecationWarning: using a non-integer number instead of an integer will result in an error in the future\n"
     ]
    }
   ],
   "source": [
    "for i in range(0,len(filename)):\n",
    "    read_file(filename[i],ap_address, ap_signal, location)\n",
    "    \n",
    "get_ap_lev(ap_address,ap_lev)\n",
    "ap_lev_times = get_ap_levtimes(ap_address,ap_lev,ap_lev_times)\n",
    "data_max = ap_lev_times[np.argmax(ap_lev_times)]\n",
    "threshold = select_ap_address(data_max,ap_lev, ap_lev_times, selected_ap)\n",
    "converted_ap_signal, converted_location = convert_to_selected_ap_array(ap_address,ap_signal,selected_ap,location, data_max)\n",
    "bi_location = make_location_to_binary_array(data_max, converted_location)"
   ]
  },
  {
   "cell_type": "markdown",
   "metadata": {},
   "source": [
    "use_before_data_if_val_0(converted_ap_signal, data_max, selected_ap)"
   ]
  },
  {
   "cell_type": "markdown",
   "metadata": {},
   "source": [
    "# Print training values"
   ]
  },
  {
   "cell_type": "code",
   "execution_count": 14,
   "metadata": {
    "collapsed": false
   },
   "outputs": [
    {
     "name": "stdout",
     "output_type": "stream",
     "text": [
      "['00:26:66:d0:c4:dc', '00:27:1c:ea:40:af', '00:26:66:76:37:9c', '00:27:1c:08:41:16', '00:01:36:2d:ea:4c', '90:9f:33:6d:8e:b6', '00:23:aa:3d:d9:41', '00:30:0d:62:4c:24', '0a:0e:dc:5a:b6:c8', '64:e5:99:a3:4d:5c', '00:40:5a:db:5e:c9', '90:9f:33:40:a0:9e', '64:e5:99:82:5a:20', '64:e5:99:82:5a:21', '08:5d:dd:2d:a4:a8', '90:9f:33:bb:16:68', '10:f9:6f:f4:11:1d', '00:08:5b:80:8e:f1', '64:e5:99:4d:7b:68', '64:e5:99:e6:18:04', '00:23:aa:3e:a3:a9', '00:08:5b:5a:20:59', '00:07:89:2b:53:35', '90:9f:33:6c:a4:92', '00:23:aa:3c:7a:c1', '00:08:52:40:4f:df', '08:5d:dd:71:40:b4', '00:26:66:f7:fc:34', '00:26:66:5c:f7:f0', '04:8d:39:36:e5:9d', '04:8d:38:95:b3:f5', '00:4e:00:0e:c0:a8', '00:07:89:55:b0:86', '00:27:1c:ETVa:40:af', '00:01:36:2d:ETVa:4c', '0a:0ETV:dc:5a:b6:c8', '00:08:9f:16:28:42', '00:40:5a:db:5ETV:c9', '64:66:b3:3a:3a:73', '90:9f:33:b5:24:b2', '00:26:66:78:99:a8', '08:5d:dd:0b:0a:3a', '64:ETV5:99:82:5a:20', '90:9f:33:40:a0:9ETV', '90:9f:33:8f:a2:6a', '00:ETV0:4c:81:86:86', '00:40:5a:e2:02:f1', '90:9f:33:f5:73:cc', '00:07:89:36:e2:ba', 'c8:3a:35:05:ae:e0', '90:9f:33:a5:15:82', '00:25:42:e0:15:58', '00:27:1c:23:20:6e', '00:27:1c:23:20:6d', 'ec:08:6b:e0:fa:ee', '00:27:1c:3b:0a:53', '90:9f:33:bd:f5:4c', '00:26:66:a0:18:ee', '64:e5:99:6a:ec:24', '08:5d:dd:89:c1:93', '08:5d:dd:48:92:27']\n",
      "61\n"
     ]
    }
   ],
   "source": [
    "print get_ap_lev(ap_address, ap_lev)\n",
    "print len(ap_lev)"
   ]
  },
  {
   "cell_type": "code",
   "execution_count": 15,
   "metadata": {
    "collapsed": false,
    "scrolled": true
   },
   "outputs": [
    {
     "name": "stdout",
     "output_type": "stream",
     "text": [
      "[7586 7127 2805 7331 7104  193 3154 1145   72   19  406  412   50  529   29\n",
      "   15   16   17   15    2    4    4   25    4   38    2 1348    7    8  540\n",
      "    8    6    2  123  132   18  128    9    2    4  367   12    4    2  318\n",
      "    2    2  296  261  110   52    3    4    2    1   69   46   34  113  185\n",
      "    4]\n",
      "61\n"
     ]
    }
   ],
   "source": [
    "print ap_lev_times\n",
    "print len(ap_lev_times)"
   ]
  },
  {
   "cell_type": "code",
   "execution_count": 16,
   "metadata": {
    "collapsed": false
   },
   "outputs": [
    {
     "name": "stdout",
     "output_type": "stream",
     "text": [
      "7330\n",
      "['00:26:66:d0:c4:dc', '00:27:1c:08:41:16']\n"
     ]
    }
   ],
   "source": [
    "print threshold\n",
    "print selected_ap"
   ]
  },
  {
   "cell_type": "code",
   "execution_count": 17,
   "metadata": {
    "collapsed": false
   },
   "outputs": [
    {
     "name": "stdout",
     "output_type": "stream",
     "text": [
      "7586\n"
     ]
    }
   ],
   "source": [
    "print len(converted_location)"
   ]
  },
  {
   "cell_type": "markdown",
   "metadata": {},
   "source": [
    "# Training data set up"
   ]
  },
  {
   "cell_type": "code",
   "execution_count": 18,
   "metadata": {
    "collapsed": false
   },
   "outputs": [
    {
     "name": "stdout",
     "output_type": "stream",
     "text": [
      "[[-63. -85.]\n",
      " [-66. -85.]\n",
      " [-63. -84.]\n",
      " ..., \n",
      " [-49. -71.]\n",
      " [-58. -74.]\n",
      " [-49. -76.]]\n"
     ]
    }
   ],
   "source": [
    "print converted_ap_signal"
   ]
  },
  {
   "cell_type": "code",
   "execution_count": 19,
   "metadata": {
    "collapsed": false
   },
   "outputs": [
    {
     "name": "stdout",
     "output_type": "stream",
     "text": [
      "[[0 0 1 0]\n",
      " [0 0 1 0]\n",
      " [0 0 1 0]\n",
      " ..., \n",
      " [1 0 0 0]\n",
      " [1 0 0 0]\n",
      " [1 0 0 0]]\n"
     ]
    }
   ],
   "source": [
    "print bi_location"
   ]
  },
  {
   "cell_type": "code",
   "execution_count": 20,
   "metadata": {
    "collapsed": false
   },
   "outputs": [],
   "source": [
    "location_num = int(location[np.argmax(location)]) + 1 # 0, 1, 2, 3\n",
    "selected_num = len(selected_ap)\n",
    "hidden_dim = selected_num"
   ]
  },
  {
   "cell_type": "code",
   "execution_count": 21,
   "metadata": {
    "collapsed": false
   },
   "outputs": [
    {
     "name": "stdout",
     "output_type": "stream",
     "text": [
      "4\n",
      "2\n"
     ]
    }
   ],
   "source": [
    "print location_num\n",
    "print selected_num"
   ]
  },
  {
   "cell_type": "code",
   "execution_count": 22,
   "metadata": {
    "collapsed": false
   },
   "outputs": [],
   "source": [
    "tr_x = converted_ap_signal"
   ]
  },
  {
   "cell_type": "code",
   "execution_count": 23,
   "metadata": {
    "collapsed": false
   },
   "outputs": [],
   "source": [
    "tr_y = bi_location"
   ]
  },
  {
   "cell_type": "markdown",
   "metadata": {},
   "source": [
    "# Variable reset"
   ]
  },
  {
   "cell_type": "code",
   "execution_count": 24,
   "metadata": {
    "collapsed": true
   },
   "outputs": [],
   "source": [
    "ap_signal = []\n",
    "ap_address = []\n",
    "location = []\n",
    "ap_lev = []\n",
    "ap_lev_times = []\n",
    "input_num = data_max\n",
    "data_max = 0"
   ]
  },
  {
   "cell_type": "markdown",
   "metadata": {},
   "source": [
    "# Testing data set up"
   ]
  },
  {
   "cell_type": "code",
   "execution_count": 25,
   "metadata": {
    "collapsed": false
   },
   "outputs": [
    {
     "name": "stderr",
     "output_type": "stream",
     "text": [
      "/home/dclabyeop/anaconda2/lib/python2.7/site-packages/ipykernel/__main__.py:9: VisibleDeprecationWarning: using a non-integer number instead of an integer will result in an error in the future\n"
     ]
    }
   ],
   "source": [
    "read_file(filename_te,ap_address, ap_signal, location)\n",
    "\n",
    "get_ap_lev(ap_address,ap_lev)\n",
    "ap_lev_times = get_ap_levtimes(ap_address,ap_lev,ap_lev_times)\n",
    "data_max = ap_lev_times[np.argmax(ap_lev_times)]\n",
    "converted_ap_signal, converted_location = convert_to_selected_ap_array(ap_address,ap_signal,selected_ap,location, data_max)\n",
    "bi_location = make_location_to_binary_array(data_max, converted_location)"
   ]
  },
  {
   "cell_type": "markdown",
   "metadata": {},
   "source": [
    "use_before_data_if_val_0(converted_ap_signal, data_max, selected_ap)"
   ]
  },
  {
   "cell_type": "code",
   "execution_count": 26,
   "metadata": {
    "collapsed": false
   },
   "outputs": [
    {
     "name": "stdout",
     "output_type": "stream",
     "text": [
      "[[-77. -97.]\n",
      " [-73. -95.]\n",
      " [-72. -95.]\n",
      " [-73. -93.]\n",
      " [-73. -91.]\n",
      " [-70. -94.]\n",
      " [-71. -92.]\n",
      " [-69. -94.]\n",
      " [-73. -89.]\n",
      " [-73. -91.]\n",
      " [-72. -95.]\n",
      " [-71. -93.]\n",
      " [-72. -91.]\n",
      " [-67. -91.]\n",
      " [-72. -91.]\n",
      " [-74. -91.]\n",
      " [-65. -90.]\n",
      " [-68. -93.]\n",
      " [-69. -93.]\n",
      " [-68. -91.]\n",
      " [-71. -91.]\n",
      " [-69. -89.]\n",
      " [-66. -90.]\n",
      " [-67. -90.]\n",
      " [-71. -86.]\n",
      " [-69. -86.]\n",
      " [-68. -92.]\n",
      " [-70. -91.]\n",
      " [-71. -87.]\n",
      " [-75. -89.]\n",
      " [-68. -86.]\n",
      " [-67. -91.]\n",
      " [-66. -88.]\n",
      " [-66. -85.]\n",
      " [-69. -86.]\n",
      " [-71. -91.]\n",
      " [-75. -89.]\n",
      " [-78. -89.]\n",
      " [-75. -89.]\n",
      " [-77. -90.]\n",
      " [-73. -87.]\n",
      " [-74. -91.]\n",
      " [-75. -91.]\n",
      " [-77. -89.]\n",
      " [-73. -89.]\n",
      " [-76. -88.]\n",
      " [-75. -88.]\n",
      " [-74. -93.]\n",
      " [-78. -91.]\n",
      " [-69. -91.]\n",
      " [-70. -91.]\n",
      " [-72. -91.]\n",
      " [-66. -88.]\n",
      " [-68. -87.]\n",
      " [-68. -88.]\n",
      " [-66. -89.]\n",
      " [-67. -89.]\n",
      " [-70. -90.]\n",
      " [-70. -89.]\n",
      " [-76. -91.]\n",
      " [-70. -90.]\n",
      " [-69. -89.]\n",
      " [-68. -90.]\n",
      " [-69. -90.]\n",
      " [-72. -90.]\n",
      " [-69. -93.]\n",
      " [-74. -88.]\n",
      " [-71. -91.]\n",
      " [-75. -92.]\n",
      " [-74. -92.]\n",
      " [-55. -75.]\n",
      " [-69. -76.]\n",
      " [-58. -84.]\n",
      " [-55. -88.]\n",
      " [-59. -89.]\n",
      " [-57. -89.]\n",
      " [-65. -91.]\n",
      " [-61. -93.]\n",
      " [-59. -93.]\n",
      " [-59. -84.]\n",
      " [-61. -95.]\n",
      " [-58. -96.]\n",
      " [-62. -87.]\n",
      " [-58. -87.]\n",
      " [-64.   0.]\n",
      " [-61. -81.]\n",
      " [-60. -86.]\n",
      " [-59. -88.]\n",
      " [-63. -90.]\n",
      " [-59. -84.]\n",
      " [-64. -84.]\n",
      " [-60. -90.]\n",
      " [-57. -90.]\n",
      " [-60. -81.]\n",
      " [-58. -83.]\n",
      " [-59. -83.]\n",
      " [-57. -82.]\n",
      " [-59. -82.]\n",
      " [-57. -83.]\n",
      " [-53. -80.]\n",
      " [-56. -80.]\n",
      " [-55. -80.]\n",
      " [-55. -81.]\n",
      " [-57. -81.]\n",
      " [-60. -81.]\n",
      " [-54. -83.]\n",
      " [-56. -83.]\n",
      " [-54. -84.]\n",
      " [-56. -84.]\n",
      " [-58. -81.]\n",
      " [-56. -81.]\n",
      " [-59. -80.]\n",
      " [-35. -68.]\n",
      " [-35. -68.]\n",
      " [-34. -71.]\n",
      " [-35. -73.]\n",
      " [-34. -73.]\n",
      " [-34. -70.]\n",
      " [-35. -70.]\n",
      " [-37. -71.]\n",
      " [-34. -68.]\n",
      " [-37. -68.]\n",
      " [-35. -68.]\n",
      " [-38. -67.]\n",
      " [-35. -74.]\n",
      " [-35. -67.]\n",
      " [-36. -67.]\n",
      " [-34. -69.]\n",
      " [-32. -64.]\n",
      " [-36. -71.]\n",
      " [-37. -73.]\n",
      " [-39. -78.]\n",
      " [-47. -77.]\n",
      " [-51. -77.]\n",
      " [-44. -64.]\n",
      " [-47. -80.]\n",
      " [-54. -63.]\n",
      " [-41. -65.]\n",
      " [-39. -73.]\n",
      " [-45. -67.]\n",
      " [-50. -72.]\n",
      " [-45. -68.]\n",
      " [-50. -68.]\n",
      " [-46. -77.]\n",
      " [-49. -70.]\n",
      " [-53. -70.]\n",
      " [-56. -80.]\n",
      " [-58. -76.]\n",
      " [-55. -81.]\n",
      " [-56. -76.]\n",
      " [-55. -76.]\n",
      " [-57. -77.]\n",
      " [-55. -71.]\n",
      " [-58. -83.]\n",
      " [-51. -70.]\n",
      " [-58. -75.]\n",
      " [-58. -73.]\n",
      " [-51. -73.]\n",
      " [-55. -70.]\n",
      " [-54. -75.]\n",
      " [-56. -80.]\n",
      " [-50. -74.]\n",
      " [-72. -91.]\n",
      " [-78. -91.]\n",
      " [-80. -93.]\n",
      " [-59. -93.]\n",
      " [-65. -85.]\n",
      " [-76. -85.]\n",
      " [-74. -90.]\n",
      " [-74. -90.]\n",
      " [-67. -90.]\n",
      " [-66. -88.]\n",
      " [-67. -88.]\n",
      " [-69. -92.]\n",
      " [-69. -90.]\n",
      " [-65. -86.]\n",
      " [-64. -95.]\n",
      " [-67. -87.]\n",
      " [-68. -87.]\n",
      " [-65. -88.]\n",
      " [-68. -87.]\n",
      " [-69. -87.]\n",
      " [-69. -92.]\n",
      " [-70. -92.]\n",
      " [-66. -87.]\n",
      " [-73. -93.]\n",
      " [-76. -93.]\n",
      " [-67. -93.]\n",
      " [-68. -89.]\n",
      " [-69. -84.]\n",
      " [-74. -93.]\n",
      " [-78. -93.]\n",
      " [-72. -93.]\n",
      " [-70. -71.]\n",
      " [-75.   0.]\n",
      " [-70. -98.]\n",
      " [-72. -98.]\n",
      " [-74. -93.]\n",
      " [-69. -89.]\n",
      " [-70. -91.]\n",
      " [-71. -91.]\n",
      " [-70. -94.]\n",
      " [-72. -92.]\n",
      " [-69. -95.]\n",
      " [-71. -91.]\n",
      " [-69. -92.]\n",
      " [-69. -92.]\n",
      " [-67. -92.]\n",
      " [-67.   0.]\n",
      " [-69. -90.]\n",
      " [-70. -90.]\n",
      " [-70. -93.]\n",
      " [-72. -93.]\n",
      " [-71. -92.]\n",
      " [-68. -92.]\n",
      " [-70. -90.]\n",
      " [-66. -87.]\n",
      " [-68. -87.]\n",
      " [-68. -91.]\n",
      " [-75. -91.]\n",
      " [-72. -88.]\n",
      " [-73. -92.]\n",
      " [-72. -92.]\n",
      " [-67. -94.]\n",
      " [-74. -94.]\n",
      " [-73. -90.]\n",
      " [-73. -92.]\n",
      " [-76. -92.]\n",
      " [-73. -91.]\n",
      " [-74. -90.]\n",
      " [-77. -90.]\n",
      " [-75. -90.]\n",
      " [-72. -89.]\n",
      " [-72. -91.]\n",
      " [-72. -91.]\n",
      " [-70. -91.]\n",
      " [-71. -91.]\n",
      " [-72. -92.]\n",
      " [-72. -90.]\n",
      " [-69. -89.]\n",
      " [-68. -89.]\n",
      " [-73. -84.]\n",
      " [-70. -84.]\n",
      " [-66. -95.]\n",
      " [-67. -90.]\n",
      " [-67. -90.]\n",
      " [-68. -94.]\n",
      " [-69. -92.]\n",
      " [-73. -88.]\n",
      " [-66. -87.]\n",
      " [-70. -87.]\n",
      " [-70. -88.]\n",
      " [-75. -88.]\n",
      " [-81. -93.]\n",
      " [-79. -95.]\n",
      " [-80. -94.]\n",
      " [-77. -94.]\n",
      " [-80. -96.]\n",
      " [-79. -92.]\n",
      " [-80. -92.]\n",
      " [-77. -96.]\n",
      " [-78. -96.]\n",
      " [-75. -96.]\n",
      " [-79.   0.]\n",
      " [-78.   0.]\n",
      " [-76.   0.]\n",
      " [-78.   0.]\n",
      " [-77. -97.]\n",
      " [-77. -94.]\n",
      " [-78. -94.]\n",
      " [-77. -97.]\n",
      " [-78. -93.]\n",
      " [-80. -96.]\n",
      " [-80. -96.]\n",
      " [-67. -92.]\n",
      " [-70. -90.]\n",
      " [-68. -91.]\n",
      " [-68. -91.]\n",
      " [-70. -90.]\n",
      " [-70. -90.]\n",
      " [-66. -93.]\n",
      " [-67. -93.]\n",
      " [-70. -93.]\n",
      " [-66. -89.]\n",
      " [-67. -90.]\n",
      " [-70. -93.]\n",
      " [-68. -96.]\n",
      " [-68. -96.]\n",
      " [-69. -94.]\n",
      " [-68. -94.]\n",
      " [-69. -96.]\n",
      " [-69. -97.]\n",
      " [-68. -95.]\n",
      " [-67. -95.]\n",
      " [-67.   0.]\n",
      " [-72.   0.]]\n"
     ]
    }
   ],
   "source": [
    "print converted_ap_signal"
   ]
  },
  {
   "cell_type": "code",
   "execution_count": 27,
   "metadata": {
    "collapsed": false
   },
   "outputs": [
    {
     "name": "stdout",
     "output_type": "stream",
     "text": [
      "[[0 0 1 0]\n",
      " [0 0 1 0]\n",
      " [0 0 1 0]\n",
      " ..., \n",
      " [0 0 0 1]\n",
      " [0 0 0 1]\n",
      " [0 0 0 1]]\n"
     ]
    }
   ],
   "source": [
    "print bi_location"
   ]
  },
  {
   "cell_type": "code",
   "execution_count": 28,
   "metadata": {
    "collapsed": false
   },
   "outputs": [],
   "source": [
    "te_x = converted_ap_signal"
   ]
  },
  {
   "cell_type": "code",
   "execution_count": 29,
   "metadata": {
    "collapsed": false
   },
   "outputs": [],
   "source": [
    "te_y = bi_location"
   ]
  },
  {
   "cell_type": "code",
   "execution_count": 30,
   "metadata": {
    "collapsed": false
   },
   "outputs": [
    {
     "name": "stdout",
     "output_type": "stream",
     "text": [
      "['00:26:66:d0:c4:dc', '00:27:1c:08:41:16']\n",
      "296\n"
     ]
    }
   ],
   "source": [
    "print selected_ap\n",
    "print data_max"
   ]
  },
  {
   "cell_type": "markdown",
   "metadata": {},
   "source": [
    "# Neural network algorithm : input ap signal layer +2 hidden layer+softmax"
   ]
  },
  {
   "cell_type": "code",
   "execution_count": 31,
   "metadata": {
    "collapsed": false
   },
   "outputs": [],
   "source": [
    "hidden_dim =  int(math.sqrt((location_num+2)*input_num)+2*math.sqrt(input_num/location_num+2))\n",
    "hidden_dim2 =  int(location_num*math.sqrt(input_num/location_num+2))\n",
    "\n",
    "W = weight_variable([selected_num, hidden_dim])\n",
    "b = bias_variable([hidden_dim])\n",
    "\n",
    "W2 = weight_variable([hidden_dim,hidden_dim2])\n",
    "b2 = bias_variable([hidden_dim2])\n",
    "\n",
    "W3 = weight_variable([hidden_dim2,location_num])\n",
    "b3 = bias_variable([location_num])\n",
    "\n",
    "X = tf.placeholder(\"float\",[None, selected_num])\n",
    "Y = tf.placeholder(\"float\",[None,location_num])\n",
    "\n",
    "hidden = tf.nn.relu(tf.matmul(X, W)+b)\n",
    "hidden2 = tf.nn.relu(tf.matmul(hidden,W2)+b2)\n",
    "sfmax = tf.nn.softmax(tf.matmul(hidden2,W3)+b3)\n",
    "\n",
    "cross_entropy =tf.reduce_mean(-tf.reduce_sum(Y*tf.log(sfmax + 1e-10)))\n",
    "train = tf.train.AdamOptimizer(learning_rate).minimize(cross_entropy)\n",
    "correct_prediction = tf.equal(tf.argmax(sfmax,1), tf.argmax(Y,1))\n",
    "accuracy = tf.reduce_mean(tf.cast(correct_prediction, tf.float32))\n",
    "#AdagradOptimizer , AdamOptimizer, GradientDescentOptimizer"
   ]
  },
  {
   "cell_type": "code",
   "execution_count": 32,
   "metadata": {
    "collapsed": false,
    "scrolled": false
   },
   "outputs": [
    {
     "name": "stdout",
     "output_type": "stream",
     "text": [
      "23.6486494541\n",
      "52.0270287991\n",
      "53.3783793449\n",
      "56.0810804367\n",
      "54.3918967247\n",
      "57.7702701092\n",
      "57.7702701092\n",
      "55.7432472706\n",
      "57.0945978165\n",
      "58.1081092358\n",
      "52.7027070522\n",
      "57.4324369431\n",
      "57.0945978165\n",
      "57.0945978165\n",
      "53.7162125111\n",
      "53.7162125111\n",
      "53.716224432\n",
      "58.5904991627\n"
     ]
    }
   ],
   "source": [
    "sess = tf.Session()\n",
    "sess.run(tf.initialize_all_variables())\n",
    "\n",
    "start_time = time.time()\n",
    "for step in range(training_step+1):\n",
    "    result = sess.run(train, feed_dict = {X: tr_x, Y: tr_y})\n",
    "    if (step % 200) == 0:\n",
    "        print sess.run(accuracy,feed_dict = {X: te_x, Y: te_y})*100\n",
    "\n",
    "print sess.run(accuracy,feed_dict = {X: te_x, Y: te_y})*100\n",
    "excute_time = time.time() - start_time\n",
    "sess.close()\n",
    "print excute_time"
   ]
  },
  {
   "cell_type": "code",
   "execution_count": null,
   "metadata": {
    "collapsed": true
   },
   "outputs": [],
   "source": []
  }
 ],
 "metadata": {
  "anaconda-cloud": {},
  "kernelspec": {
   "display_name": "Python [default]",
   "language": "python",
   "name": "python2"
  },
  "language_info": {
   "codemirror_mode": {
    "name": "ipython",
    "version": 2
   },
   "file_extension": ".py",
   "mimetype": "text/x-python",
   "name": "python",
   "nbconvert_exporter": "python",
   "pygments_lexer": "ipython2",
   "version": "2.7.12"
  }
 },
 "nbformat": 4,
 "nbformat_minor": 0
}
